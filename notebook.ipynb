{
 "cells": [
  {
   "cell_type": "markdown",
   "metadata": {},
   "source": [
    "# ABC Insurance Customer Data Analysis and Predictive Modeling"
   ]
  },
  {
   "cell_type": "markdown",
   "metadata": {},
   "source": [
    "## Background Story  "
   ]
  },
  {
   "cell_type": "markdown",
   "metadata": {},
   "source": [
    "ABC Insurance, once a market leader, has been noticing a worrying trend in its customer base – a gradual but steady increase in customer churn, alongside a static, sometimes faltering, customer lifetime value. The CEO, in a recent town hall, made it clear: \"Our customers are the lifeblood of our business. Understanding them isn't just part of the job — it is the job.\"\n",
    "\n",
    "Your task comes directly from the top: The CEO, in collaboration with the head of the marketing department, has formally requested a comprehensive analysis to unearth the hidden patterns within the customer data. They believe that the data holds the key to revitalizing ABC Insurance's customer engagement strategy, tailoring product offerings to individual needs, and ultimately turning the tide on churn."
   ]
  },
  {
   "cell_type": "markdown",
   "metadata": {},
   "source": [
    "## Data Description"
   ]
  },
  {
   "cell_type": "markdown",
   "metadata": {},
   "source": [
    "The IT extracted three tables that contains the available information asked by the Head of Marketing: ABC_df_costumer, ABC_df_demographics, ABC_df_termination. \n",
    "\n",
    "Please download the data from: https://novasbe365-my.sharepoint.com/:f:/g/personal/nuno_silva_novasbe_pt/Ekl41SdwtkVOiW52LsaEy5QBo1mjQXHZKwKMeNSJRbEu3g?e=tgkSYD "
   ]
  },
  {
   "cell_type": "markdown",
   "metadata": {},
   "source": [
    "### Dataframes details "
   ]
  },
  {
   "cell_type": "markdown",
   "metadata": {},
   "source": [
    "#### df_customer:\n",
    "\n",
    "Contains details about the customers, including their ID, address, policy start dates, and the current annual amounts for car, health, and house insurance.\n",
    "\n",
    "##### Variables\n",
    "INDIVIDUAL_ID: Unique identifier for the customer.\n",
    "\n",
    "ADDRESS_ID: Address identifier for the customer.\n",
    "\n",
    "CUST_ORIG_DATE: The original date when the customer joined.\n",
    "\n",
    "DATE_OF_BIRTH: Customer's date of birth.\n",
    "\n",
    "SOCIAL_SECURITY_NUMBER: Customer's SSN (for identification).\n",
    "\n",
    "CUST_START_DATE: The start date of the customer's current policy.\n",
    "\n",
    "CURR_ANN_AMT_CAR: Current annual amount paid for car insurance.\n",
    "\n",
    "CURR_ANN_AMT_HEALTH: Current annual amount paid for health insurance.\n",
    "\n",
    "CURR_ANN_AMT_HOUSE: Current annual amount paid for house insurance.\n"
   ]
  },
  {
   "cell_type": "markdown",
   "metadata": {},
   "source": [
    "#### df_demographics:\n",
    "Includes demographic information about the customers, such as income, family status, home ownership, and credit rating.\n",
    "\n",
    "##### Variables\n",
    "\n",
    "INDIVIDUAL_ID: Unique identifier for the customer (links to df_customer).\n",
    "\n",
    "INCOME: Customer's income.\n",
    "\n",
    "HAS_CHILDREN: Indicates if the customer has children.\n",
    "\n",
    "LENGTH_OF_RESIDENCE: How long the customer has lived in their current residence.\n",
    "\n",
    "MARITAL_STATUS: Customer's marital status.\n",
    "\n",
    "HOME_MARKET_VALUE: Market value of the customer's home.\n",
    "\n",
    "HOME_OWNER: Indicates if the customer owns their home.\n",
    "\n",
    "COLLEGE_DEGREE: Indicates if the customer has a college degree.\n",
    "\n",
    "GOOD_CREDIT: Indicates if the customer has good credit.\n",
    "\n",
    "ADVANCED_STUDIES: Indicates if the customer has pursued advanced studies.\n"
   ]
  },
  {
   "cell_type": "markdown",
   "metadata": {},
   "source": [
    "#### df_termination:\n",
    "\n",
    "Lists customers who have suspended their policies, including the suspension date.\n",
    "\n",
    "##### Variables\n",
    "\n",
    "INDIVIDUAL_ID: Unique identifier for the customer (links to df_customer).\n",
    "\n",
    "SUSPD_DATE: The date when the customer's policy was suspended."
   ]
  },
  {
   "cell_type": "markdown",
   "metadata": {},
   "source": [
    "## Part 1: Data Quality and Customer Understanding \n",
    "\n",
    "#### Background: Before delving into sophisticated analyses and model building, ensuring the integrity and quality of data is paramount. The provided datasets are critical for understanding ABC Insurance's clientele but may contain issues affecting their utility for further analysis."
   ]
  },
  {
   "cell_type": "markdown",
   "metadata": {},
   "source": [
    "#### 1.1 The exploratory data analysis of the data"
   ]
  },
  {
   "cell_type": "code",
   "execution_count": 1,
   "metadata": {},
   "outputs": [],
   "source": [
    "#load the required libraries\n",
    "import pandas as pd\n",
    "import numpy as np\n",
    "import matplotlib.pyplot as plt\n",
    "import seaborn as sns\n",
    "import os\n",
    "from datetime import datetime"
   ]
  },
  {
   "cell_type": "markdown",
   "metadata": {},
   "source": [
    "#### Load of the datasets and basic statistics"
   ]
  },
  {
   "cell_type": "markdown",
   "metadata": {},
   "source": [
    "#### 1) CUSTOMERS DATASET"
   ]
  },
  {
   "cell_type": "code",
   "execution_count": 2,
   "metadata": {},
   "outputs": [
    {
     "name": "stderr",
     "output_type": "stream",
     "text": [
      "/var/folders/51/kvxxh0pn2p9g4w8qy0z706n40000gn/T/ipykernel_72340/2167222107.py:3: DtypeWarning: Columns (6) have mixed types. Specify dtype option on import or set low_memory=False.\n",
      "  df_customer = pd.read_csv(file_path)\n"
     ]
    },
    {
     "data": {
      "text/html": [
       "<div>\n",
       "<style scoped>\n",
       "    .dataframe tbody tr th:only-of-type {\n",
       "        vertical-align: middle;\n",
       "    }\n",
       "\n",
       "    .dataframe tbody tr th {\n",
       "        vertical-align: top;\n",
       "    }\n",
       "\n",
       "    .dataframe thead th {\n",
       "        text-align: right;\n",
       "    }\n",
       "</style>\n",
       "<table border=\"1\" class=\"dataframe\">\n",
       "  <thead>\n",
       "    <tr style=\"text-align: right;\">\n",
       "      <th></th>\n",
       "      <th>Unnamed: 0</th>\n",
       "      <th>INDIVIDUAL_ID</th>\n",
       "      <th>ADDRESS_ID</th>\n",
       "      <th>CUST_ORIG_DATE</th>\n",
       "      <th>DATE_OF_BIRTH</th>\n",
       "      <th>SOCIAL_SECURITY_NUMBER</th>\n",
       "      <th>CUST_START_DATE</th>\n",
       "      <th>CURR_ANN_AMT_CAR</th>\n",
       "      <th>CURR_ANN_AMT_HEALTH</th>\n",
       "      <th>CURR_ANN_AMT_HOUSE</th>\n",
       "    </tr>\n",
       "  </thead>\n",
       "  <tbody>\n",
       "    <tr>\n",
       "      <th>0</th>\n",
       "      <td>0</td>\n",
       "      <td>2.213000e+11</td>\n",
       "      <td>5.213000e+11</td>\n",
       "      <td>2018-12-09</td>\n",
       "      <td>1978-06-23</td>\n",
       "      <td>608-XX-7640</td>\n",
       "      <td>2018-12-09</td>\n",
       "      <td>1318.877997</td>\n",
       "      <td>517.999317</td>\n",
       "      <td>411</td>\n",
       "    </tr>\n",
       "    <tr>\n",
       "      <th>1</th>\n",
       "      <td>1</td>\n",
       "      <td>2.213001e+11</td>\n",
       "      <td>5.213001e+11</td>\n",
       "      <td>2018-01-02</td>\n",
       "      <td>1950-05-30</td>\n",
       "      <td>342-XX-6908</td>\n",
       "      <td>2018-01-02</td>\n",
       "      <td>1474.199182</td>\n",
       "      <td>558.417779</td>\n",
       "      <td>414</td>\n",
       "    </tr>\n",
       "    <tr>\n",
       "      <th>2</th>\n",
       "      <td>2</td>\n",
       "      <td>2.213007e+11</td>\n",
       "      <td>5.213002e+11</td>\n",
       "      <td>2009-09-23</td>\n",
       "      <td>1967-07-07</td>\n",
       "      <td>240-XX-9224</td>\n",
       "      <td>2009-09-23</td>\n",
       "      <td>1467.375112</td>\n",
       "      <td>701.649310</td>\n",
       "      <td>442</td>\n",
       "    </tr>\n",
       "    <tr>\n",
       "      <th>3</th>\n",
       "      <td>3</td>\n",
       "      <td>2.213016e+11</td>\n",
       "      <td>5.213006e+11</td>\n",
       "      <td>2022-07-25</td>\n",
       "      <td>1969-05-25</td>\n",
       "      <td>775-XX-6249</td>\n",
       "      <td>2022-07-25</td>\n",
       "      <td>1492.409561</td>\n",
       "      <td>401.517490</td>\n",
       "      <td>463</td>\n",
       "    </tr>\n",
       "    <tr>\n",
       "      <th>4</th>\n",
       "      <td>4</td>\n",
       "      <td>2.213016e+11</td>\n",
       "      <td>5.213006e+11</td>\n",
       "      <td>2006-10-11</td>\n",
       "      <td>1972-09-25</td>\n",
       "      <td>629-XX-7298</td>\n",
       "      <td>2006-10-11</td>\n",
       "      <td>1284.633494</td>\n",
       "      <td>772.857222</td>\n",
       "      <td>366</td>\n",
       "    </tr>\n",
       "  </tbody>\n",
       "</table>\n",
       "</div>"
      ],
      "text/plain": [
       "   Unnamed: 0  INDIVIDUAL_ID    ADDRESS_ID CUST_ORIG_DATE DATE_OF_BIRTH  \\\n",
       "0           0   2.213000e+11  5.213000e+11     2018-12-09    1978-06-23   \n",
       "1           1   2.213001e+11  5.213001e+11     2018-01-02    1950-05-30   \n",
       "2           2   2.213007e+11  5.213002e+11     2009-09-23    1967-07-07   \n",
       "3           3   2.213016e+11  5.213006e+11     2022-07-25    1969-05-25   \n",
       "4           4   2.213016e+11  5.213006e+11     2006-10-11    1972-09-25   \n",
       "\n",
       "  SOCIAL_SECURITY_NUMBER CUST_START_DATE  CURR_ANN_AMT_CAR  \\\n",
       "0            608-XX-7640      2018-12-09       1318.877997   \n",
       "1            342-XX-6908      2018-01-02       1474.199182   \n",
       "2            240-XX-9224      2009-09-23       1467.375112   \n",
       "3            775-XX-6249      2022-07-25       1492.409561   \n",
       "4            629-XX-7298      2006-10-11       1284.633494   \n",
       "\n",
       "   CURR_ANN_AMT_HEALTH  CURR_ANN_AMT_HOUSE  \n",
       "0           517.999317                 411  \n",
       "1           558.417779                 414  \n",
       "2           701.649310                 442  \n",
       "3           401.517490                 463  \n",
       "4           772.857222                 366  "
      ]
     },
     "execution_count": 2,
     "metadata": {},
     "output_type": "execute_result"
    }
   ],
   "source": [
    "#load the customer dataset\n",
    "file_path = os.path.join(\"data\",\"ABC_df_customer.csv\")\n",
    "df_customer = pd.read_csv(file_path)\n",
    "df_customer.head()"
   ]
  },
  {
   "cell_type": "code",
   "execution_count": null,
   "metadata": {},
   "outputs": [],
   "source": []
  }
 ],
 "metadata": {
  "kernelspec": {
   "display_name": "base",
   "language": "python",
   "name": "python3"
  },
  "language_info": {
   "codemirror_mode": {
    "name": "ipython",
    "version": 3
   },
   "file_extension": ".py",
   "mimetype": "text/x-python",
   "name": "python",
   "nbconvert_exporter": "python",
   "pygments_lexer": "ipython3",
   "version": "3.11.3"
  },
  "orig_nbformat": 4
 },
 "nbformat": 4,
 "nbformat_minor": 2
}
