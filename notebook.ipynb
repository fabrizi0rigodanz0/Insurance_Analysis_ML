{
 "cells": [
  {
   "cell_type": "markdown",
   "metadata": {},
   "source": [
    "# ABC Insurance Customer Data Analysis and Predictive Modeling"
   ]
  },
  {
   "cell_type": "markdown",
   "metadata": {},
   "source": [
    "## Background Story  "
   ]
  },
  {
   "cell_type": "markdown",
   "metadata": {},
   "source": [
    "ABC Insurance, once a market leader, has been noticing a worrying trend in its customer base – a gradual but steady increase in customer churn, alongside a static, sometimes faltering, customer lifetime value. The CEO, in a recent town hall, made it clear: \"Our customers are the lifeblood of our business. Understanding them isn't just part of the job — it is the job.\"\n",
    "\n",
    "Your task comes directly from the top: The CEO, in collaboration with the head of the marketing department, has formally requested a comprehensive analysis to unearth the hidden patterns within the customer data. They believe that the data holds the key to revitalizing ABC Insurance's customer engagement strategy, tailoring product offerings to individual needs, and ultimately turning the tide on churn."
   ]
  },
  {
   "cell_type": "markdown",
   "metadata": {},
   "source": [
    "## Data Description"
   ]
  },
  {
   "cell_type": "markdown",
   "metadata": {},
   "source": [
    "The IT extracted three tables that contains the available information asked by the Head of Marketing: ABC_df_costumer, ABC_df_demographics, ABC_df_termination. \n",
    "\n",
    "Please download the data from: https://novasbe365-my.sharepoint.com/:f:/g/personal/nuno_silva_novasbe_pt/Ekl41SdwtkVOiW52LsaEy5QBo1mjQXHZKwKMeNSJRbEu3g?e=tgkSYD "
   ]
  },
  {
   "cell_type": "markdown",
   "metadata": {},
   "source": [
    "### Dataframes details "
   ]
  },
  {
   "cell_type": "markdown",
   "metadata": {},
   "source": [
    "#### df_customer:\n",
    "\n",
    "Contains details about the customers, including their ID, address, policy start dates, and the current annual amounts for car, health, and house insurance.\n",
    "\n",
    "##### Variables\n",
    "INDIVIDUAL_ID: Unique identifier for the customer.\n",
    "\n",
    "ADDRESS_ID: Address identifier for the customer.\n",
    "\n",
    "CUST_ORIG_DATE: The original date when the customer joined.\n",
    "\n",
    "DATE_OF_BIRTH: Customer's date of birth.\n",
    "\n",
    "SOCIAL_SECURITY_NUMBER: Customer's SSN (for identification).\n",
    "\n",
    "CUST_START_DATE: The start date of the customer's current policy.\n",
    "\n",
    "CURR_ANN_AMT_CAR: Current annual amount paid for car insurance.\n",
    "\n",
    "CURR_ANN_AMT_HEALTH: Current annual amount paid for health insurance.\n",
    "\n",
    "CURR_ANN_AMT_HOUSE: Current annual amount paid for house insurance.\n"
   ]
  },
  {
   "cell_type": "markdown",
   "metadata": {},
   "source": [
    "#### df_demographics:\n",
    "Includes demographic information about the customers, such as income, family status, home ownership, and credit rating.\n",
    "\n",
    "##### Variables\n",
    "\n",
    "INDIVIDUAL_ID: Unique identifier for the customer (links to df_customer).\n",
    "\n",
    "INCOME: Customer's income.\n",
    "\n",
    "HAS_CHILDREN: Indicates if the customer has children.\n",
    "\n",
    "LENGTH_OF_RESIDENCE: How long the customer has lived in their current residence.\n",
    "\n",
    "MARITAL_STATUS: Customer's marital status.\n",
    "\n",
    "HOME_MARKET_VALUE: Market value of the customer's home.\n",
    "\n",
    "HOME_OWNER: Indicates if the customer owns their home.\n",
    "\n",
    "COLLEGE_DEGREE: Indicates if the customer has a college degree.\n",
    "\n",
    "GOOD_CREDIT: Indicates if the customer has good credit.\n",
    "\n",
    "ADVANCED_STUDIES: Indicates if the customer has pursued advanced studies.\n"
   ]
  },
  {
   "cell_type": "markdown",
   "metadata": {},
   "source": [
    "#### df_termination:\n",
    "\n",
    "Lists customers who have suspended their policies, including the suspension date.\n",
    "\n",
    "##### Variables\n",
    "\n",
    "INDIVIDUAL_ID: Unique identifier for the customer (links to df_customer).\n",
    "\n",
    "SUSPD_DATE: The date when the customer's policy was suspended."
   ]
  },
  {
   "cell_type": "markdown",
   "metadata": {},
   "source": [
    "## Part 1: Data Quality and Customer Understanding \n",
    "\n",
    "#### Background: Before delving into sophisticated analyses and model building, ensuring the integrity and quality of data is paramount. The provided datasets are critical for understanding ABC Insurance's clientele but may contain issues affecting their utility for further analysis."
   ]
  },
  {
   "cell_type": "markdown",
   "metadata": {},
   "source": [
    "#### 1.1 The exploratory data analysis of the data"
   ]
  },
  {
   "cell_type": "code",
   "execution_count": 1,
   "metadata": {},
   "outputs": [],
   "source": [
    "#load the required libraries\n",
    "import pandas as pd\n",
    "import numpy as np\n",
    "import matplotlib.pyplot as plt\n",
    "import seaborn as sns\n",
    "import os\n",
    "from datetime import datetime"
   ]
  },
  {
   "cell_type": "markdown",
   "metadata": {},
   "source": [
    "#### Load of the datasets and basic statistics"
   ]
  },
  {
   "cell_type": "markdown",
   "metadata": {},
   "source": [
    "#### 1) CUSTOMERS DATASET"
   ]
  },
  {
   "cell_type": "code",
   "execution_count": 2,
   "metadata": {},
   "outputs": [
    {
     "name": "stderr",
     "output_type": "stream",
     "text": [
      "/var/folders/51/kvxxh0pn2p9g4w8qy0z706n40000gn/T/ipykernel_75808/2167222107.py:3: DtypeWarning: Columns (6) have mixed types. Specify dtype option on import or set low_memory=False.\n",
      "  df_customer = pd.read_csv(file_path)\n"
     ]
    },
    {
     "data": {
      "text/html": [
       "<div>\n",
       "<style scoped>\n",
       "    .dataframe tbody tr th:only-of-type {\n",
       "        vertical-align: middle;\n",
       "    }\n",
       "\n",
       "    .dataframe tbody tr th {\n",
       "        vertical-align: top;\n",
       "    }\n",
       "\n",
       "    .dataframe thead th {\n",
       "        text-align: right;\n",
       "    }\n",
       "</style>\n",
       "<table border=\"1\" class=\"dataframe\">\n",
       "  <thead>\n",
       "    <tr style=\"text-align: right;\">\n",
       "      <th></th>\n",
       "      <th>Unnamed: 0</th>\n",
       "      <th>INDIVIDUAL_ID</th>\n",
       "      <th>ADDRESS_ID</th>\n",
       "      <th>CUST_ORIG_DATE</th>\n",
       "      <th>DATE_OF_BIRTH</th>\n",
       "      <th>SOCIAL_SECURITY_NUMBER</th>\n",
       "      <th>CUST_START_DATE</th>\n",
       "      <th>CURR_ANN_AMT_CAR</th>\n",
       "      <th>CURR_ANN_AMT_HEALTH</th>\n",
       "      <th>CURR_ANN_AMT_HOUSE</th>\n",
       "    </tr>\n",
       "  </thead>\n",
       "  <tbody>\n",
       "    <tr>\n",
       "      <th>0</th>\n",
       "      <td>0</td>\n",
       "      <td>2.213000e+11</td>\n",
       "      <td>5.213000e+11</td>\n",
       "      <td>2018-12-09</td>\n",
       "      <td>1978-06-23</td>\n",
       "      <td>608-XX-7640</td>\n",
       "      <td>2018-12-09</td>\n",
       "      <td>1318.877997</td>\n",
       "      <td>517.999317</td>\n",
       "      <td>411</td>\n",
       "    </tr>\n",
       "    <tr>\n",
       "      <th>1</th>\n",
       "      <td>1</td>\n",
       "      <td>2.213001e+11</td>\n",
       "      <td>5.213001e+11</td>\n",
       "      <td>2018-01-02</td>\n",
       "      <td>1950-05-30</td>\n",
       "      <td>342-XX-6908</td>\n",
       "      <td>2018-01-02</td>\n",
       "      <td>1474.199182</td>\n",
       "      <td>558.417779</td>\n",
       "      <td>414</td>\n",
       "    </tr>\n",
       "    <tr>\n",
       "      <th>2</th>\n",
       "      <td>2</td>\n",
       "      <td>2.213007e+11</td>\n",
       "      <td>5.213002e+11</td>\n",
       "      <td>2009-09-23</td>\n",
       "      <td>1967-07-07</td>\n",
       "      <td>240-XX-9224</td>\n",
       "      <td>2009-09-23</td>\n",
       "      <td>1467.375112</td>\n",
       "      <td>701.649310</td>\n",
       "      <td>442</td>\n",
       "    </tr>\n",
       "    <tr>\n",
       "      <th>3</th>\n",
       "      <td>3</td>\n",
       "      <td>2.213016e+11</td>\n",
       "      <td>5.213006e+11</td>\n",
       "      <td>2022-07-25</td>\n",
       "      <td>1969-05-25</td>\n",
       "      <td>775-XX-6249</td>\n",
       "      <td>2022-07-25</td>\n",
       "      <td>1492.409561</td>\n",
       "      <td>401.517490</td>\n",
       "      <td>463</td>\n",
       "    </tr>\n",
       "    <tr>\n",
       "      <th>4</th>\n",
       "      <td>4</td>\n",
       "      <td>2.213016e+11</td>\n",
       "      <td>5.213006e+11</td>\n",
       "      <td>2006-10-11</td>\n",
       "      <td>1972-09-25</td>\n",
       "      <td>629-XX-7298</td>\n",
       "      <td>2006-10-11</td>\n",
       "      <td>1284.633494</td>\n",
       "      <td>772.857222</td>\n",
       "      <td>366</td>\n",
       "    </tr>\n",
       "  </tbody>\n",
       "</table>\n",
       "</div>"
      ],
      "text/plain": [
       "   Unnamed: 0  INDIVIDUAL_ID    ADDRESS_ID CUST_ORIG_DATE DATE_OF_BIRTH  \\\n",
       "0           0   2.213000e+11  5.213000e+11     2018-12-09    1978-06-23   \n",
       "1           1   2.213001e+11  5.213001e+11     2018-01-02    1950-05-30   \n",
       "2           2   2.213007e+11  5.213002e+11     2009-09-23    1967-07-07   \n",
       "3           3   2.213016e+11  5.213006e+11     2022-07-25    1969-05-25   \n",
       "4           4   2.213016e+11  5.213006e+11     2006-10-11    1972-09-25   \n",
       "\n",
       "  SOCIAL_SECURITY_NUMBER CUST_START_DATE  CURR_ANN_AMT_CAR  \\\n",
       "0            608-XX-7640      2018-12-09       1318.877997   \n",
       "1            342-XX-6908      2018-01-02       1474.199182   \n",
       "2            240-XX-9224      2009-09-23       1467.375112   \n",
       "3            775-XX-6249      2022-07-25       1492.409561   \n",
       "4            629-XX-7298      2006-10-11       1284.633494   \n",
       "\n",
       "   CURR_ANN_AMT_HEALTH  CURR_ANN_AMT_HOUSE  \n",
       "0           517.999317                 411  \n",
       "1           558.417779                 414  \n",
       "2           701.649310                 442  \n",
       "3           401.517490                 463  \n",
       "4           772.857222                 366  "
      ]
     },
     "execution_count": 2,
     "metadata": {},
     "output_type": "execute_result"
    }
   ],
   "source": [
    "#load the customer dataset\n",
    "file_path = os.path.join(\"data\",\"ABC_df_customer.csv\")\n",
    "df_customer = pd.read_csv(file_path)\n",
    "df_customer.head()"
   ]
  },
  {
   "cell_type": "code",
   "execution_count": 3,
   "metadata": {},
   "outputs": [
    {
     "data": {
      "text/html": [
       "<div>\n",
       "<style scoped>\n",
       "    .dataframe tbody tr th:only-of-type {\n",
       "        vertical-align: middle;\n",
       "    }\n",
       "\n",
       "    .dataframe tbody tr th {\n",
       "        vertical-align: top;\n",
       "    }\n",
       "\n",
       "    .dataframe thead th {\n",
       "        text-align: right;\n",
       "    }\n",
       "</style>\n",
       "<table border=\"1\" class=\"dataframe\">\n",
       "  <thead>\n",
       "    <tr style=\"text-align: right;\">\n",
       "      <th></th>\n",
       "      <th>Unnamed: 0</th>\n",
       "      <th>INDIVIDUAL_ID</th>\n",
       "      <th>ADDRESS_ID</th>\n",
       "      <th>CUST_ORIG_DATE</th>\n",
       "      <th>DATE_OF_BIRTH</th>\n",
       "      <th>SOCIAL_SECURITY_NUMBER</th>\n",
       "      <th>CUST_START_DATE</th>\n",
       "      <th>CURR_ANN_AMT_CAR</th>\n",
       "      <th>CURR_ANN_AMT_HEALTH</th>\n",
       "      <th>CURR_ANN_AMT_HOUSE</th>\n",
       "    </tr>\n",
       "  </thead>\n",
       "  <tbody>\n",
       "    <tr>\n",
       "      <th>2303119</th>\n",
       "      <td>2303119</td>\n",
       "      <td>2.213003e+11</td>\n",
       "      <td>5.213001e+11</td>\n",
       "      <td>2014-02-15</td>\n",
       "      <td>1967-07-07</td>\n",
       "      <td>882-XX-4608</td>\n",
       "      <td>NaN</td>\n",
       "      <td>1361.290041</td>\n",
       "      <td>623.368014</td>\n",
       "      <td>426</td>\n",
       "    </tr>\n",
       "    <tr>\n",
       "      <th>2303120</th>\n",
       "      <td>2303120</td>\n",
       "      <td>2.213031e+11</td>\n",
       "      <td>5.213013e+11</td>\n",
       "      <td>2022-02-16</td>\n",
       "      <td>1965-05-26</td>\n",
       "      <td>709-XX-1726</td>\n",
       "      <td>NaN</td>\n",
       "      <td>1563.921158</td>\n",
       "      <td>997.482828</td>\n",
       "      <td>507</td>\n",
       "    </tr>\n",
       "    <tr>\n",
       "      <th>2303121</th>\n",
       "      <td>2303121</td>\n",
       "      <td>2.213013e+11</td>\n",
       "      <td>5.213005e+11</td>\n",
       "      <td>2019-08-16</td>\n",
       "      <td>1967-07-07</td>\n",
       "      <td>317-XX-1336</td>\n",
       "      <td>NaN</td>\n",
       "      <td>1128.048444</td>\n",
       "      <td>393.819352</td>\n",
       "      <td>300</td>\n",
       "    </tr>\n",
       "    <tr>\n",
       "      <th>2303122</th>\n",
       "      <td>2303122</td>\n",
       "      <td>2.213021e+11</td>\n",
       "      <td>5.213008e+11</td>\n",
       "      <td>2005-09-11</td>\n",
       "      <td>1948-10-31</td>\n",
       "      <td>110-XX-9215</td>\n",
       "      <td>NaN</td>\n",
       "      <td>1380.204016</td>\n",
       "      <td>556.785305</td>\n",
       "      <td>424</td>\n",
       "    </tr>\n",
       "    <tr>\n",
       "      <th>2303123</th>\n",
       "      <td>2303123</td>\n",
       "      <td>2.213025e+11</td>\n",
       "      <td>5.213009e+11</td>\n",
       "      <td>2008-09-10</td>\n",
       "      <td>1981-04-22</td>\n",
       "      <td>102-XX-6555</td>\n",
       "      <td>NaN</td>\n",
       "      <td>1348.650555</td>\n",
       "      <td>294.226518</td>\n",
       "      <td>408</td>\n",
       "    </tr>\n",
       "  </tbody>\n",
       "</table>\n",
       "</div>"
      ],
      "text/plain": [
       "         Unnamed: 0  INDIVIDUAL_ID    ADDRESS_ID CUST_ORIG_DATE DATE_OF_BIRTH  \\\n",
       "2303119     2303119   2.213003e+11  5.213001e+11     2014-02-15    1967-07-07   \n",
       "2303120     2303120   2.213031e+11  5.213013e+11     2022-02-16    1965-05-26   \n",
       "2303121     2303121   2.213013e+11  5.213005e+11     2019-08-16    1967-07-07   \n",
       "2303122     2303122   2.213021e+11  5.213008e+11     2005-09-11    1948-10-31   \n",
       "2303123     2303123   2.213025e+11  5.213009e+11     2008-09-10    1981-04-22   \n",
       "\n",
       "        SOCIAL_SECURITY_NUMBER CUST_START_DATE  CURR_ANN_AMT_CAR  \\\n",
       "2303119            882-XX-4608             NaN       1361.290041   \n",
       "2303120            709-XX-1726             NaN       1563.921158   \n",
       "2303121            317-XX-1336             NaN       1128.048444   \n",
       "2303122            110-XX-9215             NaN       1380.204016   \n",
       "2303123            102-XX-6555             NaN       1348.650555   \n",
       "\n",
       "         CURR_ANN_AMT_HEALTH  CURR_ANN_AMT_HOUSE  \n",
       "2303119           623.368014                 426  \n",
       "2303120           997.482828                 507  \n",
       "2303121           393.819352                 300  \n",
       "2303122           556.785305                 424  \n",
       "2303123           294.226518                 408  "
      ]
     },
     "execution_count": 3,
     "metadata": {},
     "output_type": "execute_result"
    }
   ],
   "source": [
    "df_customer.tail()"
   ]
  },
  {
   "cell_type": "code",
   "execution_count": 4,
   "metadata": {},
   "outputs": [
    {
     "data": {
      "text/plain": [
       "(2303124, 10)"
      ]
     },
     "execution_count": 4,
     "metadata": {},
     "output_type": "execute_result"
    }
   ],
   "source": [
    "df_customer.shape\n"
   ]
  },
  {
   "cell_type": "code",
   "execution_count": 5,
   "metadata": {},
   "outputs": [
    {
     "name": "stdout",
     "output_type": "stream",
     "text": [
      "<class 'pandas.core.frame.DataFrame'>\n",
      "RangeIndex: 2303124 entries, 0 to 2303123\n",
      "Data columns (total 10 columns):\n",
      " #   Column                  Dtype  \n",
      "---  ------                  -----  \n",
      " 0   Unnamed: 0              int64  \n",
      " 1   INDIVIDUAL_ID           float64\n",
      " 2   ADDRESS_ID              float64\n",
      " 3   CUST_ORIG_DATE          object \n",
      " 4   DATE_OF_BIRTH           object \n",
      " 5   SOCIAL_SECURITY_NUMBER  object \n",
      " 6   CUST_START_DATE         object \n",
      " 7   CURR_ANN_AMT_CAR        float64\n",
      " 8   CURR_ANN_AMT_HEALTH     float64\n",
      " 9   CURR_ANN_AMT_HOUSE      int64  \n",
      "dtypes: float64(4), int64(2), object(4)\n",
      "memory usage: 175.7+ MB\n"
     ]
    }
   ],
   "source": [
    "df_customer.info()"
   ]
  },
  {
   "cell_type": "code",
   "execution_count": 6,
   "metadata": {},
   "outputs": [
    {
     "data": {
      "text/html": [
       "<div>\n",
       "<style scoped>\n",
       "    .dataframe tbody tr th:only-of-type {\n",
       "        vertical-align: middle;\n",
       "    }\n",
       "\n",
       "    .dataframe tbody tr th {\n",
       "        vertical-align: top;\n",
       "    }\n",
       "\n",
       "    .dataframe thead th {\n",
       "        text-align: right;\n",
       "    }\n",
       "</style>\n",
       "<table border=\"1\" class=\"dataframe\">\n",
       "  <thead>\n",
       "    <tr style=\"text-align: right;\">\n",
       "      <th></th>\n",
       "      <th>Unnamed: 0</th>\n",
       "      <th>INDIVIDUAL_ID</th>\n",
       "      <th>ADDRESS_ID</th>\n",
       "      <th>CUST_ORIG_DATE</th>\n",
       "      <th>DATE_OF_BIRTH</th>\n",
       "      <th>SOCIAL_SECURITY_NUMBER</th>\n",
       "      <th>CUST_START_DATE</th>\n",
       "      <th>CURR_ANN_AMT_CAR</th>\n",
       "      <th>CURR_ANN_AMT_HEALTH</th>\n",
       "      <th>CURR_ANN_AMT_HOUSE</th>\n",
       "    </tr>\n",
       "  </thead>\n",
       "  <tbody>\n",
       "    <tr>\n",
       "      <th>count</th>\n",
       "      <td>2.303124e+06</td>\n",
       "      <td>2.303123e+06</td>\n",
       "      <td>2.303123e+06</td>\n",
       "      <td>2303124</td>\n",
       "      <td>2303124</td>\n",
       "      <td>2303124</td>\n",
       "      <td>2211911</td>\n",
       "      <td>2.303124e+06</td>\n",
       "      <td>2.303124e+06</td>\n",
       "      <td>2.303124e+06</td>\n",
       "    </tr>\n",
       "    <tr>\n",
       "      <th>unique</th>\n",
       "      <td>NaN</td>\n",
       "      <td>NaN</td>\n",
       "      <td>NaN</td>\n",
       "      <td>5253</td>\n",
       "      <td>3492</td>\n",
       "      <td>1986833</td>\n",
       "      <td>18275</td>\n",
       "      <td>NaN</td>\n",
       "      <td>NaN</td>\n",
       "      <td>NaN</td>\n",
       "    </tr>\n",
       "    <tr>\n",
       "      <th>top</th>\n",
       "      <td>NaN</td>\n",
       "      <td>NaN</td>\n",
       "      <td>NaN</td>\n",
       "      <td>2005-09-11</td>\n",
       "      <td>1967-07-07</td>\n",
       "      <td>217-XX-6487</td>\n",
       "      <td>2005-09-11</td>\n",
       "      <td>NaN</td>\n",
       "      <td>NaN</td>\n",
       "      <td>NaN</td>\n",
       "    </tr>\n",
       "    <tr>\n",
       "      <th>freq</th>\n",
       "      <td>NaN</td>\n",
       "      <td>NaN</td>\n",
       "      <td>NaN</td>\n",
       "      <td>599153</td>\n",
       "      <td>404695</td>\n",
       "      <td>6</td>\n",
       "      <td>535157</td>\n",
       "      <td>NaN</td>\n",
       "      <td>NaN</td>\n",
       "      <td>NaN</td>\n",
       "    </tr>\n",
       "    <tr>\n",
       "      <th>mean</th>\n",
       "      <td>1.151562e+06</td>\n",
       "      <td>2.213018e+11</td>\n",
       "      <td>5.213007e+11</td>\n",
       "      <td>NaN</td>\n",
       "      <td>NaN</td>\n",
       "      <td>NaN</td>\n",
       "      <td>NaN</td>\n",
       "      <td>1.431069e+03</td>\n",
       "      <td>5.725299e+02</td>\n",
       "      <td>4.293221e+02</td>\n",
       "    </tr>\n",
       "    <tr>\n",
       "      <th>std</th>\n",
       "      <td>6.648548e+05</td>\n",
       "      <td>9.915268e+05</td>\n",
       "      <td>4.170653e+05</td>\n",
       "      <td>NaN</td>\n",
       "      <td>NaN</td>\n",
       "      <td>NaN</td>\n",
       "      <td>NaN</td>\n",
       "      <td>2.439311e+02</td>\n",
       "      <td>1.896686e+02</td>\n",
       "      <td>7.606463e+01</td>\n",
       "    </tr>\n",
       "    <tr>\n",
       "      <th>min</th>\n",
       "      <td>0.000000e+00</td>\n",
       "      <td>2.213000e+11</td>\n",
       "      <td>5.213000e+11</td>\n",
       "      <td>NaN</td>\n",
       "      <td>NaN</td>\n",
       "      <td>NaN</td>\n",
       "      <td>NaN</td>\n",
       "      <td>2.869633e+02</td>\n",
       "      <td>-3.516244e+02</td>\n",
       "      <td>9.000000e+01</td>\n",
       "    </tr>\n",
       "    <tr>\n",
       "      <th>25%</th>\n",
       "      <td>5.757808e+05</td>\n",
       "      <td>2.213009e+11</td>\n",
       "      <td>5.213003e+11</td>\n",
       "      <td>NaN</td>\n",
       "      <td>NaN</td>\n",
       "      <td>NaN</td>\n",
       "      <td>NaN</td>\n",
       "      <td>1.264830e+03</td>\n",
       "      <td>4.442061e+02</td>\n",
       "      <td>3.770000e+02</td>\n",
       "    </tr>\n",
       "    <tr>\n",
       "      <th>50%</th>\n",
       "      <td>1.151562e+06</td>\n",
       "      <td>2.213018e+11</td>\n",
       "      <td>5.213007e+11</td>\n",
       "      <td>NaN</td>\n",
       "      <td>NaN</td>\n",
       "      <td>NaN</td>\n",
       "      <td>NaN</td>\n",
       "      <td>1.425758e+03</td>\n",
       "      <td>5.720247e+02</td>\n",
       "      <td>4.270000e+02</td>\n",
       "    </tr>\n",
       "    <tr>\n",
       "      <th>75%</th>\n",
       "      <td>1.727342e+06</td>\n",
       "      <td>2.213027e+11</td>\n",
       "      <td>5.213010e+11</td>\n",
       "      <td>NaN</td>\n",
       "      <td>NaN</td>\n",
       "      <td>NaN</td>\n",
       "      <td>NaN</td>\n",
       "      <td>1.591793e+03</td>\n",
       "      <td>7.001292e+02</td>\n",
       "      <td>4.790000e+02</td>\n",
       "    </tr>\n",
       "    <tr>\n",
       "      <th>max</th>\n",
       "      <td>2.303123e+06</td>\n",
       "      <td>2.213033e+11</td>\n",
       "      <td>5.213015e+11</td>\n",
       "      <td>NaN</td>\n",
       "      <td>NaN</td>\n",
       "      <td>NaN</td>\n",
       "      <td>NaN</td>\n",
       "      <td>2.769374e+03</td>\n",
       "      <td>1.617531e+03</td>\n",
       "      <td>8.870000e+02</td>\n",
       "    </tr>\n",
       "  </tbody>\n",
       "</table>\n",
       "</div>"
      ],
      "text/plain": [
       "          Unnamed: 0  INDIVIDUAL_ID    ADDRESS_ID CUST_ORIG_DATE  \\\n",
       "count   2.303124e+06   2.303123e+06  2.303123e+06        2303124   \n",
       "unique           NaN            NaN           NaN           5253   \n",
       "top              NaN            NaN           NaN     2005-09-11   \n",
       "freq             NaN            NaN           NaN         599153   \n",
       "mean    1.151562e+06   2.213018e+11  5.213007e+11            NaN   \n",
       "std     6.648548e+05   9.915268e+05  4.170653e+05            NaN   \n",
       "min     0.000000e+00   2.213000e+11  5.213000e+11            NaN   \n",
       "25%     5.757808e+05   2.213009e+11  5.213003e+11            NaN   \n",
       "50%     1.151562e+06   2.213018e+11  5.213007e+11            NaN   \n",
       "75%     1.727342e+06   2.213027e+11  5.213010e+11            NaN   \n",
       "max     2.303123e+06   2.213033e+11  5.213015e+11            NaN   \n",
       "\n",
       "       DATE_OF_BIRTH SOCIAL_SECURITY_NUMBER CUST_START_DATE  CURR_ANN_AMT_CAR  \\\n",
       "count        2303124                2303124         2211911      2.303124e+06   \n",
       "unique          3492                1986833           18275               NaN   \n",
       "top       1967-07-07            217-XX-6487      2005-09-11               NaN   \n",
       "freq          404695                      6          535157               NaN   \n",
       "mean             NaN                    NaN             NaN      1.431069e+03   \n",
       "std              NaN                    NaN             NaN      2.439311e+02   \n",
       "min              NaN                    NaN             NaN      2.869633e+02   \n",
       "25%              NaN                    NaN             NaN      1.264830e+03   \n",
       "50%              NaN                    NaN             NaN      1.425758e+03   \n",
       "75%              NaN                    NaN             NaN      1.591793e+03   \n",
       "max              NaN                    NaN             NaN      2.769374e+03   \n",
       "\n",
       "        CURR_ANN_AMT_HEALTH  CURR_ANN_AMT_HOUSE  \n",
       "count          2.303124e+06        2.303124e+06  \n",
       "unique                  NaN                 NaN  \n",
       "top                     NaN                 NaN  \n",
       "freq                    NaN                 NaN  \n",
       "mean           5.725299e+02        4.293221e+02  \n",
       "std            1.896686e+02        7.606463e+01  \n",
       "min           -3.516244e+02        9.000000e+01  \n",
       "25%            4.442061e+02        3.770000e+02  \n",
       "50%            5.720247e+02        4.270000e+02  \n",
       "75%            7.001292e+02        4.790000e+02  \n",
       "max            1.617531e+03        8.870000e+02  "
      ]
     },
     "execution_count": 6,
     "metadata": {},
     "output_type": "execute_result"
    }
   ],
   "source": [
    "#get a clearer understanding of the data\n",
    "df_customer.describe(include='all')"
   ]
  },
  {
   "cell_type": "markdown",
   "metadata": {},
   "source": [
    "#### 1) DEMOGRAPHICS DATASET"
   ]
  },
  {
   "cell_type": "code",
   "execution_count": 7,
   "metadata": {},
   "outputs": [
    {
     "data": {
      "text/html": [
       "<div>\n",
       "<style scoped>\n",
       "    .dataframe tbody tr th:only-of-type {\n",
       "        vertical-align: middle;\n",
       "    }\n",
       "\n",
       "    .dataframe tbody tr th {\n",
       "        vertical-align: top;\n",
       "    }\n",
       "\n",
       "    .dataframe thead th {\n",
       "        text-align: right;\n",
       "    }\n",
       "</style>\n",
       "<table border=\"1\" class=\"dataframe\">\n",
       "  <thead>\n",
       "    <tr style=\"text-align: right;\">\n",
       "      <th></th>\n",
       "      <th>Unnamed: 0</th>\n",
       "      <th>INDIVIDUAL_ID</th>\n",
       "      <th>INCOME</th>\n",
       "      <th>HAS_CHILDREN</th>\n",
       "      <th>LENGTH_OF_RESIDENCE</th>\n",
       "      <th>MARITAL_STATUS</th>\n",
       "      <th>HOME_MARKET_VALUE</th>\n",
       "      <th>HOME_OWNER</th>\n",
       "      <th>COLLEGE_DEGREE</th>\n",
       "      <th>GOOD_CREDIT</th>\n",
       "      <th>ADVANCED_STUDIES</th>\n",
       "    </tr>\n",
       "  </thead>\n",
       "  <tbody>\n",
       "    <tr>\n",
       "      <th>0</th>\n",
       "      <td>0</td>\n",
       "      <td>2.213028e+11</td>\n",
       "      <td>187500.000</td>\n",
       "      <td>1.0</td>\n",
       "      <td>8.0</td>\n",
       "      <td>Single</td>\n",
       "      <td>300000 - 349999</td>\n",
       "      <td>1</td>\n",
       "      <td>1</td>\n",
       "      <td>1</td>\n",
       "      <td>Y</td>\n",
       "    </tr>\n",
       "    <tr>\n",
       "      <th>1</th>\n",
       "      <td>1</td>\n",
       "      <td>2.213032e+11</td>\n",
       "      <td>63750.000</td>\n",
       "      <td>0.0</td>\n",
       "      <td>0.0</td>\n",
       "      <td>Single</td>\n",
       "      <td>NaN</td>\n",
       "      <td>0</td>\n",
       "      <td>0</td>\n",
       "      <td>0</td>\n",
       "      <td>N</td>\n",
       "    </tr>\n",
       "    <tr>\n",
       "      <th>2</th>\n",
       "      <td>2</td>\n",
       "      <td>2.213032e+11</td>\n",
       "      <td>41250.000</td>\n",
       "      <td>0.0</td>\n",
       "      <td>15.0</td>\n",
       "      <td>Married</td>\n",
       "      <td>75000 - 99999</td>\n",
       "      <td>1</td>\n",
       "      <td>0</td>\n",
       "      <td>1</td>\n",
       "      <td>N</td>\n",
       "    </tr>\n",
       "    <tr>\n",
       "      <th>3</th>\n",
       "      <td>3</td>\n",
       "      <td>2.213032e+11</td>\n",
       "      <td>120558.264</td>\n",
       "      <td>0.0</td>\n",
       "      <td>0.0</td>\n",
       "      <td>NaN</td>\n",
       "      <td>1000 - 24999</td>\n",
       "      <td>1</td>\n",
       "      <td>0</td>\n",
       "      <td>0</td>\n",
       "      <td>N</td>\n",
       "    </tr>\n",
       "    <tr>\n",
       "      <th>4</th>\n",
       "      <td>4</td>\n",
       "      <td>2.213032e+11</td>\n",
       "      <td>187500.000</td>\n",
       "      <td>0.0</td>\n",
       "      <td>0.0</td>\n",
       "      <td>NaN</td>\n",
       "      <td>NaN</td>\n",
       "      <td>0</td>\n",
       "      <td>0</td>\n",
       "      <td>1</td>\n",
       "      <td>Y</td>\n",
       "    </tr>\n",
       "  </tbody>\n",
       "</table>\n",
       "</div>"
      ],
      "text/plain": [
       "   Unnamed: 0  INDIVIDUAL_ID      INCOME  HAS_CHILDREN  LENGTH_OF_RESIDENCE  \\\n",
       "0           0   2.213028e+11  187500.000           1.0                  8.0   \n",
       "1           1   2.213032e+11   63750.000           0.0                  0.0   \n",
       "2           2   2.213032e+11   41250.000           0.0                 15.0   \n",
       "3           3   2.213032e+11  120558.264           0.0                  0.0   \n",
       "4           4   2.213032e+11  187500.000           0.0                  0.0   \n",
       "\n",
       "  MARITAL_STATUS HOME_MARKET_VALUE  HOME_OWNER  COLLEGE_DEGREE  GOOD_CREDIT  \\\n",
       "0         Single   300000 - 349999           1               1            1   \n",
       "1         Single               NaN           0               0            0   \n",
       "2        Married     75000 - 99999           1               0            1   \n",
       "3            NaN      1000 - 24999           1               0            0   \n",
       "4            NaN               NaN           0               0            1   \n",
       "\n",
       "  ADVANCED_STUDIES  \n",
       "0                Y  \n",
       "1                N  \n",
       "2                N  \n",
       "3                N  \n",
       "4                Y  "
      ]
     },
     "execution_count": 7,
     "metadata": {},
     "output_type": "execute_result"
    }
   ],
   "source": [
    "#load the transaction dataset\n",
    "file_path = os.path.join(\"data\",\"ABC_df_demographic.csv\")\n",
    "df_demographic= pd.read_csv(file_path)\n",
    "df_demographic.head()"
   ]
  },
  {
   "cell_type": "code",
   "execution_count": 8,
   "metadata": {},
   "outputs": [
    {
     "data": {
      "text/html": [
       "<div>\n",
       "<style scoped>\n",
       "    .dataframe tbody tr th:only-of-type {\n",
       "        vertical-align: middle;\n",
       "    }\n",
       "\n",
       "    .dataframe tbody tr th {\n",
       "        vertical-align: top;\n",
       "    }\n",
       "\n",
       "    .dataframe thead th {\n",
       "        text-align: right;\n",
       "    }\n",
       "</style>\n",
       "<table border=\"1\" class=\"dataframe\">\n",
       "  <thead>\n",
       "    <tr style=\"text-align: right;\">\n",
       "      <th></th>\n",
       "      <th>Unnamed: 0</th>\n",
       "      <th>INDIVIDUAL_ID</th>\n",
       "      <th>INCOME</th>\n",
       "      <th>HAS_CHILDREN</th>\n",
       "      <th>LENGTH_OF_RESIDENCE</th>\n",
       "      <th>MARITAL_STATUS</th>\n",
       "      <th>HOME_MARKET_VALUE</th>\n",
       "      <th>HOME_OWNER</th>\n",
       "      <th>COLLEGE_DEGREE</th>\n",
       "      <th>GOOD_CREDIT</th>\n",
       "      <th>ADVANCED_STUDIES</th>\n",
       "    </tr>\n",
       "  </thead>\n",
       "  <tbody>\n",
       "    <tr>\n",
       "      <th>2112574</th>\n",
       "      <td>2112574</td>\n",
       "      <td>2.213006e+11</td>\n",
       "      <td>131250.0</td>\n",
       "      <td>1.0</td>\n",
       "      <td>12.0</td>\n",
       "      <td>Married</td>\n",
       "      <td>50000 - 74999</td>\n",
       "      <td>1</td>\n",
       "      <td>0</td>\n",
       "      <td>1</td>\n",
       "      <td>N</td>\n",
       "    </tr>\n",
       "    <tr>\n",
       "      <th>2112575</th>\n",
       "      <td>2112575</td>\n",
       "      <td>2.213006e+11</td>\n",
       "      <td>56250.0</td>\n",
       "      <td>1.0</td>\n",
       "      <td>5.0</td>\n",
       "      <td>Single</td>\n",
       "      <td>50000 - 74999</td>\n",
       "      <td>0</td>\n",
       "      <td>0</td>\n",
       "      <td>1</td>\n",
       "      <td>N</td>\n",
       "    </tr>\n",
       "    <tr>\n",
       "      <th>2112576</th>\n",
       "      <td>2112576</td>\n",
       "      <td>2.213006e+11</td>\n",
       "      <td>187500.0</td>\n",
       "      <td>0.0</td>\n",
       "      <td>13.0</td>\n",
       "      <td>Married</td>\n",
       "      <td>225000 - 249999</td>\n",
       "      <td>1</td>\n",
       "      <td>1</td>\n",
       "      <td>1</td>\n",
       "      <td>N</td>\n",
       "    </tr>\n",
       "    <tr>\n",
       "      <th>2112577</th>\n",
       "      <td>2112577</td>\n",
       "      <td>2.213006e+11</td>\n",
       "      <td>187500.0</td>\n",
       "      <td>2.0</td>\n",
       "      <td>12.0</td>\n",
       "      <td>Married</td>\n",
       "      <td>100000 - 124999</td>\n",
       "      <td>1</td>\n",
       "      <td>0</td>\n",
       "      <td>1</td>\n",
       "      <td>Y</td>\n",
       "    </tr>\n",
       "    <tr>\n",
       "      <th>2112578</th>\n",
       "      <td>2112578</td>\n",
       "      <td>2.213006e+11</td>\n",
       "      <td>63750.0</td>\n",
       "      <td>1.0</td>\n",
       "      <td>4.0</td>\n",
       "      <td>Single</td>\n",
       "      <td>100000 - 124999</td>\n",
       "      <td>1</td>\n",
       "      <td>0</td>\n",
       "      <td>0</td>\n",
       "      <td>N</td>\n",
       "    </tr>\n",
       "  </tbody>\n",
       "</table>\n",
       "</div>"
      ],
      "text/plain": [
       "         Unnamed: 0  INDIVIDUAL_ID    INCOME  HAS_CHILDREN  \\\n",
       "2112574     2112574   2.213006e+11  131250.0           1.0   \n",
       "2112575     2112575   2.213006e+11   56250.0           1.0   \n",
       "2112576     2112576   2.213006e+11  187500.0           0.0   \n",
       "2112577     2112577   2.213006e+11  187500.0           2.0   \n",
       "2112578     2112578   2.213006e+11   63750.0           1.0   \n",
       "\n",
       "         LENGTH_OF_RESIDENCE MARITAL_STATUS HOME_MARKET_VALUE  HOME_OWNER  \\\n",
       "2112574                 12.0        Married     50000 - 74999           1   \n",
       "2112575                  5.0         Single     50000 - 74999           0   \n",
       "2112576                 13.0        Married   225000 - 249999           1   \n",
       "2112577                 12.0        Married   100000 - 124999           1   \n",
       "2112578                  4.0         Single   100000 - 124999           1   \n",
       "\n",
       "         COLLEGE_DEGREE  GOOD_CREDIT ADVANCED_STUDIES  \n",
       "2112574               0            1                N  \n",
       "2112575               0            1                N  \n",
       "2112576               1            1                N  \n",
       "2112577               0            1                Y  \n",
       "2112578               0            0                N  "
      ]
     },
     "execution_count": 8,
     "metadata": {},
     "output_type": "execute_result"
    }
   ],
   "source": [
    "df_demographic.tail()\n"
   ]
  },
  {
   "cell_type": "code",
   "execution_count": 9,
   "metadata": {},
   "outputs": [
    {
     "data": {
      "text/plain": [
       "(2112579, 11)"
      ]
     },
     "execution_count": 9,
     "metadata": {},
     "output_type": "execute_result"
    }
   ],
   "source": [
    "df_demographic.shape\n"
   ]
  },
  {
   "cell_type": "code",
   "execution_count": 10,
   "metadata": {},
   "outputs": [
    {
     "name": "stdout",
     "output_type": "stream",
     "text": [
      "<class 'pandas.core.frame.DataFrame'>\n",
      "RangeIndex: 2112579 entries, 0 to 2112578\n",
      "Data columns (total 11 columns):\n",
      " #   Column               Dtype  \n",
      "---  ------               -----  \n",
      " 0   Unnamed: 0           int64  \n",
      " 1   INDIVIDUAL_ID        float64\n",
      " 2   INCOME               float64\n",
      " 3   HAS_CHILDREN         float64\n",
      " 4   LENGTH_OF_RESIDENCE  float64\n",
      " 5   MARITAL_STATUS       object \n",
      " 6   HOME_MARKET_VALUE    object \n",
      " 7   HOME_OWNER           int64  \n",
      " 8   COLLEGE_DEGREE       int64  \n",
      " 9   GOOD_CREDIT          int64  \n",
      " 10  ADVANCED_STUDIES     object \n",
      "dtypes: float64(4), int64(4), object(3)\n",
      "memory usage: 177.3+ MB\n"
     ]
    }
   ],
   "source": [
    "df_demographic.info()\n"
   ]
  },
  {
   "cell_type": "code",
   "execution_count": 11,
   "metadata": {},
   "outputs": [
    {
     "data": {
      "text/html": [
       "<div>\n",
       "<style scoped>\n",
       "    .dataframe tbody tr th:only-of-type {\n",
       "        vertical-align: middle;\n",
       "    }\n",
       "\n",
       "    .dataframe tbody tr th {\n",
       "        vertical-align: top;\n",
       "    }\n",
       "\n",
       "    .dataframe thead th {\n",
       "        text-align: right;\n",
       "    }\n",
       "</style>\n",
       "<table border=\"1\" class=\"dataframe\">\n",
       "  <thead>\n",
       "    <tr style=\"text-align: right;\">\n",
       "      <th></th>\n",
       "      <th>Unnamed: 0</th>\n",
       "      <th>INDIVIDUAL_ID</th>\n",
       "      <th>INCOME</th>\n",
       "      <th>HAS_CHILDREN</th>\n",
       "      <th>LENGTH_OF_RESIDENCE</th>\n",
       "      <th>MARITAL_STATUS</th>\n",
       "      <th>HOME_MARKET_VALUE</th>\n",
       "      <th>HOME_OWNER</th>\n",
       "      <th>COLLEGE_DEGREE</th>\n",
       "      <th>GOOD_CREDIT</th>\n",
       "      <th>ADVANCED_STUDIES</th>\n",
       "    </tr>\n",
       "  </thead>\n",
       "  <tbody>\n",
       "    <tr>\n",
       "      <th>count</th>\n",
       "      <td>2.112579e+06</td>\n",
       "      <td>2.112579e+06</td>\n",
       "      <td>2.112579e+06</td>\n",
       "      <td>2.112579e+06</td>\n",
       "      <td>2.112579e+06</td>\n",
       "      <td>1680931</td>\n",
       "      <td>1922374</td>\n",
       "      <td>2.112579e+06</td>\n",
       "      <td>2.112579e+06</td>\n",
       "      <td>2.112579e+06</td>\n",
       "      <td>2112579</td>\n",
       "    </tr>\n",
       "    <tr>\n",
       "      <th>unique</th>\n",
       "      <td>NaN</td>\n",
       "      <td>NaN</td>\n",
       "      <td>NaN</td>\n",
       "      <td>NaN</td>\n",
       "      <td>NaN</td>\n",
       "      <td>2</td>\n",
       "      <td>19</td>\n",
       "      <td>NaN</td>\n",
       "      <td>NaN</td>\n",
       "      <td>NaN</td>\n",
       "      <td>2</td>\n",
       "    </tr>\n",
       "    <tr>\n",
       "      <th>top</th>\n",
       "      <td>NaN</td>\n",
       "      <td>NaN</td>\n",
       "      <td>NaN</td>\n",
       "      <td>NaN</td>\n",
       "      <td>NaN</td>\n",
       "      <td>Married</td>\n",
       "      <td>75000 - 99999</td>\n",
       "      <td>NaN</td>\n",
       "      <td>NaN</td>\n",
       "      <td>NaN</td>\n",
       "      <td>N</td>\n",
       "    </tr>\n",
       "    <tr>\n",
       "      <th>freq</th>\n",
       "      <td>NaN</td>\n",
       "      <td>NaN</td>\n",
       "      <td>NaN</td>\n",
       "      <td>NaN</td>\n",
       "      <td>NaN</td>\n",
       "      <td>1048472</td>\n",
       "      <td>365838</td>\n",
       "      <td>NaN</td>\n",
       "      <td>NaN</td>\n",
       "      <td>NaN</td>\n",
       "      <td>1563128</td>\n",
       "    </tr>\n",
       "    <tr>\n",
       "      <th>mean</th>\n",
       "      <td>1.056289e+06</td>\n",
       "      <td>2.213018e+11</td>\n",
       "      <td>1.205583e+05</td>\n",
       "      <td>4.684885e-01</td>\n",
       "      <td>6.800571e+00</td>\n",
       "      <td>NaN</td>\n",
       "      <td>NaN</td>\n",
       "      <td>6.983649e-01</td>\n",
       "      <td>3.016152e-01</td>\n",
       "      <td>8.195779e-01</td>\n",
       "      <td>NaN</td>\n",
       "    </tr>\n",
       "    <tr>\n",
       "      <th>std</th>\n",
       "      <td>6.098492e+05</td>\n",
       "      <td>9.916207e+05</td>\n",
       "      <td>7.504165e+04</td>\n",
       "      <td>5.853729e-01</td>\n",
       "      <td>5.090825e+00</td>\n",
       "      <td>NaN</td>\n",
       "      <td>NaN</td>\n",
       "      <td>4.589678e-01</td>\n",
       "      <td>4.589592e-01</td>\n",
       "      <td>3.845388e-01</td>\n",
       "      <td>NaN</td>\n",
       "    </tr>\n",
       "    <tr>\n",
       "      <th>min</th>\n",
       "      <td>0.000000e+00</td>\n",
       "      <td>2.213000e+11</td>\n",
       "      <td>7.500000e+03</td>\n",
       "      <td>0.000000e+00</td>\n",
       "      <td>0.000000e+00</td>\n",
       "      <td>NaN</td>\n",
       "      <td>NaN</td>\n",
       "      <td>0.000000e+00</td>\n",
       "      <td>0.000000e+00</td>\n",
       "      <td>0.000000e+00</td>\n",
       "      <td>NaN</td>\n",
       "    </tr>\n",
       "    <tr>\n",
       "      <th>25%</th>\n",
       "      <td>5.281445e+05</td>\n",
       "      <td>2.213009e+11</td>\n",
       "      <td>7.125000e+04</td>\n",
       "      <td>0.000000e+00</td>\n",
       "      <td>2.000000e+00</td>\n",
       "      <td>NaN</td>\n",
       "      <td>NaN</td>\n",
       "      <td>0.000000e+00</td>\n",
       "      <td>0.000000e+00</td>\n",
       "      <td>1.000000e+00</td>\n",
       "      <td>NaN</td>\n",
       "    </tr>\n",
       "    <tr>\n",
       "      <th>50%</th>\n",
       "      <td>1.056289e+06</td>\n",
       "      <td>2.213018e+11</td>\n",
       "      <td>1.205583e+05</td>\n",
       "      <td>0.000000e+00</td>\n",
       "      <td>6.801000e+00</td>\n",
       "      <td>NaN</td>\n",
       "      <td>NaN</td>\n",
       "      <td>1.000000e+00</td>\n",
       "      <td>0.000000e+00</td>\n",
       "      <td>1.000000e+00</td>\n",
       "      <td>NaN</td>\n",
       "    </tr>\n",
       "    <tr>\n",
       "      <th>75%</th>\n",
       "      <td>1.584434e+06</td>\n",
       "      <td>2.213027e+11</td>\n",
       "      <td>1.312500e+05</td>\n",
       "      <td>1.000000e+00</td>\n",
       "      <td>1.100000e+01</td>\n",
       "      <td>NaN</td>\n",
       "      <td>NaN</td>\n",
       "      <td>1.000000e+00</td>\n",
       "      <td>1.000000e+00</td>\n",
       "      <td>1.000000e+00</td>\n",
       "      <td>NaN</td>\n",
       "    </tr>\n",
       "    <tr>\n",
       "      <th>max</th>\n",
       "      <td>2.112578e+06</td>\n",
       "      <td>2.213033e+11</td>\n",
       "      <td>3.750000e+05</td>\n",
       "      <td>6.000000e+00</td>\n",
       "      <td>1.500000e+01</td>\n",
       "      <td>NaN</td>\n",
       "      <td>NaN</td>\n",
       "      <td>1.000000e+00</td>\n",
       "      <td>1.000000e+00</td>\n",
       "      <td>1.000000e+00</td>\n",
       "      <td>NaN</td>\n",
       "    </tr>\n",
       "  </tbody>\n",
       "</table>\n",
       "</div>"
      ],
      "text/plain": [
       "          Unnamed: 0  INDIVIDUAL_ID        INCOME  HAS_CHILDREN  \\\n",
       "count   2.112579e+06   2.112579e+06  2.112579e+06  2.112579e+06   \n",
       "unique           NaN            NaN           NaN           NaN   \n",
       "top              NaN            NaN           NaN           NaN   \n",
       "freq             NaN            NaN           NaN           NaN   \n",
       "mean    1.056289e+06   2.213018e+11  1.205583e+05  4.684885e-01   \n",
       "std     6.098492e+05   9.916207e+05  7.504165e+04  5.853729e-01   \n",
       "min     0.000000e+00   2.213000e+11  7.500000e+03  0.000000e+00   \n",
       "25%     5.281445e+05   2.213009e+11  7.125000e+04  0.000000e+00   \n",
       "50%     1.056289e+06   2.213018e+11  1.205583e+05  0.000000e+00   \n",
       "75%     1.584434e+06   2.213027e+11  1.312500e+05  1.000000e+00   \n",
       "max     2.112578e+06   2.213033e+11  3.750000e+05  6.000000e+00   \n",
       "\n",
       "        LENGTH_OF_RESIDENCE MARITAL_STATUS HOME_MARKET_VALUE    HOME_OWNER  \\\n",
       "count          2.112579e+06        1680931           1922374  2.112579e+06   \n",
       "unique                  NaN              2                19           NaN   \n",
       "top                     NaN        Married     75000 - 99999           NaN   \n",
       "freq                    NaN        1048472            365838           NaN   \n",
       "mean           6.800571e+00            NaN               NaN  6.983649e-01   \n",
       "std            5.090825e+00            NaN               NaN  4.589678e-01   \n",
       "min            0.000000e+00            NaN               NaN  0.000000e+00   \n",
       "25%            2.000000e+00            NaN               NaN  0.000000e+00   \n",
       "50%            6.801000e+00            NaN               NaN  1.000000e+00   \n",
       "75%            1.100000e+01            NaN               NaN  1.000000e+00   \n",
       "max            1.500000e+01            NaN               NaN  1.000000e+00   \n",
       "\n",
       "        COLLEGE_DEGREE   GOOD_CREDIT ADVANCED_STUDIES  \n",
       "count     2.112579e+06  2.112579e+06          2112579  \n",
       "unique             NaN           NaN                2  \n",
       "top                NaN           NaN                N  \n",
       "freq               NaN           NaN          1563128  \n",
       "mean      3.016152e-01  8.195779e-01              NaN  \n",
       "std       4.589592e-01  3.845388e-01              NaN  \n",
       "min       0.000000e+00  0.000000e+00              NaN  \n",
       "25%       0.000000e+00  1.000000e+00              NaN  \n",
       "50%       0.000000e+00  1.000000e+00              NaN  \n",
       "75%       1.000000e+00  1.000000e+00              NaN  \n",
       "max       1.000000e+00  1.000000e+00              NaN  "
      ]
     },
     "execution_count": 11,
     "metadata": {},
     "output_type": "execute_result"
    }
   ],
   "source": [
    "df_demographic.describe(include='all')\n"
   ]
  },
  {
   "cell_type": "markdown",
   "metadata": {},
   "source": [
    "#### 1) TERMINATION DATASET"
   ]
  },
  {
   "cell_type": "code",
   "execution_count": 12,
   "metadata": {},
   "outputs": [
    {
     "data": {
      "text/html": [
       "<div>\n",
       "<style scoped>\n",
       "    .dataframe tbody tr th:only-of-type {\n",
       "        vertical-align: middle;\n",
       "    }\n",
       "\n",
       "    .dataframe tbody tr th {\n",
       "        vertical-align: top;\n",
       "    }\n",
       "\n",
       "    .dataframe thead th {\n",
       "        text-align: right;\n",
       "    }\n",
       "</style>\n",
       "<table border=\"1\" class=\"dataframe\">\n",
       "  <thead>\n",
       "    <tr style=\"text-align: right;\">\n",
       "      <th></th>\n",
       "      <th>Unnamed: 0</th>\n",
       "      <th>INDIVIDUAL_ID</th>\n",
       "      <th>SUSPD_DATE</th>\n",
       "    </tr>\n",
       "  </thead>\n",
       "  <tbody>\n",
       "    <tr>\n",
       "      <th>0</th>\n",
       "      <td>0</td>\n",
       "      <td>2.213026e+11</td>\n",
       "      <td>2022-10-09</td>\n",
       "    </tr>\n",
       "    <tr>\n",
       "      <th>1</th>\n",
       "      <td>1</td>\n",
       "      <td>2.213028e+11</td>\n",
       "      <td>2022-04-24</td>\n",
       "    </tr>\n",
       "    <tr>\n",
       "      <th>2</th>\n",
       "      <td>2</td>\n",
       "      <td>2.213027e+11</td>\n",
       "      <td>2022-05-21</td>\n",
       "    </tr>\n",
       "    <tr>\n",
       "      <th>3</th>\n",
       "      <td>3</td>\n",
       "      <td>2.213002e+11</td>\n",
       "      <td>2022-04-27</td>\n",
       "    </tr>\n",
       "    <tr>\n",
       "      <th>4</th>\n",
       "      <td>4</td>\n",
       "      <td>2.213026e+11</td>\n",
       "      <td>2022-09-16</td>\n",
       "    </tr>\n",
       "  </tbody>\n",
       "</table>\n",
       "</div>"
      ],
      "text/plain": [
       "   Unnamed: 0  INDIVIDUAL_ID  SUSPD_DATE\n",
       "0           0   2.213026e+11  2022-10-09\n",
       "1           1   2.213028e+11  2022-04-24\n",
       "2           2   2.213027e+11  2022-05-21\n",
       "3           3   2.213002e+11  2022-04-27\n",
       "4           4   2.213026e+11  2022-09-16"
      ]
     },
     "execution_count": 12,
     "metadata": {},
     "output_type": "execute_result"
    }
   ],
   "source": [
    "#load the transaction dataset\n",
    "file_path = os.path.join(\"data\",\"ABC_df_termination.csv\")\n",
    "df_termination= pd.read_csv(file_path)\n",
    "df_termination.head()"
   ]
  },
  {
   "cell_type": "code",
   "execution_count": 13,
   "metadata": {},
   "outputs": [
    {
     "data": {
      "text/html": [
       "<div>\n",
       "<style scoped>\n",
       "    .dataframe tbody tr th:only-of-type {\n",
       "        vertical-align: middle;\n",
       "    }\n",
       "\n",
       "    .dataframe tbody tr th {\n",
       "        vertical-align: top;\n",
       "    }\n",
       "\n",
       "    .dataframe thead th {\n",
       "        text-align: right;\n",
       "    }\n",
       "</style>\n",
       "<table border=\"1\" class=\"dataframe\">\n",
       "  <thead>\n",
       "    <tr style=\"text-align: right;\">\n",
       "      <th></th>\n",
       "      <th>Unnamed: 0</th>\n",
       "      <th>INDIVIDUAL_ID</th>\n",
       "      <th>SUSPD_DATE</th>\n",
       "    </tr>\n",
       "  </thead>\n",
       "  <tbody>\n",
       "    <tr>\n",
       "      <th>269254</th>\n",
       "      <td>269254</td>\n",
       "      <td>2.213022e+11</td>\n",
       "      <td>2022-01-09</td>\n",
       "    </tr>\n",
       "    <tr>\n",
       "      <th>269255</th>\n",
       "      <td>269255</td>\n",
       "      <td>2.213007e+11</td>\n",
       "      <td>2022-02-27</td>\n",
       "    </tr>\n",
       "    <tr>\n",
       "      <th>269256</th>\n",
       "      <td>269256</td>\n",
       "      <td>2.213030e+11</td>\n",
       "      <td>2022-03-21</td>\n",
       "    </tr>\n",
       "    <tr>\n",
       "      <th>269257</th>\n",
       "      <td>269257</td>\n",
       "      <td>2.213025e+11</td>\n",
       "      <td>2022-02-26</td>\n",
       "    </tr>\n",
       "    <tr>\n",
       "      <th>269258</th>\n",
       "      <td>269258</td>\n",
       "      <td>2.213024e+11</td>\n",
       "      <td>2022-09-23</td>\n",
       "    </tr>\n",
       "  </tbody>\n",
       "</table>\n",
       "</div>"
      ],
      "text/plain": [
       "        Unnamed: 0  INDIVIDUAL_ID  SUSPD_DATE\n",
       "269254      269254   2.213022e+11  2022-01-09\n",
       "269255      269255   2.213007e+11  2022-02-27\n",
       "269256      269256   2.213030e+11  2022-03-21\n",
       "269257      269257   2.213025e+11  2022-02-26\n",
       "269258      269258   2.213024e+11  2022-09-23"
      ]
     },
     "execution_count": 13,
     "metadata": {},
     "output_type": "execute_result"
    }
   ],
   "source": [
    "df_termination.tail()"
   ]
  },
  {
   "cell_type": "code",
   "execution_count": 14,
   "metadata": {},
   "outputs": [
    {
     "data": {
      "text/plain": [
       "(269259, 3)"
      ]
     },
     "execution_count": 14,
     "metadata": {},
     "output_type": "execute_result"
    }
   ],
   "source": [
    "df_termination.shape"
   ]
  },
  {
   "cell_type": "code",
   "execution_count": 15,
   "metadata": {},
   "outputs": [
    {
     "name": "stdout",
     "output_type": "stream",
     "text": [
      "<class 'pandas.core.frame.DataFrame'>\n",
      "RangeIndex: 269259 entries, 0 to 269258\n",
      "Data columns (total 3 columns):\n",
      " #   Column         Non-Null Count   Dtype  \n",
      "---  ------         --------------   -----  \n",
      " 0   Unnamed: 0     269259 non-null  int64  \n",
      " 1   INDIVIDUAL_ID  269259 non-null  float64\n",
      " 2   SUSPD_DATE     266566 non-null  object \n",
      "dtypes: float64(1), int64(1), object(1)\n",
      "memory usage: 6.2+ MB\n"
     ]
    }
   ],
   "source": [
    "df_termination.info()"
   ]
  },
  {
   "cell_type": "code",
   "execution_count": 16,
   "metadata": {},
   "outputs": [
    {
     "data": {
      "text/html": [
       "<div>\n",
       "<style scoped>\n",
       "    .dataframe tbody tr th:only-of-type {\n",
       "        vertical-align: middle;\n",
       "    }\n",
       "\n",
       "    .dataframe tbody tr th {\n",
       "        vertical-align: top;\n",
       "    }\n",
       "\n",
       "    .dataframe thead th {\n",
       "        text-align: right;\n",
       "    }\n",
       "</style>\n",
       "<table border=\"1\" class=\"dataframe\">\n",
       "  <thead>\n",
       "    <tr style=\"text-align: right;\">\n",
       "      <th></th>\n",
       "      <th>Unnamed: 0</th>\n",
       "      <th>INDIVIDUAL_ID</th>\n",
       "      <th>SUSPD_DATE</th>\n",
       "    </tr>\n",
       "  </thead>\n",
       "  <tbody>\n",
       "    <tr>\n",
       "      <th>count</th>\n",
       "      <td>269259.000000</td>\n",
       "      <td>2.692590e+05</td>\n",
       "      <td>266566</td>\n",
       "    </tr>\n",
       "    <tr>\n",
       "      <th>unique</th>\n",
       "      <td>NaN</td>\n",
       "      <td>NaN</td>\n",
       "      <td>2086</td>\n",
       "    </tr>\n",
       "    <tr>\n",
       "      <th>top</th>\n",
       "      <td>NaN</td>\n",
       "      <td>NaN</td>\n",
       "      <td>2022-03-17</td>\n",
       "    </tr>\n",
       "    <tr>\n",
       "      <th>freq</th>\n",
       "      <td>NaN</td>\n",
       "      <td>NaN</td>\n",
       "      <td>938</td>\n",
       "    </tr>\n",
       "    <tr>\n",
       "      <th>mean</th>\n",
       "      <td>134629.000000</td>\n",
       "      <td>2.213018e+11</td>\n",
       "      <td>NaN</td>\n",
       "    </tr>\n",
       "    <tr>\n",
       "      <th>std</th>\n",
       "      <td>77728.522403</td>\n",
       "      <td>9.890987e+05</td>\n",
       "      <td>NaN</td>\n",
       "    </tr>\n",
       "    <tr>\n",
       "      <th>min</th>\n",
       "      <td>0.000000</td>\n",
       "      <td>2.213000e+11</td>\n",
       "      <td>NaN</td>\n",
       "    </tr>\n",
       "    <tr>\n",
       "      <th>25%</th>\n",
       "      <td>67314.500000</td>\n",
       "      <td>2.213009e+11</td>\n",
       "      <td>NaN</td>\n",
       "    </tr>\n",
       "    <tr>\n",
       "      <th>50%</th>\n",
       "      <td>134629.000000</td>\n",
       "      <td>2.213018e+11</td>\n",
       "      <td>NaN</td>\n",
       "    </tr>\n",
       "    <tr>\n",
       "      <th>75%</th>\n",
       "      <td>201943.500000</td>\n",
       "      <td>2.213027e+11</td>\n",
       "      <td>NaN</td>\n",
       "    </tr>\n",
       "    <tr>\n",
       "      <th>max</th>\n",
       "      <td>269258.000000</td>\n",
       "      <td>2.213033e+11</td>\n",
       "      <td>NaN</td>\n",
       "    </tr>\n",
       "  </tbody>\n",
       "</table>\n",
       "</div>"
      ],
      "text/plain": [
       "           Unnamed: 0  INDIVIDUAL_ID  SUSPD_DATE\n",
       "count   269259.000000   2.692590e+05      266566\n",
       "unique            NaN            NaN        2086\n",
       "top               NaN            NaN  2022-03-17\n",
       "freq              NaN            NaN         938\n",
       "mean    134629.000000   2.213018e+11         NaN\n",
       "std      77728.522403   9.890987e+05         NaN\n",
       "min          0.000000   2.213000e+11         NaN\n",
       "25%      67314.500000   2.213009e+11         NaN\n",
       "50%     134629.000000   2.213018e+11         NaN\n",
       "75%     201943.500000   2.213027e+11         NaN\n",
       "max     269258.000000   2.213033e+11         NaN"
      ]
     },
     "execution_count": 16,
     "metadata": {},
     "output_type": "execute_result"
    }
   ],
   "source": [
    "df_termination.describe(include='all')"
   ]
  },
  {
   "cell_type": "markdown",
   "metadata": {},
   "source": [
    "#### Dataset Preparation for Merging\n",
    "\n",
    "Before we can merge our datasets for comprehensive analysis and modeling, we need to ensure that the datasets are properly formatted and that any unnecessary columns are removed.\n",
    "\n",
    "Removing Unnecessary Columns:\n",
    "\n",
    "In the loading process, an extra column named 'Unnamed: 0' was generated, which is not necessary for our analysis. This could be an artifact from an index column in the CSV file that doesn't provide any meaningful information. We'll proceed to remove this column from all datasets to clean up our data.\n",
    "\n",
    "Converting ID Columns to Integer Type:\n",
    "\n",
    "The ID columns, which will be used as keys for merging, must be of a uniform type across all datasets. Currently, these ID columns are not in integer format, which could lead to issues during the merge. We will convert these ID columns (INDIVIDUAL_ID, ADDRESS_ID) to integers for several reasons:\n",
    "- **Semantic Correctness**: Integer representation aligns with the discrete and non-fractional nature of identifiers, ensuring clarity and data integrity.\n",
    "- **Enhanced Compatibility**: Integer IDs ensure better interoperability with databases and external applications, reducing integration issues."
   ]
  },
  {
   "cell_type": "code",
   "execution_count": 17,
   "metadata": {},
   "outputs": [],
   "source": [
    "#Let's remove the columns that are not required for the analysis\n",
    "df_customer.drop('Unnamed: 0', axis=1, inplace=True)\n",
    "\n",
    "df_demographic.drop( 'Unnamed: 0', axis=1, inplace=True)\n",
    "\n",
    "df_termination.drop('Unnamed: 0', axis=1, inplace=True)"
   ]
  },
  {
   "cell_type": "code",
   "execution_count": 18,
   "metadata": {},
   "outputs": [
    {
     "data": {
      "text/plain": [
       "(0.0, 0.0)"
      ]
     },
     "execution_count": 18,
     "metadata": {},
     "output_type": "execute_result"
    }
   ],
   "source": [
    "# Check if the INDIVIDUAL_ID and ADDRESS_ID columns have any decimal part by comparing them with their integer conversion\n",
    "individual_id_decimal_check = (df_customer['INDIVIDUAL_ID'] % 1).sum()\n",
    "address_id_decimal_check = (df_customer['ADDRESS_ID'] % 1).sum()\n",
    "\n",
    "individual_id_decimal_check, address_id_decimal_check"
   ]
  },
  {
   "cell_type": "code",
   "execution_count": 19,
   "metadata": {},
   "outputs": [],
   "source": [
    "#Drop the rows with missing values in the columns INDIVIDUAL_ID and ADDRESS_ID\n",
    "df_customer = df_customer.dropna(subset=['INDIVIDUAL_ID', 'ADDRESS_ID'])\n",
    "\n",
    "#Convert the INDIVIDUAL_ID and ADDRESS_ID columns to integer\n",
    "df_customer['INDIVIDUAL_ID'] = df_customer['INDIVIDUAL_ID'].astype(int)\n",
    "df_customer['ADDRESS_ID'] = df_customer['ADDRESS_ID'].astype(int)"
   ]
  },
  {
   "cell_type": "code",
   "execution_count": 20,
   "metadata": {},
   "outputs": [
    {
     "data": {
      "text/plain": [
       "0.0"
      ]
     },
     "execution_count": 20,
     "metadata": {},
     "output_type": "execute_result"
    }
   ],
   "source": [
    "\n",
    "individual_id_decimal_check = (df_demographic['INDIVIDUAL_ID'] % 1).sum()\n",
    "individual_id_decimal_check"
   ]
  },
  {
   "cell_type": "code",
   "execution_count": 21,
   "metadata": {},
   "outputs": [],
   "source": [
    "df_demographic = df_demographic.dropna(subset=['INDIVIDUAL_ID'])\n",
    "\n",
    "#Convert the INDIVIDUAL_ID column to integer\n",
    "df_demographic['INDIVIDUAL_ID'] = df_demographic['INDIVIDUAL_ID'].astype(int)\n"
   ]
  },
  {
   "cell_type": "code",
   "execution_count": 22,
   "metadata": {},
   "outputs": [
    {
     "data": {
      "text/plain": [
       "0.0"
      ]
     },
     "execution_count": 22,
     "metadata": {},
     "output_type": "execute_result"
    }
   ],
   "source": [
    "individual_id_decimal_check = (df_termination['INDIVIDUAL_ID'] % 1).sum()\n",
    "individual_id_decimal_check"
   ]
  },
  {
   "cell_type": "code",
   "execution_count": 23,
   "metadata": {},
   "outputs": [],
   "source": [
    "df_termination = df_termination.dropna(subset=['INDIVIDUAL_ID'])\n",
    "#Convert the INDIVIDUAL_ID column to integer\n",
    "df_termination['INDIVIDUAL_ID'] = df_termination['INDIVIDUAL_ID'].astype(int)"
   ]
  },
  {
   "cell_type": "code",
   "execution_count": 24,
   "metadata": {},
   "outputs": [
    {
     "data": {
      "text/html": [
       "<div>\n",
       "<style scoped>\n",
       "    .dataframe tbody tr th:only-of-type {\n",
       "        vertical-align: middle;\n",
       "    }\n",
       "\n",
       "    .dataframe tbody tr th {\n",
       "        vertical-align: top;\n",
       "    }\n",
       "\n",
       "    .dataframe thead th {\n",
       "        text-align: right;\n",
       "    }\n",
       "</style>\n",
       "<table border=\"1\" class=\"dataframe\">\n",
       "  <thead>\n",
       "    <tr style=\"text-align: right;\">\n",
       "      <th></th>\n",
       "      <th>INDIVIDUAL_ID</th>\n",
       "      <th>ADDRESS_ID</th>\n",
       "      <th>CUST_ORIG_DATE</th>\n",
       "      <th>DATE_OF_BIRTH</th>\n",
       "      <th>SOCIAL_SECURITY_NUMBER</th>\n",
       "      <th>CUST_START_DATE</th>\n",
       "      <th>CURR_ANN_AMT_CAR</th>\n",
       "      <th>CURR_ANN_AMT_HEALTH</th>\n",
       "      <th>CURR_ANN_AMT_HOUSE</th>\n",
       "      <th>INCOME</th>\n",
       "      <th>HAS_CHILDREN</th>\n",
       "      <th>LENGTH_OF_RESIDENCE</th>\n",
       "      <th>MARITAL_STATUS</th>\n",
       "      <th>HOME_MARKET_VALUE</th>\n",
       "      <th>HOME_OWNER</th>\n",
       "      <th>COLLEGE_DEGREE</th>\n",
       "      <th>GOOD_CREDIT</th>\n",
       "      <th>ADVANCED_STUDIES</th>\n",
       "    </tr>\n",
       "  </thead>\n",
       "  <tbody>\n",
       "    <tr>\n",
       "      <th>0</th>\n",
       "      <td>221300017872</td>\n",
       "      <td>521300005982</td>\n",
       "      <td>2018-12-09</td>\n",
       "      <td>1978-06-23</td>\n",
       "      <td>608-XX-7640</td>\n",
       "      <td>2018-12-09</td>\n",
       "      <td>1318.877997</td>\n",
       "      <td>517.999317</td>\n",
       "      <td>411</td>\n",
       "      <td>33750.0</td>\n",
       "      <td>2.0</td>\n",
       "      <td>15.0</td>\n",
       "      <td>Married</td>\n",
       "      <td>50000 - 74999</td>\n",
       "      <td>1</td>\n",
       "      <td>1</td>\n",
       "      <td>1</td>\n",
       "      <td>N</td>\n",
       "    </tr>\n",
       "    <tr>\n",
       "      <th>1</th>\n",
       "      <td>221300134410</td>\n",
       "      <td>521300051115</td>\n",
       "      <td>2018-01-02</td>\n",
       "      <td>1950-05-30</td>\n",
       "      <td>342-XX-6908</td>\n",
       "      <td>2018-01-02</td>\n",
       "      <td>1474.199182</td>\n",
       "      <td>558.417779</td>\n",
       "      <td>414</td>\n",
       "      <td>41250.0</td>\n",
       "      <td>0.0</td>\n",
       "      <td>2.0</td>\n",
       "      <td>Single</td>\n",
       "      <td>50000 - 74999</td>\n",
       "      <td>1</td>\n",
       "      <td>0</td>\n",
       "      <td>0</td>\n",
       "      <td>N</td>\n",
       "    </tr>\n",
       "    <tr>\n",
       "      <th>2</th>\n",
       "      <td>221300673028</td>\n",
       "      <td>521300247929</td>\n",
       "      <td>2009-09-23</td>\n",
       "      <td>1967-07-07</td>\n",
       "      <td>240-XX-9224</td>\n",
       "      <td>2009-09-23</td>\n",
       "      <td>1467.375112</td>\n",
       "      <td>701.649310</td>\n",
       "      <td>442</td>\n",
       "      <td>63750.0</td>\n",
       "      <td>0.0</td>\n",
       "      <td>10.0</td>\n",
       "      <td>Married</td>\n",
       "      <td>75000 - 99999</td>\n",
       "      <td>1</td>\n",
       "      <td>0</td>\n",
       "      <td>0</td>\n",
       "      <td>N</td>\n",
       "    </tr>\n",
       "    <tr>\n",
       "      <th>3</th>\n",
       "      <td>221301573419</td>\n",
       "      <td>521300570147</td>\n",
       "      <td>2022-07-25</td>\n",
       "      <td>1969-05-25</td>\n",
       "      <td>775-XX-6249</td>\n",
       "      <td>2022-07-25</td>\n",
       "      <td>1492.409561</td>\n",
       "      <td>401.517490</td>\n",
       "      <td>463</td>\n",
       "      <td>187500.0</td>\n",
       "      <td>2.0</td>\n",
       "      <td>6.0</td>\n",
       "      <td>Married</td>\n",
       "      <td>175000 - 199999</td>\n",
       "      <td>1</td>\n",
       "      <td>0</td>\n",
       "      <td>1</td>\n",
       "      <td>N</td>\n",
       "    </tr>\n",
       "    <tr>\n",
       "      <th>4</th>\n",
       "      <td>221301622347</td>\n",
       "      <td>521300588399</td>\n",
       "      <td>2006-10-11</td>\n",
       "      <td>1972-09-25</td>\n",
       "      <td>629-XX-7298</td>\n",
       "      <td>2006-10-11</td>\n",
       "      <td>1284.633494</td>\n",
       "      <td>772.857222</td>\n",
       "      <td>366</td>\n",
       "      <td>131250.0</td>\n",
       "      <td>1.0</td>\n",
       "      <td>4.0</td>\n",
       "      <td>Married</td>\n",
       "      <td>225000 - 249999</td>\n",
       "      <td>1</td>\n",
       "      <td>1</td>\n",
       "      <td>1</td>\n",
       "      <td>Y</td>\n",
       "    </tr>\n",
       "  </tbody>\n",
       "</table>\n",
       "</div>"
      ],
      "text/plain": [
       "   INDIVIDUAL_ID    ADDRESS_ID CUST_ORIG_DATE DATE_OF_BIRTH  \\\n",
       "0   221300017872  521300005982     2018-12-09    1978-06-23   \n",
       "1   221300134410  521300051115     2018-01-02    1950-05-30   \n",
       "2   221300673028  521300247929     2009-09-23    1967-07-07   \n",
       "3   221301573419  521300570147     2022-07-25    1969-05-25   \n",
       "4   221301622347  521300588399     2006-10-11    1972-09-25   \n",
       "\n",
       "  SOCIAL_SECURITY_NUMBER CUST_START_DATE  CURR_ANN_AMT_CAR  \\\n",
       "0            608-XX-7640      2018-12-09       1318.877997   \n",
       "1            342-XX-6908      2018-01-02       1474.199182   \n",
       "2            240-XX-9224      2009-09-23       1467.375112   \n",
       "3            775-XX-6249      2022-07-25       1492.409561   \n",
       "4            629-XX-7298      2006-10-11       1284.633494   \n",
       "\n",
       "   CURR_ANN_AMT_HEALTH  CURR_ANN_AMT_HOUSE    INCOME  HAS_CHILDREN  \\\n",
       "0           517.999317                 411   33750.0           2.0   \n",
       "1           558.417779                 414   41250.0           0.0   \n",
       "2           701.649310                 442   63750.0           0.0   \n",
       "3           401.517490                 463  187500.0           2.0   \n",
       "4           772.857222                 366  131250.0           1.0   \n",
       "\n",
       "   LENGTH_OF_RESIDENCE MARITAL_STATUS HOME_MARKET_VALUE  HOME_OWNER  \\\n",
       "0                 15.0        Married     50000 - 74999           1   \n",
       "1                  2.0         Single     50000 - 74999           1   \n",
       "2                 10.0        Married     75000 - 99999           1   \n",
       "3                  6.0        Married   175000 - 199999           1   \n",
       "4                  4.0        Married   225000 - 249999           1   \n",
       "\n",
       "   COLLEGE_DEGREE  GOOD_CREDIT ADVANCED_STUDIES  \n",
       "0               1            1                N  \n",
       "1               0            0                N  \n",
       "2               0            0                N  \n",
       "3               0            1                N  \n",
       "4               1            1                Y  "
      ]
     },
     "execution_count": 24,
     "metadata": {},
     "output_type": "execute_result"
    }
   ],
   "source": [
    "#merge the customer demographic and termination dataframes on the INDIVIDUAL_ID column\n",
    "df = pd.merge(df_customer, df_demographic, on='INDIVIDUAL_ID', how='inner')\n",
    "#df = pd.merge(df, df_termination, on='INDIVIDUAL_ID', how='outer')\n",
    "df.head()"
   ]
  },
  {
   "cell_type": "code",
   "execution_count": 25,
   "metadata": {},
   "outputs": [
    {
     "name": "stdout",
     "output_type": "stream",
     "text": [
      "<class 'pandas.core.frame.DataFrame'>\n",
      "Int64Index: 2133685 entries, 0 to 2133684\n",
      "Data columns (total 18 columns):\n",
      " #   Column                  Dtype  \n",
      "---  ------                  -----  \n",
      " 0   INDIVIDUAL_ID           int64  \n",
      " 1   ADDRESS_ID              int64  \n",
      " 2   CUST_ORIG_DATE          object \n",
      " 3   DATE_OF_BIRTH           object \n",
      " 4   SOCIAL_SECURITY_NUMBER  object \n",
      " 5   CUST_START_DATE         object \n",
      " 6   CURR_ANN_AMT_CAR        float64\n",
      " 7   CURR_ANN_AMT_HEALTH     float64\n",
      " 8   CURR_ANN_AMT_HOUSE      int64  \n",
      " 9   INCOME                  float64\n",
      " 10  HAS_CHILDREN            float64\n",
      " 11  LENGTH_OF_RESIDENCE     float64\n",
      " 12  MARITAL_STATUS          object \n",
      " 13  HOME_MARKET_VALUE       object \n",
      " 14  HOME_OWNER              int64  \n",
      " 15  COLLEGE_DEGREE          int64  \n",
      " 16  GOOD_CREDIT             int64  \n",
      " 17  ADVANCED_STUDIES        object \n",
      "dtypes: float64(5), int64(6), object(7)\n",
      "memory usage: 309.3+ MB\n"
     ]
    }
   ],
   "source": [
    "df.info()"
   ]
  },
  {
   "cell_type": "markdown",
   "metadata": {},
   "source": [
    "#### Data Quality Assessment Plan\n",
    "\n",
    "We will now embark on a thorough data quality assessment based on the data quality framework. Our goal is to ensure that our dataset adheres to the following dimensions of data quality:\n",
    "\n",
    "- **Completeness**: We will check for and address any missing values in our columns.\n",
    "- **Consistency**: We will verify that all data is in the correct format and that the dataset conforms to logical constraints.\n",
    "- **Correctness**: We will validate the accuracy of the data and correct any erroneous values.\n",
    "- **Uniqueness**: We will ensure that each customer is represented uniquely without any duplicates.\n",
    "- **Timeliness**: We will examine date columns to ensure the data is current and relevant for our analysis.\n",
    "- **Stability**: We will assess whether the dataset includes any volatile data that could change frequently and affect analysis.\n",
    "- **Relevance**: We will evaluate whether all included features are necessary for the analysis or if some may be redundant.\n",
    "- **Contextualization**: We will make sure that the data is well-understood in terms of its collection context and meaning.\n",
    "- **Trustworthiness**: We will discuss the source and collection process of the data to ensure its reliability.\n",
    "\n",
    "#### Initial Observations from `info()`\n",
    "- The `CUST_START_DATE`, `MARITAL_STATUS`, `HOME_MARKET_VALUE`, and `SUSPD_DATE` columns contain missing values that will need to be addressed.\n",
    "- The date columns (`CUST_ORIG_DATE`, `DATE_OF_BIRTH`, `CUST_START_DATE`, `SUSPD_DATE`) are of `object` type and likely need to be converted to `datetime` for proper analysis.\n",
    "- The `SOCIAL_SECURITY_NUMBER` should be examined to ensure it meets the correct format and privacy standards.\n",
    "- The `HOME_MARKET_VALUE` is listed as an object type, which suggests it may contain non-numeric values or special characters that will require cleaning.\n",
    "\n",
    "#### Next Steps\n",
    "We will proceed with the data quality assessment by examining each column in detail, identifying data quality issues, and applying corrective measures. This will involve:\n",
    "- Converting date columns to the appropriate `datetime` format.\n",
    "- Handling missing values strategically, deciding on imputation or removal.\n",
    "- Normalizing numerical columns like `HOME_MARKET_VALUE` to ensure they are in the correct format for analysis.\n",
    "- Verifying the uniqueness of the `INDIVIDUAL_ID` to avoid duplicate records."
   ]
  },
  {
   "cell_type": "code",
   "execution_count": 26,
   "metadata": {},
   "outputs": [
    {
     "data": {
      "text/plain": [
       "INDIVIDUAL_ID                  0\n",
       "ADDRESS_ID                     0\n",
       "CUST_ORIG_DATE                 0\n",
       "DATE_OF_BIRTH                  0\n",
       "SOCIAL_SECURITY_NUMBER         0\n",
       "CUST_START_DATE            84472\n",
       "CURR_ANN_AMT_CAR               0\n",
       "CURR_ANN_AMT_HEALTH            0\n",
       "CURR_ANN_AMT_HOUSE             0\n",
       "INCOME                         0\n",
       "HAS_CHILDREN                   0\n",
       "LENGTH_OF_RESIDENCE            0\n",
       "MARITAL_STATUS            435895\n",
       "HOME_MARKET_VALUE         192147\n",
       "HOME_OWNER                     0\n",
       "COLLEGE_DEGREE                 0\n",
       "GOOD_CREDIT                    0\n",
       "ADVANCED_STUDIES               0\n",
       "dtype: int64"
      ]
     },
     "execution_count": 26,
     "metadata": {},
     "output_type": "execute_result"
    }
   ],
   "source": [
    "df.isnull().sum()\n"
   ]
  },
  {
   "cell_type": "code",
   "execution_count": 27,
   "metadata": {},
   "outputs": [
    {
     "data": {
      "text/html": [
       "<div>\n",
       "<style scoped>\n",
       "    .dataframe tbody tr th:only-of-type {\n",
       "        vertical-align: middle;\n",
       "    }\n",
       "\n",
       "    .dataframe tbody tr th {\n",
       "        vertical-align: top;\n",
       "    }\n",
       "\n",
       "    .dataframe thead th {\n",
       "        text-align: right;\n",
       "    }\n",
       "</style>\n",
       "<table border=\"1\" class=\"dataframe\">\n",
       "  <thead>\n",
       "    <tr style=\"text-align: right;\">\n",
       "      <th></th>\n",
       "      <th>CUST_START_DATE</th>\n",
       "      <th>MARITAL_STATUS</th>\n",
       "      <th>HOME_MARKET_VALUE</th>\n",
       "    </tr>\n",
       "  </thead>\n",
       "  <tbody>\n",
       "    <tr>\n",
       "      <th>count</th>\n",
       "      <td>2049213</td>\n",
       "      <td>1697790</td>\n",
       "      <td>1941538</td>\n",
       "    </tr>\n",
       "    <tr>\n",
       "      <th>unique</th>\n",
       "      <td>18084</td>\n",
       "      <td>2</td>\n",
       "      <td>19</td>\n",
       "    </tr>\n",
       "    <tr>\n",
       "      <th>top</th>\n",
       "      <td>2005-09-11</td>\n",
       "      <td>Married</td>\n",
       "      <td>75000 - 99999</td>\n",
       "    </tr>\n",
       "    <tr>\n",
       "      <th>freq</th>\n",
       "      <td>496029</td>\n",
       "      <td>1058961</td>\n",
       "      <td>369562</td>\n",
       "    </tr>\n",
       "  </tbody>\n",
       "</table>\n",
       "</div>"
      ],
      "text/plain": [
       "       CUST_START_DATE MARITAL_STATUS HOME_MARKET_VALUE\n",
       "count          2049213        1697790           1941538\n",
       "unique           18084              2                19\n",
       "top         2005-09-11        Married     75000 - 99999\n",
       "freq            496029        1058961            369562"
      ]
     },
     "execution_count": 27,
     "metadata": {},
     "output_type": "execute_result"
    }
   ],
   "source": [
    "df[['CUST_START_DATE','MARITAL_STATUS','HOME_MARKET_VALUE']].describe()\n"
   ]
  },
  {
   "cell_type": "code",
   "execution_count": 28,
   "metadata": {},
   "outputs": [
    {
     "data": {
      "text/plain": [
       "0.03958972388145392"
      ]
     },
     "execution_count": 28,
     "metadata": {},
     "output_type": "execute_result"
    }
   ],
   "source": [
    "#percentage of missing values in the CUST_START_DATE column\n",
    "df['CUST_START_DATE'].isnull().mean()"
   ]
  },
  {
   "cell_type": "code",
   "execution_count": 29,
   "metadata": {},
   "outputs": [
    {
     "data": {
      "text/plain": [
       "0.20429210497332081"
      ]
     },
     "execution_count": 29,
     "metadata": {},
     "output_type": "execute_result"
    }
   ],
   "source": [
    "#percentage of missing values in the MARITAL_STATUS column\n",
    "df['MARITAL_STATUS'].isnull().mean()"
   ]
  },
  {
   "cell_type": "code",
   "execution_count": 30,
   "metadata": {},
   "outputs": [
    {
     "data": {
      "text/plain": [
       "0.20429210497332081"
      ]
     },
     "execution_count": 30,
     "metadata": {},
     "output_type": "execute_result"
    }
   ],
   "source": [
    "#percentage of missing values in the MARITAL_STATUS column\n",
    "df['MARITAL_STATUS'].isnull().mean()"
   ]
  },
  {
   "cell_type": "markdown",
   "metadata": {},
   "source": [
    "In our merged dataset, we have identified missing values in several columns, which are critical to address for maintaining data quality. Specifically, we have observed missing values in the `CUST_START_DATE` column. Additionally, there are significant gaps in the `MARITAL_STATUS` and `HOME_MARKET_VALUE` columns.\n",
    "\n",
    "Strategy:\n",
    "\n",
    "- **Remove records with missing `CUST_START_DATE`**: The absence of a policy start date would impede any analysis that depends on the policy's age or duration.\n",
    "\n",
    "The `MARITAL_STATUS` and `HOME_MARKET_VALUE` fields have missing values that may not be as straightforward to handle. These variables are potentially significant for demographic segmentation and risk assessment. Therefore, we will take a closer analytical approach to understand the nature of these gaps:\n",
    "\n",
    "- **Analyzing `MARITAL_STATUS` missing values**: We will investigate patterns in the data that might explain why these values are missing. If there is a pattern that is explainable, we may impute the missing values using a statistical method.\n",
    "\n",
    "- **Investigating `HOME_MARKET_VALUE` missing values**: Given that this is a financial metric, we need to consider if the absence of this value correlates with other customer characteristics. Depending on the distribution and relationship with other variables, we might impute these missing values using the median home market value or a model-based imputation method."
   ]
  },
  {
   "cell_type": "code",
   "execution_count": 31,
   "metadata": {},
   "outputs": [
    {
     "data": {
      "text/plain": [
       "INDIVIDUAL_ID                  0\n",
       "ADDRESS_ID                     0\n",
       "CUST_ORIG_DATE                 0\n",
       "DATE_OF_BIRTH                  0\n",
       "SOCIAL_SECURITY_NUMBER         0\n",
       "CUST_START_DATE                0\n",
       "CURR_ANN_AMT_CAR               0\n",
       "CURR_ANN_AMT_HEALTH            0\n",
       "CURR_ANN_AMT_HOUSE             0\n",
       "INCOME                         0\n",
       "HAS_CHILDREN                   0\n",
       "LENGTH_OF_RESIDENCE            0\n",
       "MARITAL_STATUS            418829\n",
       "HOME_MARKET_VALUE         184472\n",
       "HOME_OWNER                     0\n",
       "COLLEGE_DEGREE                 0\n",
       "GOOD_CREDIT                    0\n",
       "ADVANCED_STUDIES               0\n",
       "dtype: int64"
      ]
     },
     "execution_count": 31,
     "metadata": {},
     "output_type": "execute_result"
    }
   ],
   "source": [
    "df = df.dropna(subset=['CUST_START_DATE'])\n",
    "df.isnull().sum()"
   ]
  },
  {
   "cell_type": "code",
   "execution_count": 32,
   "metadata": {},
   "outputs": [
    {
     "data": {
      "text/plain": [
       "Married    1016927\n",
       "Single      613457\n",
       "NaN         418829\n",
       "Name: MARITAL_STATUS, dtype: int64"
      ]
     },
     "execution_count": 32,
     "metadata": {},
     "output_type": "execute_result"
    }
   ],
   "source": [
    "df['MARITAL_STATUS'].value_counts(dropna=False)"
   ]
  },
  {
   "cell_type": "code",
   "execution_count": 33,
   "metadata": {},
   "outputs": [
    {
     "data": {
      "text/plain": [
       "array(['Married', 'Single', nan], dtype=object)"
      ]
     },
     "execution_count": 33,
     "metadata": {},
     "output_type": "execute_result"
    }
   ],
   "source": [
    "df['MARITAL_STATUS'].unique()\n"
   ]
  },
  {
   "cell_type": "code",
   "execution_count": 34,
   "metadata": {},
   "outputs": [
    {
     "data": {
      "text/plain": [
       "<Axes: >"
      ]
     },
     "execution_count": 34,
     "metadata": {},
     "output_type": "execute_result"
    },
    {
     "data": {
      "image/png": "[encoded data removed]",
      "text/plain": [
       "<Figure size 640x480 with 1 Axes>"
      ]
     },
     "metadata": {},
     "output_type": "display_data"
    }
   ],
   "source": [
    "df['MARITAL_STATUS'].value_counts(dropna=False).plot(kind='bar')"
   ]
  },
  {
   "cell_type": "code",
   "execution_count": 35,
   "metadata": {},
   "outputs": [
    {
     "name": "stderr",
     "output_type": "stream",
     "text": [
      "/var/folders/51/kvxxh0pn2p9g4w8qy0z706n40000gn/T/ipykernel_75808/3067839141.py:1: FutureWarning: The default value of numeric_only in DataFrame.corrwith is deprecated. In a future version, it will default to False. Select only valid columns or specify the value of numeric_only to silence this warning.\n",
      "  df.corrwith(df['MARITAL_STATUS'].isnull())\n"
     ]
    },
    {
     "data": {
      "text/plain": [
       "INDIVIDUAL_ID          0.003958\n",
       "ADDRESS_ID             0.003605\n",
       "CURR_ANN_AMT_CAR      -0.075115\n",
       "CURR_ANN_AMT_HEALTH   -0.038149\n",
       "CURR_ANN_AMT_HOUSE    -0.072495\n",
       "INCOME                -0.044278\n",
       "HAS_CHILDREN          -0.322825\n",
       "LENGTH_OF_RESIDENCE   -0.271842\n",
       "HOME_OWNER            -0.523379\n",
       "COLLEGE_DEGREE        -0.214478\n",
       "GOOD_CREDIT           -0.110804\n",
       "dtype: float64"
      ]
     },
     "execution_count": 35,
     "metadata": {},
     "output_type": "execute_result"
    }
   ],
   "source": [
    "df.corrwith(df['MARITAL_STATUS'].isnull())"
   ]
  },
  {
   "cell_type": "code",
   "execution_count": 36,
   "metadata": {},
   "outputs": [],
   "source": [
    "# Before applying one-hot encoding, handle NaN values\n",
    "df['MARITAL_STATUS'] = df['MARITAL_STATUS'].fillna('Unknown')\n",
    "\n",
    "# Apply one-hot encoding to the MARITAL_STATUS column\n",
    "marital_status_dummies = pd.get_dummies(df['MARITAL_STATUS'], prefix='MARITAL_STATUS')\n",
    "\n",
    "# concatenate the new columns (one-hot encoded)\n",
    "df = pd.concat([df, marital_status_dummies], axis=1)\n",
    "\n",
    "# drop the original 'MARITAL_STATUS'\n",
    "df = df.drop('MARITAL_STATUS', axis=1)"
   ]
  },
  {
   "cell_type": "markdown",
   "metadata": {},
   "source": [
    "The `MARITAL_STATUS` feature presents an interesting dimension in our dataset, accounting for the diversity in our customers' life stages. Initially, we faced the challenge of handling its missing values and integrating this categorical variable into our predictive models. To ensure we fully capture the nuances it may introduce, we've decided to retain `MARITAL_STATUS` during the exploratory phase of our analysis.\n",
    "\n",
    "To effectively incorporate this feature into our machine learning models, we have applied one-hot encoding, which transforms `MARITAL_STATUS` into multiple binary columns, each representing a potential category. This technique allows us to:\n",
    "\n",
    "- Represent 'Married' as a separate feature column where the presence of this marital status is indicated by `1`, and its absence by `0`.\n",
    "- Similarly, 'Single' is denoted by `1` in its respective feature column when applicable.\n",
    "- Address missing values by treating 'Unknown' as its own category, thereby preserving data integrity without imputing arbitrary values.\n",
    "\n",
    "By employing one-hot encoding, we leverage the categorical nature of `MARITAL_STATUS` without assuming ordinality, and we ensure that our models can interpret this feature without bias towards any particular order or magnitude. This approach allows each category to contribute individually to the predictive power of our models, paving the way for insights into how marital status might correlate with customer value.\n"
   ]
  },
  {
   "cell_type": "code",
   "execution_count": 37,
   "metadata": {},
   "outputs": [
    {
     "data": {
      "text/html": [
       "<div>\n",
       "<style scoped>\n",
       "    .dataframe tbody tr th:only-of-type {\n",
       "        vertical-align: middle;\n",
       "    }\n",
       "\n",
       "    .dataframe tbody tr th {\n",
       "        vertical-align: top;\n",
       "    }\n",
       "\n",
       "    .dataframe thead th {\n",
       "        text-align: right;\n",
       "    }\n",
       "</style>\n",
       "<table border=\"1\" class=\"dataframe\">\n",
       "  <thead>\n",
       "    <tr style=\"text-align: right;\">\n",
       "      <th></th>\n",
       "      <th>INDIVIDUAL_ID</th>\n",
       "      <th>ADDRESS_ID</th>\n",
       "      <th>CUST_ORIG_DATE</th>\n",
       "      <th>DATE_OF_BIRTH</th>\n",
       "      <th>SOCIAL_SECURITY_NUMBER</th>\n",
       "      <th>CUST_START_DATE</th>\n",
       "      <th>CURR_ANN_AMT_CAR</th>\n",
       "      <th>CURR_ANN_AMT_HEALTH</th>\n",
       "      <th>CURR_ANN_AMT_HOUSE</th>\n",
       "      <th>INCOME</th>\n",
       "      <th>HAS_CHILDREN</th>\n",
       "      <th>LENGTH_OF_RESIDENCE</th>\n",
       "      <th>HOME_MARKET_VALUE</th>\n",
       "      <th>HOME_OWNER</th>\n",
       "      <th>COLLEGE_DEGREE</th>\n",
       "      <th>GOOD_CREDIT</th>\n",
       "      <th>ADVANCED_STUDIES</th>\n",
       "      <th>MARITAL_STATUS_Married</th>\n",
       "      <th>MARITAL_STATUS_Single</th>\n",
       "      <th>MARITAL_STATUS_Unknown</th>\n",
       "    </tr>\n",
       "  </thead>\n",
       "  <tbody>\n",
       "    <tr>\n",
       "      <th>0</th>\n",
       "      <td>221300017872</td>\n",
       "      <td>521300005982</td>\n",
       "      <td>2018-12-09</td>\n",
       "      <td>1978-06-23</td>\n",
       "      <td>608-XX-7640</td>\n",
       "      <td>2018-12-09</td>\n",
       "      <td>1318.877997</td>\n",
       "      <td>517.999317</td>\n",
       "      <td>411</td>\n",
       "      <td>33750.0</td>\n",
       "      <td>2.0</td>\n",
       "      <td>15.0</td>\n",
       "      <td>50000 - 74999</td>\n",
       "      <td>1</td>\n",
       "      <td>1</td>\n",
       "      <td>1</td>\n",
       "      <td>N</td>\n",
       "      <td>1</td>\n",
       "      <td>0</td>\n",
       "      <td>0</td>\n",
       "    </tr>\n",
       "    <tr>\n",
       "      <th>1</th>\n",
       "      <td>221300134410</td>\n",
       "      <td>521300051115</td>\n",
       "      <td>2018-01-02</td>\n",
       "      <td>1950-05-30</td>\n",
       "      <td>342-XX-6908</td>\n",
       "      <td>2018-01-02</td>\n",
       "      <td>1474.199182</td>\n",
       "      <td>558.417779</td>\n",
       "      <td>414</td>\n",
       "      <td>41250.0</td>\n",
       "      <td>0.0</td>\n",
       "      <td>2.0</td>\n",
       "      <td>50000 - 74999</td>\n",
       "      <td>1</td>\n",
       "      <td>0</td>\n",
       "      <td>0</td>\n",
       "      <td>N</td>\n",
       "      <td>0</td>\n",
       "      <td>1</td>\n",
       "      <td>0</td>\n",
       "    </tr>\n",
       "    <tr>\n",
       "      <th>2</th>\n",
       "      <td>221300673028</td>\n",
       "      <td>521300247929</td>\n",
       "      <td>2009-09-23</td>\n",
       "      <td>1967-07-07</td>\n",
       "      <td>240-XX-9224</td>\n",
       "      <td>2009-09-23</td>\n",
       "      <td>1467.375112</td>\n",
       "      <td>701.649310</td>\n",
       "      <td>442</td>\n",
       "      <td>63750.0</td>\n",
       "      <td>0.0</td>\n",
       "      <td>10.0</td>\n",
       "      <td>75000 - 99999</td>\n",
       "      <td>1</td>\n",
       "      <td>0</td>\n",
       "      <td>0</td>\n",
       "      <td>N</td>\n",
       "      <td>1</td>\n",
       "      <td>0</td>\n",
       "      <td>0</td>\n",
       "    </tr>\n",
       "    <tr>\n",
       "      <th>3</th>\n",
       "      <td>221301573419</td>\n",
       "      <td>521300570147</td>\n",
       "      <td>2022-07-25</td>\n",
       "      <td>1969-05-25</td>\n",
       "      <td>775-XX-6249</td>\n",
       "      <td>2022-07-25</td>\n",
       "      <td>1492.409561</td>\n",
       "      <td>401.517490</td>\n",
       "      <td>463</td>\n",
       "      <td>187500.0</td>\n",
       "      <td>2.0</td>\n",
       "      <td>6.0</td>\n",
       "      <td>175000 - 199999</td>\n",
       "      <td>1</td>\n",
       "      <td>0</td>\n",
       "      <td>1</td>\n",
       "      <td>N</td>\n",
       "      <td>1</td>\n",
       "      <td>0</td>\n",
       "      <td>0</td>\n",
       "    </tr>\n",
       "    <tr>\n",
       "      <th>4</th>\n",
       "      <td>221301622347</td>\n",
       "      <td>521300588399</td>\n",
       "      <td>2006-10-11</td>\n",
       "      <td>1972-09-25</td>\n",
       "      <td>629-XX-7298</td>\n",
       "      <td>2006-10-11</td>\n",
       "      <td>1284.633494</td>\n",
       "      <td>772.857222</td>\n",
       "      <td>366</td>\n",
       "      <td>131250.0</td>\n",
       "      <td>1.0</td>\n",
       "      <td>4.0</td>\n",
       "      <td>225000 - 249999</td>\n",
       "      <td>1</td>\n",
       "      <td>1</td>\n",
       "      <td>1</td>\n",
       "      <td>Y</td>\n",
       "      <td>1</td>\n",
       "      <td>0</td>\n",
       "      <td>0</td>\n",
       "    </tr>\n",
       "  </tbody>\n",
       "</table>\n",
       "</div>"
      ],
      "text/plain": [
       "   INDIVIDUAL_ID    ADDRESS_ID CUST_ORIG_DATE DATE_OF_BIRTH  \\\n",
       "0   221300017872  521300005982     2018-12-09    1978-06-23   \n",
       "1   221300134410  521300051115     2018-01-02    1950-05-30   \n",
       "2   221300673028  521300247929     2009-09-23    1967-07-07   \n",
       "3   221301573419  521300570147     2022-07-25    1969-05-25   \n",
       "4   221301622347  521300588399     2006-10-11    1972-09-25   \n",
       "\n",
       "  SOCIAL_SECURITY_NUMBER CUST_START_DATE  CURR_ANN_AMT_CAR  \\\n",
       "0            608-XX-7640      2018-12-09       1318.877997   \n",
       "1            342-XX-6908      2018-01-02       1474.199182   \n",
       "2            240-XX-9224      2009-09-23       1467.375112   \n",
       "3            775-XX-6249      2022-07-25       1492.409561   \n",
       "4            629-XX-7298      2006-10-11       1284.633494   \n",
       "\n",
       "   CURR_ANN_AMT_HEALTH  CURR_ANN_AMT_HOUSE    INCOME  HAS_CHILDREN  \\\n",
       "0           517.999317                 411   33750.0           2.0   \n",
       "1           558.417779                 414   41250.0           0.0   \n",
       "2           701.649310                 442   63750.0           0.0   \n",
       "3           401.517490                 463  187500.0           2.0   \n",
       "4           772.857222                 366  131250.0           1.0   \n",
       "\n",
       "   LENGTH_OF_RESIDENCE HOME_MARKET_VALUE  HOME_OWNER  COLLEGE_DEGREE  \\\n",
       "0                 15.0     50000 - 74999           1               1   \n",
       "1                  2.0     50000 - 74999           1               0   \n",
       "2                 10.0     75000 - 99999           1               0   \n",
       "3                  6.0   175000 - 199999           1               0   \n",
       "4                  4.0   225000 - 249999           1               1   \n",
       "\n",
       "   GOOD_CREDIT ADVANCED_STUDIES  MARITAL_STATUS_Married  \\\n",
       "0            1                N                       1   \n",
       "1            0                N                       0   \n",
       "2            0                N                       1   \n",
       "3            1                N                       1   \n",
       "4            1                Y                       1   \n",
       "\n",
       "   MARITAL_STATUS_Single  MARITAL_STATUS_Unknown  \n",
       "0                      0                       0  \n",
       "1                      1                       0  \n",
       "2                      0                       0  \n",
       "3                      0                       0  \n",
       "4                      0                       0  "
      ]
     },
     "execution_count": 37,
     "metadata": {},
     "output_type": "execute_result"
    }
   ],
   "source": [
    "df.head()"
   ]
  },
  {
   "cell_type": "code",
   "execution_count": 38,
   "metadata": {},
   "outputs": [
    {
     "data": {
      "text/plain": [
       "75000 - 99999      354951\n",
       "100000 - 124999    320300\n",
       "50000 - 74999      259463\n",
       "125000 - 149999    243269\n",
       "NaN                184472\n",
       "150000 - 174999    170959\n",
       "175000 - 199999    113191\n",
       "25000 - 49999      107464\n",
       "200000 - 224999     78557\n",
       "225000 - 249999     53686\n",
       "250000 - 274999     36322\n",
       "1000 - 24999        34541\n",
       "300000 - 349999     24528\n",
       "275000 - 299999     21949\n",
       "350000 - 399999     13646\n",
       "500000 - 749999     11943\n",
       "400000 - 449999      7868\n",
       "450000 - 499999      5822\n",
       "750000 - 999999      3799\n",
       "1000000 Plus         2483\n",
       "Name: HOME_MARKET_VALUE, dtype: int64"
      ]
     },
     "execution_count": 38,
     "metadata": {},
     "output_type": "execute_result"
    }
   ],
   "source": [
    "df['HOME_MARKET_VALUE'].value_counts(dropna=False)"
   ]
  },
  {
   "cell_type": "code",
   "execution_count": 39,
   "metadata": {},
   "outputs": [
    {
     "data": {
      "text/plain": [
       "<Axes: >"
      ]
     },
     "execution_count": 39,
     "metadata": {},
     "output_type": "execute_result"
    },
    {
     "data": {
      "image/png": "[encoded data removed]",
      "text/plain": [
       "<Figure size 640x480 with 1 Axes>"
      ]
     },
     "metadata": {},
     "output_type": "display_data"
    }
   ],
   "source": [
    "df['HOME_MARKET_VALUE'].unique()\n",
    "df['HOME_MARKET_VALUE'].value_counts(dropna=False).plot(kind='bar')"
   ]
  },
  {
   "cell_type": "code",
   "execution_count": 40,
   "metadata": {},
   "outputs": [],
   "source": [
    "#feature engineering of the HOME_MARKET_VALUE column\n",
    "\n",
    "def convert_home_market_value_to_midpoint(value):\n",
    "    if pd.isnull(value):\n",
    "        return np.nan  \n",
    "    elif value == '1000000 Plus':\n",
    "        return 1000000  \n",
    "    else:\n",
    "        # Split the string on the dash and take the average of the low and high end\n",
    "        low, high = value.split('-')\n",
    "        return (int(low) + int(high)) / 2\n",
    "\n",
    "# Apply the function to the HOME_MARKET_VALUE column\n",
    "df['HOME_MARKET_VALUE_NUMERIC'] = df['HOME_MARKET_VALUE'].apply(convert_home_market_value_to_midpoint)\n"
   ]
  },
  {
   "cell_type": "code",
   "execution_count": 41,
   "metadata": {},
   "outputs": [
    {
     "data": {
      "text/html": [
       "<div>\n",
       "<style scoped>\n",
       "    .dataframe tbody tr th:only-of-type {\n",
       "        vertical-align: middle;\n",
       "    }\n",
       "\n",
       "    .dataframe tbody tr th {\n",
       "        vertical-align: top;\n",
       "    }\n",
       "\n",
       "    .dataframe thead th {\n",
       "        text-align: right;\n",
       "    }\n",
       "</style>\n",
       "<table border=\"1\" class=\"dataframe\">\n",
       "  <thead>\n",
       "    <tr style=\"text-align: right;\">\n",
       "      <th></th>\n",
       "      <th>INDIVIDUAL_ID</th>\n",
       "      <th>ADDRESS_ID</th>\n",
       "      <th>CUST_ORIG_DATE</th>\n",
       "      <th>DATE_OF_BIRTH</th>\n",
       "      <th>SOCIAL_SECURITY_NUMBER</th>\n",
       "      <th>CUST_START_DATE</th>\n",
       "      <th>CURR_ANN_AMT_CAR</th>\n",
       "      <th>CURR_ANN_AMT_HEALTH</th>\n",
       "      <th>CURR_ANN_AMT_HOUSE</th>\n",
       "      <th>INCOME</th>\n",
       "      <th>...</th>\n",
       "      <th>LENGTH_OF_RESIDENCE</th>\n",
       "      <th>HOME_MARKET_VALUE</th>\n",
       "      <th>HOME_OWNER</th>\n",
       "      <th>COLLEGE_DEGREE</th>\n",
       "      <th>GOOD_CREDIT</th>\n",
       "      <th>ADVANCED_STUDIES</th>\n",
       "      <th>MARITAL_STATUS_Married</th>\n",
       "      <th>MARITAL_STATUS_Single</th>\n",
       "      <th>MARITAL_STATUS_Unknown</th>\n",
       "      <th>HOME_MARKET_VALUE_NUMERIC</th>\n",
       "    </tr>\n",
       "  </thead>\n",
       "  <tbody>\n",
       "    <tr>\n",
       "      <th>0</th>\n",
       "      <td>221300017872</td>\n",
       "      <td>521300005982</td>\n",
       "      <td>2018-12-09</td>\n",
       "      <td>1978-06-23</td>\n",
       "      <td>608-XX-7640</td>\n",
       "      <td>2018-12-09</td>\n",
       "      <td>1318.877997</td>\n",
       "      <td>517.999317</td>\n",
       "      <td>411</td>\n",
       "      <td>33750.0</td>\n",
       "      <td>...</td>\n",
       "      <td>15.0</td>\n",
       "      <td>50000 - 74999</td>\n",
       "      <td>1</td>\n",
       "      <td>1</td>\n",
       "      <td>1</td>\n",
       "      <td>N</td>\n",
       "      <td>1</td>\n",
       "      <td>0</td>\n",
       "      <td>0</td>\n",
       "      <td>62499.5</td>\n",
       "    </tr>\n",
       "    <tr>\n",
       "      <th>1</th>\n",
       "      <td>221300134410</td>\n",
       "      <td>521300051115</td>\n",
       "      <td>2018-01-02</td>\n",
       "      <td>1950-05-30</td>\n",
       "      <td>342-XX-6908</td>\n",
       "      <td>2018-01-02</td>\n",
       "      <td>1474.199182</td>\n",
       "      <td>558.417779</td>\n",
       "      <td>414</td>\n",
       "      <td>41250.0</td>\n",
       "      <td>...</td>\n",
       "      <td>2.0</td>\n",
       "      <td>50000 - 74999</td>\n",
       "      <td>1</td>\n",
       "      <td>0</td>\n",
       "      <td>0</td>\n",
       "      <td>N</td>\n",
       "      <td>0</td>\n",
       "      <td>1</td>\n",
       "      <td>0</td>\n",
       "      <td>62499.5</td>\n",
       "    </tr>\n",
       "    <tr>\n",
       "      <th>2</th>\n",
       "      <td>221300673028</td>\n",
       "      <td>521300247929</td>\n",
       "      <td>2009-09-23</td>\n",
       "      <td>1967-07-07</td>\n",
       "      <td>240-XX-9224</td>\n",
       "      <td>2009-09-23</td>\n",
       "      <td>1467.375112</td>\n",
       "      <td>701.649310</td>\n",
       "      <td>442</td>\n",
       "      <td>63750.0</td>\n",
       "      <td>...</td>\n",
       "      <td>10.0</td>\n",
       "      <td>75000 - 99999</td>\n",
       "      <td>1</td>\n",
       "      <td>0</td>\n",
       "      <td>0</td>\n",
       "      <td>N</td>\n",
       "      <td>1</td>\n",
       "      <td>0</td>\n",
       "      <td>0</td>\n",
       "      <td>87499.5</td>\n",
       "    </tr>\n",
       "    <tr>\n",
       "      <th>3</th>\n",
       "      <td>221301573419</td>\n",
       "      <td>521300570147</td>\n",
       "      <td>2022-07-25</td>\n",
       "      <td>1969-05-25</td>\n",
       "      <td>775-XX-6249</td>\n",
       "      <td>2022-07-25</td>\n",
       "      <td>1492.409561</td>\n",
       "      <td>401.517490</td>\n",
       "      <td>463</td>\n",
       "      <td>187500.0</td>\n",
       "      <td>...</td>\n",
       "      <td>6.0</td>\n",
       "      <td>175000 - 199999</td>\n",
       "      <td>1</td>\n",
       "      <td>0</td>\n",
       "      <td>1</td>\n",
       "      <td>N</td>\n",
       "      <td>1</td>\n",
       "      <td>0</td>\n",
       "      <td>0</td>\n",
       "      <td>187499.5</td>\n",
       "    </tr>\n",
       "    <tr>\n",
       "      <th>4</th>\n",
       "      <td>221301622347</td>\n",
       "      <td>521300588399</td>\n",
       "      <td>2006-10-11</td>\n",
       "      <td>1972-09-25</td>\n",
       "      <td>629-XX-7298</td>\n",
       "      <td>2006-10-11</td>\n",
       "      <td>1284.633494</td>\n",
       "      <td>772.857222</td>\n",
       "      <td>366</td>\n",
       "      <td>131250.0</td>\n",
       "      <td>...</td>\n",
       "      <td>4.0</td>\n",
       "      <td>225000 - 249999</td>\n",
       "      <td>1</td>\n",
       "      <td>1</td>\n",
       "      <td>1</td>\n",
       "      <td>Y</td>\n",
       "      <td>1</td>\n",
       "      <td>0</td>\n",
       "      <td>0</td>\n",
       "      <td>237499.5</td>\n",
       "    </tr>\n",
       "  </tbody>\n",
       "</table>\n",
       "<p>5 rows × 21 columns</p>\n",
       "</div>"
      ],
      "text/plain": [
       "   INDIVIDUAL_ID    ADDRESS_ID CUST_ORIG_DATE DATE_OF_BIRTH  \\\n",
       "0   221300017872  521300005982     2018-12-09    1978-06-23   \n",
       "1   221300134410  521300051115     2018-01-02    1950-05-30   \n",
       "2   221300673028  521300247929     2009-09-23    1967-07-07   \n",
       "3   221301573419  521300570147     2022-07-25    1969-05-25   \n",
       "4   221301622347  521300588399     2006-10-11    1972-09-25   \n",
       "\n",
       "  SOCIAL_SECURITY_NUMBER CUST_START_DATE  CURR_ANN_AMT_CAR  \\\n",
       "0            608-XX-7640      2018-12-09       1318.877997   \n",
       "1            342-XX-6908      2018-01-02       1474.199182   \n",
       "2            240-XX-9224      2009-09-23       1467.375112   \n",
       "3            775-XX-6249      2022-07-25       1492.409561   \n",
       "4            629-XX-7298      2006-10-11       1284.633494   \n",
       "\n",
       "   CURR_ANN_AMT_HEALTH  CURR_ANN_AMT_HOUSE    INCOME  ...  \\\n",
       "0           517.999317                 411   33750.0  ...   \n",
       "1           558.417779                 414   41250.0  ...   \n",
       "2           701.649310                 442   63750.0  ...   \n",
       "3           401.517490                 463  187500.0  ...   \n",
       "4           772.857222                 366  131250.0  ...   \n",
       "\n",
       "   LENGTH_OF_RESIDENCE  HOME_MARKET_VALUE HOME_OWNER  COLLEGE_DEGREE  \\\n",
       "0                 15.0      50000 - 74999          1               1   \n",
       "1                  2.0      50000 - 74999          1               0   \n",
       "2                 10.0      75000 - 99999          1               0   \n",
       "3                  6.0    175000 - 199999          1               0   \n",
       "4                  4.0    225000 - 249999          1               1   \n",
       "\n",
       "   GOOD_CREDIT  ADVANCED_STUDIES MARITAL_STATUS_Married  \\\n",
       "0            1                 N                      1   \n",
       "1            0                 N                      0   \n",
       "2            0                 N                      1   \n",
       "3            1                 N                      1   \n",
       "4            1                 Y                      1   \n",
       "\n",
       "   MARITAL_STATUS_Single  MARITAL_STATUS_Unknown  HOME_MARKET_VALUE_NUMERIC  \n",
       "0                      0                       0                    62499.5  \n",
       "1                      1                       0                    62499.5  \n",
       "2                      0                       0                    87499.5  \n",
       "3                      0                       0                   187499.5  \n",
       "4                      0                       0                   237499.5  \n",
       "\n",
       "[5 rows x 21 columns]"
      ]
     },
     "execution_count": 41,
     "metadata": {},
     "output_type": "execute_result"
    }
   ],
   "source": [
    "df.head()"
   ]
  },
  {
   "cell_type": "code",
   "execution_count": 42,
   "metadata": {},
   "outputs": [
    {
     "name": "stderr",
     "output_type": "stream",
     "text": [
      "/var/folders/51/kvxxh0pn2p9g4w8qy0z706n40000gn/T/ipykernel_75808/1483481887.py:1: FutureWarning: The default value of numeric_only in DataFrame.corrwith is deprecated. In a future version, it will default to False. Select only valid columns or specify the value of numeric_only to silence this warning.\n",
      "  df.corrwith(df['HOME_MARKET_VALUE_NUMERIC'].isnull())\n"
     ]
    },
    {
     "data": {
      "text/plain": [
       "INDIVIDUAL_ID                0.011772\n",
       "ADDRESS_ID                   0.012056\n",
       "CURR_ANN_AMT_CAR            -0.079484\n",
       "CURR_ANN_AMT_HEALTH         -0.040591\n",
       "CURR_ANN_AMT_HOUSE          -0.076766\n",
       "INCOME                      -0.039296\n",
       "HAS_CHILDREN                -0.086397\n",
       "LENGTH_OF_RESIDENCE         -0.396976\n",
       "HOME_OWNER                  -0.454982\n",
       "COLLEGE_DEGREE              -0.084614\n",
       "GOOD_CREDIT                 -0.062917\n",
       "MARITAL_STATUS_Married      -0.141396\n",
       "MARITAL_STATUS_Single       -0.058888\n",
       "MARITAL_STATUS_Unknown       0.242195\n",
       "HOME_MARKET_VALUE_NUMERIC         NaN\n",
       "dtype: float64"
      ]
     },
     "execution_count": 42,
     "metadata": {},
     "output_type": "execute_result"
    }
   ],
   "source": [
    "df.corrwith(df['HOME_MARKET_VALUE_NUMERIC'].isnull())\n"
   ]
  },
  {
   "cell_type": "code",
   "execution_count": 43,
   "metadata": {},
   "outputs": [
    {
     "data": {
      "text/plain": [
       "<Axes: >"
      ]
     },
     "execution_count": 43,
     "metadata": {},
     "output_type": "execute_result"
    },
    {
     "data": {
      "image/png": "[encoded data removed]",
      "text/plain": [
       "<Figure size 640x480 with 1 Axes>"
      ]
     },
     "metadata": {},
     "output_type": "display_data"
    }
   ],
   "source": [
    "df['HOME_MARKET_VALUE_NUMERIC'].hist(bins=10)\n"
   ]
  },
  {
   "cell_type": "code",
   "execution_count": 44,
   "metadata": {},
   "outputs": [
    {
     "data": {
      "text/plain": [
       "0.09002090070675914"
      ]
     },
     "execution_count": 44,
     "metadata": {},
     "output_type": "execute_result"
    }
   ],
   "source": [
    "df['HOME_MARKET_VALUE_NUMERIC'].isnull().mean()\n"
   ]
  },
  {
   "cell_type": "code",
   "execution_count": 45,
   "metadata": {},
   "outputs": [
    {
     "data": {
      "text/plain": [
       "INDIVIDUAL_ID                0.0\n",
       "ADDRESS_ID                   0.0\n",
       "CUST_ORIG_DATE               0.0\n",
       "DATE_OF_BIRTH                0.0\n",
       "SOCIAL_SECURITY_NUMBER       0.0\n",
       "CUST_START_DATE              0.0\n",
       "CURR_ANN_AMT_CAR             0.0\n",
       "CURR_ANN_AMT_HEALTH          0.0\n",
       "CURR_ANN_AMT_HOUSE           0.0\n",
       "INCOME                       0.0\n",
       "HAS_CHILDREN                 0.0\n",
       "LENGTH_OF_RESIDENCE          0.0\n",
       "HOME_MARKET_VALUE            0.0\n",
       "HOME_OWNER                   0.0\n",
       "COLLEGE_DEGREE               0.0\n",
       "GOOD_CREDIT                  0.0\n",
       "ADVANCED_STUDIES             0.0\n",
       "MARITAL_STATUS_Married       0.0\n",
       "MARITAL_STATUS_Single        0.0\n",
       "MARITAL_STATUS_Unknown       0.0\n",
       "HOME_MARKET_VALUE_NUMERIC    0.0\n",
       "dtype: float64"
      ]
     },
     "execution_count": 45,
     "metadata": {},
     "output_type": "execute_result"
    }
   ],
   "source": [
    "#remove null rows from the HOME_MARKET_VALUE_NUMERIC column\n",
    "df = df.dropna(subset=['HOME_MARKET_VALUE_NUMERIC'])\n",
    "df.isnull().mean()"
   ]
  },
  {
   "cell_type": "markdown",
   "metadata": {},
   "source": [
    "Upon thorough examination of the `HOME_MARKET_VALUE_NUMERIC` variable, we have determined that the missing values do not exhibit significant correlations with other features in our dataset. This suggests that the impact of these missing values on our overall analysis may be minimal. Considering that the missing data accounts for approximately 10% of our dataset and in light of its low correlation with other variables, we have decided that the most prudent course of action is to remove these records from our dataset.\n",
    "\n",
    "Justification for Data Removal:\n",
    "- **Dataset Size**: Our dataset is sufficiently large, and the exclusion of these records will not compromise the statistical power of our subsequent analyses.\n",
    "- **Bias Consideration**: Preliminary analysis suggests that the missingness is likely random (MCAR), reducing the risk of introducing bias through their removal.\n",
    "- **Model Simplicity**: By removing the missing data, we maintain the simplicity of our modeling process, avoiding the uncertainties and potential biases associated with imputation.\n",
    "- **Pattern of Missingness**: The lack of a strong relationship between the missing values and other features supports the assumption that the missingness is not systematic and is unlikely to be informative."
   ]
  },
  {
   "cell_type": "markdown",
   "metadata": {},
   "source": [
    "#### Correction of features format - CONSISTENCY & CORRECTNESS"
   ]
  },
  {
   "cell_type": "code",
   "execution_count": 46,
   "metadata": {},
   "outputs": [
    {
     "name": "stdout",
     "output_type": "stream",
     "text": [
      "<class 'pandas.core.frame.DataFrame'>\n",
      "Int64Index: 1864741 entries, 0 to 2133684\n",
      "Data columns (total 21 columns):\n",
      " #   Column                     Dtype  \n",
      "---  ------                     -----  \n",
      " 0   INDIVIDUAL_ID              int64  \n",
      " 1   ADDRESS_ID                 int64  \n",
      " 2   CUST_ORIG_DATE             object \n",
      " 3   DATE_OF_BIRTH              object \n",
      " 4   SOCIAL_SECURITY_NUMBER     object \n",
      " 5   CUST_START_DATE            object \n",
      " 6   CURR_ANN_AMT_CAR           float64\n",
      " 7   CURR_ANN_AMT_HEALTH        float64\n",
      " 8   CURR_ANN_AMT_HOUSE         int64  \n",
      " 9   INCOME                     float64\n",
      " 10  HAS_CHILDREN               float64\n",
      " 11  LENGTH_OF_RESIDENCE        float64\n",
      " 12  HOME_MARKET_VALUE          object \n",
      " 13  HOME_OWNER                 int64  \n",
      " 14  COLLEGE_DEGREE             int64  \n",
      " 15  GOOD_CREDIT                int64  \n",
      " 16  ADVANCED_STUDIES           object \n",
      " 17  MARITAL_STATUS_Married     uint8  \n",
      " 18  MARITAL_STATUS_Single      uint8  \n",
      " 19  MARITAL_STATUS_Unknown     uint8  \n",
      " 20  HOME_MARKET_VALUE_NUMERIC  float64\n",
      "dtypes: float64(6), int64(6), object(6), uint8(3)\n",
      "memory usage: 275.6+ MB\n"
     ]
    }
   ],
   "source": [
    "df.info()"
   ]
  },
  {
   "cell_type": "code",
   "execution_count": 47,
   "metadata": {},
   "outputs": [],
   "source": [
    "# Convert date columns to datetime\n",
    "date_columns = ['CUST_ORIG_DATE', 'DATE_OF_BIRTH', 'CUST_START_DATE']\n",
    "for date_column in date_columns:\n",
    "    df[date_column] = pd.to_datetime(df[date_column], errors='coerce')\n"
   ]
  },
  {
   "cell_type": "code",
   "execution_count": 48,
   "metadata": {},
   "outputs": [],
   "source": [
    "df['SOCIAL_SECURITY_NUMBER'] = df['SOCIAL_SECURITY_NUMBER'].astype(str)"
   ]
  },
  {
   "cell_type": "code",
   "execution_count": 49,
   "metadata": {},
   "outputs": [
    {
     "data": {
      "text/plain": [
       "0.0    1029078\n",
       "1.0     783607\n",
       "2.0      41844\n",
       "3.0       6991\n",
       "4.0       1940\n",
       "5.0        668\n",
       "6.0        613\n",
       "Name: HAS_CHILDREN, dtype: int64"
      ]
     },
     "execution_count": 49,
     "metadata": {},
     "output_type": "execute_result"
    }
   ],
   "source": [
    "df['HAS_CHILDREN'].value_counts(dropna=False)\n"
   ]
  },
  {
   "cell_type": "code",
   "execution_count": 50,
   "metadata": {},
   "outputs": [
    {
     "data": {
      "text/plain": [
       "15.000    341017\n",
       "6.801     199029\n",
       "2.000     154995\n",
       "3.000     142551\n",
       "1.000     140596\n",
       "4.000     126420\n",
       "5.000     114428\n",
       "6.000      95150\n",
       "7.000      85704\n",
       "8.000      75752\n",
       "9.000      67906\n",
       "0.000      61911\n",
       "10.000     61548\n",
       "11.000     59770\n",
       "12.000     52357\n",
       "13.000     45216\n",
       "14.000     40391\n",
       "Name: LENGTH_OF_RESIDENCE, dtype: int64"
      ]
     },
     "execution_count": 50,
     "metadata": {},
     "output_type": "execute_result"
    }
   ],
   "source": [
    "df['LENGTH_OF_RESIDENCE'].value_counts(dropna=False)"
   ]
  },
  {
   "cell_type": "code",
   "execution_count": 51,
   "metadata": {},
   "outputs": [
    {
     "data": {
      "text/plain": [
       "1    1424654\n",
       "0     440087\n",
       "Name: HOME_OWNER, dtype: int64"
      ]
     },
     "execution_count": 51,
     "metadata": {},
     "output_type": "execute_result"
    }
   ],
   "source": [
    "df['HOME_OWNER'].value_counts(dropna=False)"
   ]
  },
  {
   "cell_type": "code",
   "execution_count": 52,
   "metadata": {},
   "outputs": [
    {
     "data": {
      "text/plain": [
       "0    1279669\n",
       "1     585072\n",
       "Name: COLLEGE_DEGREE, dtype: int64"
      ]
     },
     "execution_count": 52,
     "metadata": {},
     "output_type": "execute_result"
    }
   ],
   "source": [
    "df['COLLEGE_DEGREE'].value_counts(dropna=False)"
   ]
  },
  {
   "cell_type": "code",
   "execution_count": 53,
   "metadata": {},
   "outputs": [
    {
     "data": {
      "text/plain": [
       "1    1542481\n",
       "0     322260\n",
       "Name: GOOD_CREDIT, dtype: int64"
      ]
     },
     "execution_count": 53,
     "metadata": {},
     "output_type": "execute_result"
    }
   ],
   "source": [
    "df['GOOD_CREDIT'].value_counts(dropna=False)"
   ]
  },
  {
   "cell_type": "code",
   "execution_count": 54,
   "metadata": {},
   "outputs": [
    {
     "data": {
      "text/plain": [
       "N    1376013\n",
       "Y     488728\n",
       "Name: ADVANCED_STUDIES, dtype: int64"
      ]
     },
     "execution_count": 54,
     "metadata": {},
     "output_type": "execute_result"
    }
   ],
   "source": [
    "df['ADVANCED_STUDIES'].value_counts(dropna=False)"
   ]
  },
  {
   "cell_type": "code",
   "execution_count": 55,
   "metadata": {},
   "outputs": [
    {
     "data": {
      "text/plain": [
       "0    1376013\n",
       "1     488728\n",
       "Name: ADVANCED_STUDIES_BINARY, dtype: int64"
      ]
     },
     "execution_count": 55,
     "metadata": {},
     "output_type": "execute_result"
    }
   ],
   "source": [
    "#trnsform the categorical columns to binary\n",
    "df['ADVANCED_STUDIES_BINARY'] = df['ADVANCED_STUDIES'].map({'Y': 1, 'N': 0})\n",
    "df['ADVANCED_STUDIES_BINARY'].value_counts()"
   ]
  },
  {
   "cell_type": "code",
   "execution_count": 56,
   "metadata": {},
   "outputs": [
    {
     "data": {
      "text/plain": [
       "INDIVIDUAL_ID                         int64\n",
       "ADDRESS_ID                            int64\n",
       "CUST_ORIG_DATE               datetime64[ns]\n",
       "DATE_OF_BIRTH                datetime64[ns]\n",
       "SOCIAL_SECURITY_NUMBER               object\n",
       "CUST_START_DATE              datetime64[ns]\n",
       "CURR_ANN_AMT_CAR                    float64\n",
       "CURR_ANN_AMT_HEALTH                 float64\n",
       "CURR_ANN_AMT_HOUSE                    int64\n",
       "INCOME                              float64\n",
       "HAS_CHILDREN                        float64\n",
       "LENGTH_OF_RESIDENCE                 float64\n",
       "HOME_MARKET_VALUE                    object\n",
       "HOME_OWNER                            int64\n",
       "COLLEGE_DEGREE                        int64\n",
       "GOOD_CREDIT                           int64\n",
       "ADVANCED_STUDIES                     object\n",
       "MARITAL_STATUS_Married                uint8\n",
       "MARITAL_STATUS_Single                 uint8\n",
       "MARITAL_STATUS_Unknown                uint8\n",
       "HOME_MARKET_VALUE_NUMERIC           float64\n",
       "ADVANCED_STUDIES_BINARY               int64\n",
       "dtype: object"
      ]
     },
     "execution_count": 56,
     "metadata": {},
     "output_type": "execute_result"
    }
   ],
   "source": [
    "df.dtypes"
   ]
  },
  {
   "cell_type": "markdown",
   "metadata": {},
   "source": [
    "#### Analysis of Duplicates - UNIQUENESS"
   ]
  },
  {
   "cell_type": "code",
   "execution_count": 57,
   "metadata": {},
   "outputs": [
    {
     "data": {
      "text/plain": [
       "0"
      ]
     },
     "execution_count": 57,
     "metadata": {},
     "output_type": "execute_result"
    }
   ],
   "source": [
    "df.duplicated().sum()"
   ]
  },
  {
   "cell_type": "markdown",
   "metadata": {},
   "source": [
    "#### EDA OF THE FEATURES"
   ]
  },
  {
   "cell_type": "markdown",
   "metadata": {},
   "source": [
    "#### Analysis of Temporal features - TIMELINESS\n"
   ]
  },
  {
   "cell_type": "code",
   "execution_count": 58,
   "metadata": {},
   "outputs": [
    {
     "name": "stdout",
     "output_type": "stream",
     "text": [
      "count                          1864741\n",
      "mean     2013-04-11 06:34:51.575826688\n",
      "min                2005-09-11 00:00:00\n",
      "25%                2005-09-11 00:00:00\n",
      "50%                2013-03-11 00:00:00\n",
      "75%                2019-05-04 00:00:00\n",
      "max                2022-11-12 00:00:00\n",
      "Name: CUST_ORIG_DATE, dtype: object\n",
      "count                          1864741\n",
      "mean     1967-04-06 12:47:19.943134224\n",
      "min                1908-12-11 00:00:00\n",
      "25%                1959-12-30 00:00:00\n",
      "50%                1967-07-07 00:00:00\n",
      "75%                1976-09-24 00:00:00\n",
      "max                1999-06-19 00:00:00\n",
      "Name: DATE_OF_BIRTH, dtype: object\n",
      "count                          1864741\n",
      "mean     2013-03-29 10:23:51.222888448\n",
      "min                1985-09-16 00:00:00\n",
      "25%                2005-09-11 00:00:00\n",
      "50%                2013-02-28 00:00:00\n",
      "75%                2019-07-02 00:00:00\n",
      "max                2041-10-28 00:00:00\n",
      "Name: CUST_START_DATE, dtype: object\n"
     ]
    }
   ],
   "source": [
    "print(df['CUST_ORIG_DATE'].describe(datetime_is_numeric=True))\n",
    "print(df['DATE_OF_BIRTH'].describe(datetime_is_numeric=True))\n",
    "print(df['CUST_START_DATE'].describe(datetime_is_numeric=True))"
   ]
  },
  {
   "cell_type": "markdown",
   "metadata": {},
   "source": [
    "Observations:\n",
    "- The `CUST_ORIG_DATE` indicates that customers have been joining from late 2005 through late 2022, with a median joining date around the end of 2020.\n",
    "- The `DATE_OF_BIRTH` data indicates that the range of customer ages spans from young adults (about 23 years old at the time of the latest data point in 2022) to much older individuals (possibly over 100 years old), with a median age around 55 years old.\n",
    "- The `CUST_START_DATE` appears to have an anomaly, as the maximum date is in the future (2041), which is not possible and suggests either a data entry error or placeholder data."
   ]
  },
  {
   "cell_type": "code",
   "execution_count": 59,
   "metadata": {},
   "outputs": [
    {
     "name": "stdout",
     "output_type": "stream",
     "text": [
      "Number of future dates in CUST_START_DATE: 28115\n"
     ]
    }
   ],
   "source": [
    "# Check for future dates in the CUST_START_DATE column\n",
    "future_dates = df[df['CUST_START_DATE'] > datetime.now()]\n",
    "print(f\"Number of future dates in CUST_START_DATE: {future_dates.shape[0]}\")"
   ]
  },
  {
   "cell_type": "code",
   "execution_count": 60,
   "metadata": {},
   "outputs": [
    {
     "name": "stdout",
     "output_type": "stream",
     "text": [
      "Number of records where CUST_START_DATE is before CUST_ORIG_DATE: 67163\n"
     ]
    }
   ],
   "source": [
    "invalid_dates = df[df['CUST_START_DATE'] < df['CUST_ORIG_DATE']]\n",
    "print(f\"Number of records where CUST_START_DATE is before CUST_ORIG_DATE: {invalid_dates.shape[0]}\")"
   ]
  },
  {
   "cell_type": "code",
   "execution_count": 61,
   "metadata": {},
   "outputs": [
    {
     "name": "stdout",
     "output_type": "stream",
     "text": [
      "Percentage of future dates in CUST_START_DATE: 1.51%\n",
      "Percentage of records where CUST_START_DATE is before CUST_ORIG_DATE: 3.60%\n"
     ]
    },
    {
     "data": {
      "text/plain": [
       "0.05109449516045392"
      ]
     },
     "execution_count": 61,
     "metadata": {},
     "output_type": "execute_result"
    }
   ],
   "source": [
    "#see the percentage of the sum of future_dates and invalid_dates respect to the total number of records\n",
    "print(f\"Percentage of future dates in CUST_START_DATE: {future_dates.shape[0] / df.shape[0] * 100:.2f}%\")\n",
    "print(f\"Percentage of records where CUST_START_DATE is before CUST_ORIG_DATE: {invalid_dates.shape[0] / df.shape[0] * 100:.2f}%\")\n",
    "\n",
    "(future_dates.shape[0] + invalid_dates.shape[0]) / df.shape[0]"
   ]
  },
  {
   "cell_type": "markdown",
   "metadata": {},
   "source": [
    "During our data quality assessment, we identified two critical issues within the `CUST_START_DATE` column:\n",
    "\n",
    "1. **Future Dates**: Our analysis revealed that 28366 records have `CUST_START_DATE` values set in the future, beyond the current date. Since it's not possible to start a policy in the future, these entries are clear indications of data entry errors.\n",
    "\n",
    "2. **Pre-Original Joining Dates**: We also discovered 67,163 instances (approximately 3.60% of the dataset) where the `CUST_START_DATE` precedes the `CUST_ORIG_DATE`. This is logically inconsistent since a customer cannot start a policy before officially joining.\n",
    "\n",
    "Given the relatively small percentage of the affected records, we have decided to remove these records from our dataset for the following reasons:\n",
    "- **Data Accuracy**: Including these records would compromise the accuracy of our analysis, particularly in any time series or cohort-based assessments.\n",
    "- **Feasibility of Correction**: Without a reliable external data source or knowledge of the correct dates, we cannot accurately correct these values.\n",
    "- **Proportion and Impact**: The affected records represent a small portion of the overall dataset, and their removal is unlikely to significantly impact the statistical power or generalizability of our findings.\n",
    "- **Prevention of Bias**: Imputing these values without a clear rationale or method could introduce bias into our dataset, affecting subsequent analyses and modeling."
   ]
  },
  {
   "cell_type": "code",
   "execution_count": 62,
   "metadata": {},
   "outputs": [],
   "source": [
    "# Remove records with a CUST_START_DATE in the future\n",
    "df = df[df['CUST_START_DATE'] <= datetime.now()]\n",
    "\n",
    "# Remove records where CUST_START_DATE is before CUST_ORIG_DATE\n",
    "df = df[df['CUST_START_DATE'] >= df['CUST_ORIG_DATE']]"
   ]
  },
  {
   "cell_type": "code",
   "execution_count": 63,
   "metadata": {},
   "outputs": [
    {
     "data": {
      "text/plain": [
       "(1769463, 22)"
      ]
     },
     "execution_count": 63,
     "metadata": {},
     "output_type": "execute_result"
    }
   ],
   "source": [
    "df.shape"
   ]
  },
  {
   "cell_type": "code",
   "execution_count": 64,
   "metadata": {},
   "outputs": [
    {
     "data": {
      "image/png": "[encoded data removed]",
      "text/plain": [
       "<Figure size 640x480 with 1 Axes>"
      ]
     },
     "metadata": {},
     "output_type": "display_data"
    }
   ],
   "source": [
    "# Distribution of CUST_ORIG_DATE\n",
    "df['CUST_ORIG_DATE'].dt.year.plot(kind='hist', alpha=0.5, label='CUST_ORIG_DATE')\n",
    "\n",
    "# Distribution of CUST_START_DATE\n",
    "df['CUST_START_DATE'].dt.year.plot(kind='hist', alpha=0.5, label='CUST_START_DATE')\n",
    "\n",
    "plt.xlabel('Year')\n",
    "plt.ylabel('Frequency')\n",
    "plt.title('Distribution of CUST_ORIG_DATE ,CUST_START_DATE and SUSPD_DATE')\n",
    "plt.legend()\n",
    "plt.show()"
   ]
  },
  {
   "cell_type": "code",
   "execution_count": 65,
   "metadata": {},
   "outputs": [
    {
     "data": {
      "text/plain": [
       "2005    479746\n",
       "2022    243017\n",
       "2019     98803\n",
       "2018     86259\n",
       "2020     82138\n",
       "Name: CUST_START_DATE, dtype: int64"
      ]
     },
     "execution_count": 65,
     "metadata": {},
     "output_type": "execute_result"
    }
   ],
   "source": [
    "#see most common value of cust_start_date and cust_orig_date\n",
    "df['CUST_START_DATE'].dt.year.value_counts().head()"
   ]
  },
  {
   "cell_type": "code",
   "execution_count": 66,
   "metadata": {},
   "outputs": [
    {
     "data": {
      "text/plain": [
       "2005    496490\n",
       "2022    240789\n",
       "2019     97170\n",
       "2018     84852\n",
       "2017     80744\n",
       "Name: CUST_ORIG_DATE, dtype: int64"
      ]
     },
     "execution_count": 66,
     "metadata": {},
     "output_type": "execute_result"
    }
   ],
   "source": [
    "df['CUST_ORIG_DATE'].dt.year.value_counts().head()"
   ]
  },
  {
   "cell_type": "code",
   "execution_count": 67,
   "metadata": {},
   "outputs": [
    {
     "data": {
      "image/png": "[encoded data removed]",
      "text/plain": [
       "<Figure size 1000x600 with 1 Axes>"
      ]
     },
     "metadata": {},
     "output_type": "display_data"
    }
   ],
   "source": [
    "current_year = datetime.now().year\n",
    "df['AGE'] = current_year - df['DATE_OF_BIRTH'].dt.year\n",
    "\n",
    "# Plot the distribution of ages\n",
    "plt.figure(figsize=(10, 6))\n",
    "df['AGE'].hist(bins=range(min(df['AGE']), max(df['AGE'])+1))\n",
    "plt.title('Distribution of Customer Ages')\n",
    "plt.xlabel('Age')\n",
    "plt.ylabel('Number of Customers')\n",
    "plt.grid(False)\n",
    "plt.show()"
   ]
  },
  {
   "cell_type": "code",
   "execution_count": 68,
   "metadata": {},
   "outputs": [
    {
     "name": "stdout",
     "output_type": "stream",
     "text": [
      "Most Common Ages and their Counts:\n",
      "57     324900\n",
      "55      39266\n",
      "54      39146\n",
      "56      38459\n",
      "53      38441\n",
      "        ...  \n",
      "112        63\n",
      "113        43\n",
      "115        21\n",
      "114        12\n",
      "116         1\n",
      "Name: AGE, Length: 92, dtype: int64\n"
     ]
    }
   ],
   "source": [
    "common_ages = df['AGE'].value_counts()\n",
    "\n",
    "print(\"Most Common Ages and their Counts:\")\n",
    "print(common_ages)"
   ]
  },
  {
   "cell_type": "code",
   "execution_count": 69,
   "metadata": {},
   "outputs": [
    {
     "data": {
      "text/plain": [
       "count    1.769463e+06\n",
       "mean     5.730680e+01\n",
       "std      1.393629e+01\n",
       "min      2.500000e+01\n",
       "25%      4.800000e+01\n",
       "50%      5.700000e+01\n",
       "75%      6.500000e+01\n",
       "max      1.160000e+02\n",
       "Name: AGE, dtype: float64"
      ]
     },
     "execution_count": 69,
     "metadata": {},
     "output_type": "execute_result"
    }
   ],
   "source": [
    "df['AGE'].describe()"
   ]
  },
  {
   "cell_type": "code",
   "execution_count": 70,
   "metadata": {},
   "outputs": [
    {
     "data": {
      "image/png": "[encoded data removed]",
      "text/plain": [
       "<Figure size 1000x600 with 1 Axes>"
      ]
     },
     "metadata": {},
     "output_type": "display_data"
    }
   ],
   "source": [
    "plt.figure(figsize=(10, 6))\n",
    "sns.boxplot(x=df['AGE'])\n",
    "plt.title('Boxplot of Customer Ages')\n",
    "plt.xlabel('Age')\n",
    "plt.show()"
   ]
  },
  {
   "cell_type": "code",
   "execution_count": 71,
   "metadata": {},
   "outputs": [
    {
     "data": {
      "text/plain": [
       "91     5888\n",
       "92     5440\n",
       "93     5119\n",
       "94     4465\n",
       "95     3808\n",
       "96     3480\n",
       "97     2826\n",
       "98     2305\n",
       "99     1739\n",
       "100    1403\n",
       "101    1074\n",
       "102     867\n",
       "103     706\n",
       "104     543\n",
       "105     408\n",
       "106     308\n",
       "107     225\n",
       "108     130\n",
       "111      99\n",
       "109      81\n",
       "110      70\n",
       "112      63\n",
       "113      43\n",
       "115      21\n",
       "114      12\n",
       "116       1\n",
       "Name: AGE, dtype: int64"
      ]
     },
     "execution_count": 71,
     "metadata": {},
     "output_type": "execute_result"
    }
   ],
   "source": [
    "# Calculate Q1 (25th percentile) and Q3 (75th percentile)\n",
    "Q1 = df['AGE'].quantile(0.25)\n",
    "Q3 = df['AGE'].quantile(0.75)\n",
    "IQR = Q3 - Q1\n",
    "\n",
    "# Define bounds for what is considered an outlier\n",
    "lower_bound = Q1 - 1.5 * IQR\n",
    "upper_bound = Q3 + 1.5 * IQR\n",
    "\n",
    "# Filter out the outliers\n",
    "outliers = df[(df['AGE'] < lower_bound) | (df['AGE'] > upper_bound)]\n",
    "outliers['AGE'].value_counts()"
   ]
  },
  {
   "cell_type": "code",
   "execution_count": 72,
   "metadata": {},
   "outputs": [],
   "source": [
    "#drop rows with age over 100 becuase they are outliers \n",
    "df = df[df['AGE'] <= 100]"
   ]
  },
  {
   "cell_type": "code",
   "execution_count": 73,
   "metadata": {},
   "outputs": [
    {
     "name": "stderr",
     "output_type": "stream",
     "text": [
      "/var/folders/51/kvxxh0pn2p9g4w8qy0z706n40000gn/T/ipykernel_75808/883917198.py:2: FutureWarning: The default value of numeric_only in DataFrame.corr is deprecated. In a future version, it will default to False. Select only valid columns or specify the value of numeric_only to silence this warning.\n",
      "  correlation_matrix = df.corr()\n"
     ]
    },
    {
     "data": {
      "text/plain": [
       "AGE                          1.000000\n",
       "LENGTH_OF_RESIDENCE          0.282423\n",
       "MARITAL_STATUS_Married       0.133386\n",
       "HOME_OWNER                   0.108283\n",
       "CURR_ANN_AMT_CAR             0.086087\n",
       "CURR_ANN_AMT_HOUSE           0.082869\n",
       "COLLEGE_DEGREE               0.069908\n",
       "CURR_ANN_AMT_HEALTH          0.043979\n",
       "ADDRESS_ID                   0.041539\n",
       "INDIVIDUAL_ID                0.037437\n",
       "GOOD_CREDIT                  0.017201\n",
       "INCOME                      -0.005957\n",
       "HOME_MARKET_VALUE_NUMERIC   -0.016237\n",
       "ADVANCED_STUDIES_BINARY     -0.026214\n",
       "MARITAL_STATUS_Unknown      -0.078774\n",
       "MARITAL_STATUS_Single       -0.079771\n",
       "HAS_CHILDREN                -0.145730\n",
       "Name: AGE, dtype: float64"
      ]
     },
     "execution_count": 73,
     "metadata": {},
     "output_type": "execute_result"
    }
   ],
   "source": [
    "# Calculate the correlation matrix\n",
    "correlation_matrix = df.corr()\n",
    "\n",
    "# Get the correlation of 'age' with all other columns\n",
    "age_correlation = correlation_matrix['AGE'].sort_values(ascending=False)\n",
    "\n",
    "age_correlation"
   ]
  },
  {
   "cell_type": "markdown",
   "metadata": {},
   "source": [
    "Age Demographics Correlation Analysis\n",
    "\n",
    "Our dataset's correlation analysis reveals several key insights about the relationship between customers' age and their attributes and behaviors:\n",
    "- `HAS_CHILDREN` (r = -0.1457): There is a negative correlation with having children, indicating that younger customers are more likely to have children.\n",
    "- `LENGTH_OF_RESIDENCE` (r = 0.2824): Age shows the strongest positive correlation with the length of residence. Older customers are likely to have lived in their current residence longer, which may be due to stability and less need to move.\n",
    "- `MARITAL_STATUS_Married` (r = 0.1334): A moderate positive correlation with marital status suggests older customers are more likely to be married."
   ]
  },
  {
   "cell_type": "markdown",
   "metadata": {},
   "source": [
    "#### Analysis of Numerical Features"
   ]
  },
  {
   "cell_type": "code",
   "execution_count": 74,
   "metadata": {},
   "outputs": [
    {
     "name": "stdout",
     "output_type": "stream",
     "text": [
      "<class 'pandas.core.frame.DataFrame'>\n",
      "Int64Index: 1764812 entries, 0 to 2133684\n",
      "Data columns (total 23 columns):\n",
      " #   Column                     Dtype         \n",
      "---  ------                     -----         \n",
      " 0   INDIVIDUAL_ID              int64         \n",
      " 1   ADDRESS_ID                 int64         \n",
      " 2   CUST_ORIG_DATE             datetime64[ns]\n",
      " 3   DATE_OF_BIRTH              datetime64[ns]\n",
      " 4   SOCIAL_SECURITY_NUMBER     object        \n",
      " 5   CUST_START_DATE            datetime64[ns]\n",
      " 6   CURR_ANN_AMT_CAR           float64       \n",
      " 7   CURR_ANN_AMT_HEALTH        float64       \n",
      " 8   CURR_ANN_AMT_HOUSE         int64         \n",
      " 9   INCOME                     float64       \n",
      " 10  HAS_CHILDREN               float64       \n",
      " 11  LENGTH_OF_RESIDENCE        float64       \n",
      " 12  HOME_MARKET_VALUE          object        \n",
      " 13  HOME_OWNER                 int64         \n",
      " 14  COLLEGE_DEGREE             int64         \n",
      " 15  GOOD_CREDIT                int64         \n",
      " 16  ADVANCED_STUDIES           object        \n",
      " 17  MARITAL_STATUS_Married     uint8         \n",
      " 18  MARITAL_STATUS_Single      uint8         \n",
      " 19  MARITAL_STATUS_Unknown     uint8         \n",
      " 20  HOME_MARKET_VALUE_NUMERIC  float64       \n",
      " 21  ADVANCED_STUDIES_BINARY    int64         \n",
      " 22  AGE                        int64         \n",
      "dtypes: datetime64[ns](3), float64(6), int64(8), object(3), uint8(3)\n",
      "memory usage: 287.8+ MB\n"
     ]
    }
   ],
   "source": [
    "df.info()\n"
   ]
  },
  {
   "cell_type": "code",
   "execution_count": 75,
   "metadata": {},
   "outputs": [
    {
     "data": {
      "text/html": [
       "<div>\n",
       "<style scoped>\n",
       "    .dataframe tbody tr th:only-of-type {\n",
       "        vertical-align: middle;\n",
       "    }\n",
       "\n",
       "    .dataframe tbody tr th {\n",
       "        vertical-align: top;\n",
       "    }\n",
       "\n",
       "    .dataframe thead th {\n",
       "        text-align: right;\n",
       "    }\n",
       "</style>\n",
       "<table border=\"1\" class=\"dataframe\">\n",
       "  <thead>\n",
       "    <tr style=\"text-align: right;\">\n",
       "      <th></th>\n",
       "      <th>INDIVIDUAL_ID</th>\n",
       "      <th>ADDRESS_ID</th>\n",
       "      <th>CURR_ANN_AMT_CAR</th>\n",
       "      <th>CURR_ANN_AMT_HEALTH</th>\n",
       "      <th>CURR_ANN_AMT_HOUSE</th>\n",
       "      <th>INCOME</th>\n",
       "      <th>HAS_CHILDREN</th>\n",
       "      <th>LENGTH_OF_RESIDENCE</th>\n",
       "      <th>HOME_OWNER</th>\n",
       "      <th>COLLEGE_DEGREE</th>\n",
       "      <th>GOOD_CREDIT</th>\n",
       "      <th>MARITAL_STATUS_Married</th>\n",
       "      <th>MARITAL_STATUS_Single</th>\n",
       "      <th>MARITAL_STATUS_Unknown</th>\n",
       "      <th>HOME_MARKET_VALUE_NUMERIC</th>\n",
       "      <th>ADVANCED_STUDIES_BINARY</th>\n",
       "      <th>AGE</th>\n",
       "    </tr>\n",
       "  </thead>\n",
       "  <tbody>\n",
       "    <tr>\n",
       "      <th>count</th>\n",
       "      <td>1.764812e+06</td>\n",
       "      <td>1.764812e+06</td>\n",
       "      <td>1764812.00</td>\n",
       "      <td>1764812.00</td>\n",
       "      <td>1764812.00</td>\n",
       "      <td>1764812.00</td>\n",
       "      <td>1764812.00</td>\n",
       "      <td>1764812.00</td>\n",
       "      <td>1764812.00</td>\n",
       "      <td>1764812.00</td>\n",
       "      <td>1764812.00</td>\n",
       "      <td>1764812.00</td>\n",
       "      <td>1764812.00</td>\n",
       "      <td>1764812.00</td>\n",
       "      <td>1764812.00</td>\n",
       "      <td>1764812.00</td>\n",
       "      <td>1764812.00</td>\n",
       "    </tr>\n",
       "    <tr>\n",
       "      <th>mean</th>\n",
       "      <td>2.213018e+11</td>\n",
       "      <td>5.213007e+11</td>\n",
       "      <td>1437.13</td>\n",
       "      <td>574.96</td>\n",
       "      <td>431.14</td>\n",
       "      <td>121555.50</td>\n",
       "      <td>0.48</td>\n",
       "      <td>7.44</td>\n",
       "      <td>0.76</td>\n",
       "      <td>0.31</td>\n",
       "      <td>0.83</td>\n",
       "      <td>0.52</td>\n",
       "      <td>0.31</td>\n",
       "      <td>0.17</td>\n",
       "      <td>132984.90</td>\n",
       "      <td>0.26</td>\n",
       "      <td>57.18</td>\n",
       "    </tr>\n",
       "    <tr>\n",
       "      <th>std</th>\n",
       "      <td>9.915681e+05</td>\n",
       "      <td>4.169210e+05</td>\n",
       "      <td>245.04</td>\n",
       "      <td>189.90</td>\n",
       "      <td>76.40</td>\n",
       "      <td>75606.54</td>\n",
       "      <td>0.59</td>\n",
       "      <td>4.87</td>\n",
       "      <td>0.42</td>\n",
       "      <td>0.46</td>\n",
       "      <td>0.38</td>\n",
       "      <td>0.50</td>\n",
       "      <td>0.46</td>\n",
       "      <td>0.38</td>\n",
       "      <td>93305.57</td>\n",
       "      <td>0.44</td>\n",
       "      <td>13.75</td>\n",
       "    </tr>\n",
       "    <tr>\n",
       "      <th>min</th>\n",
       "      <td>2.213000e+11</td>\n",
       "      <td>5.213000e+11</td>\n",
       "      <td>286.96</td>\n",
       "      <td>-351.62</td>\n",
       "      <td>90.00</td>\n",
       "      <td>7500.00</td>\n",
       "      <td>0.00</td>\n",
       "      <td>0.00</td>\n",
       "      <td>0.00</td>\n",
       "      <td>0.00</td>\n",
       "      <td>0.00</td>\n",
       "      <td>0.00</td>\n",
       "      <td>0.00</td>\n",
       "      <td>0.00</td>\n",
       "      <td>12999.50</td>\n",
       "      <td>0.00</td>\n",
       "      <td>25.00</td>\n",
       "    </tr>\n",
       "    <tr>\n",
       "      <th>25%</th>\n",
       "      <td>2.213009e+11</td>\n",
       "      <td>5.213003e+11</td>\n",
       "      <td>1270.19</td>\n",
       "      <td>446.55</td>\n",
       "      <td>379.00</td>\n",
       "      <td>71250.00</td>\n",
       "      <td>0.00</td>\n",
       "      <td>3.00</td>\n",
       "      <td>1.00</td>\n",
       "      <td>0.00</td>\n",
       "      <td>1.00</td>\n",
       "      <td>0.00</td>\n",
       "      <td>0.00</td>\n",
       "      <td>0.00</td>\n",
       "      <td>87499.50</td>\n",
       "      <td>0.00</td>\n",
       "      <td>48.00</td>\n",
       "    </tr>\n",
       "    <tr>\n",
       "      <th>50%</th>\n",
       "      <td>2.213018e+11</td>\n",
       "      <td>5.213007e+11</td>\n",
       "      <td>1432.01</td>\n",
       "      <td>574.48</td>\n",
       "      <td>429.00</td>\n",
       "      <td>120558.26</td>\n",
       "      <td>0.00</td>\n",
       "      <td>6.80</td>\n",
       "      <td>1.00</td>\n",
       "      <td>0.00</td>\n",
       "      <td>1.00</td>\n",
       "      <td>1.00</td>\n",
       "      <td>0.00</td>\n",
       "      <td>0.00</td>\n",
       "      <td>112499.50</td>\n",
       "      <td>0.00</td>\n",
       "      <td>57.00</td>\n",
       "    </tr>\n",
       "    <tr>\n",
       "      <th>75%</th>\n",
       "      <td>2.213027e+11</td>\n",
       "      <td>5.213010e+11</td>\n",
       "      <td>1598.85</td>\n",
       "      <td>702.77</td>\n",
       "      <td>481.00</td>\n",
       "      <td>131250.00</td>\n",
       "      <td>1.00</td>\n",
       "      <td>12.00</td>\n",
       "      <td>1.00</td>\n",
       "      <td>1.00</td>\n",
       "      <td>1.00</td>\n",
       "      <td>1.00</td>\n",
       "      <td>1.00</td>\n",
       "      <td>0.00</td>\n",
       "      <td>162499.50</td>\n",
       "      <td>1.00</td>\n",
       "      <td>64.00</td>\n",
       "    </tr>\n",
       "    <tr>\n",
       "      <th>max</th>\n",
       "      <td>2.213033e+11</td>\n",
       "      <td>5.213015e+11</td>\n",
       "      <td>2769.37</td>\n",
       "      <td>1617.53</td>\n",
       "      <td>866.00</td>\n",
       "      <td>375000.00</td>\n",
       "      <td>6.00</td>\n",
       "      <td>15.00</td>\n",
       "      <td>1.00</td>\n",
       "      <td>1.00</td>\n",
       "      <td>1.00</td>\n",
       "      <td>1.00</td>\n",
       "      <td>1.00</td>\n",
       "      <td>1.00</td>\n",
       "      <td>1000000.00</td>\n",
       "      <td>1.00</td>\n",
       "      <td>100.00</td>\n",
       "    </tr>\n",
       "  </tbody>\n",
       "</table>\n",
       "</div>"
      ],
      "text/plain": [
       "       INDIVIDUAL_ID    ADDRESS_ID  CURR_ANN_AMT_CAR  CURR_ANN_AMT_HEALTH  \\\n",
       "count   1.764812e+06  1.764812e+06        1764812.00           1764812.00   \n",
       "mean    2.213018e+11  5.213007e+11           1437.13               574.96   \n",
       "std     9.915681e+05  4.169210e+05            245.04               189.90   \n",
       "min     2.213000e+11  5.213000e+11            286.96              -351.62   \n",
       "25%     2.213009e+11  5.213003e+11           1270.19               446.55   \n",
       "50%     2.213018e+11  5.213007e+11           1432.01               574.48   \n",
       "75%     2.213027e+11  5.213010e+11           1598.85               702.77   \n",
       "max     2.213033e+11  5.213015e+11           2769.37              1617.53   \n",
       "\n",
       "       CURR_ANN_AMT_HOUSE      INCOME  HAS_CHILDREN  LENGTH_OF_RESIDENCE  \\\n",
       "count          1764812.00  1764812.00    1764812.00           1764812.00   \n",
       "mean               431.14   121555.50          0.48                 7.44   \n",
       "std                 76.40    75606.54          0.59                 4.87   \n",
       "min                 90.00     7500.00          0.00                 0.00   \n",
       "25%                379.00    71250.00          0.00                 3.00   \n",
       "50%                429.00   120558.26          0.00                 6.80   \n",
       "75%                481.00   131250.00          1.00                12.00   \n",
       "max                866.00   375000.00          6.00                15.00   \n",
       "\n",
       "       HOME_OWNER  COLLEGE_DEGREE  GOOD_CREDIT  MARITAL_STATUS_Married  \\\n",
       "count  1764812.00      1764812.00   1764812.00              1764812.00   \n",
       "mean         0.76            0.31         0.83                    0.52   \n",
       "std          0.42            0.46         0.38                    0.50   \n",
       "min          0.00            0.00         0.00                    0.00   \n",
       "25%          1.00            0.00         1.00                    0.00   \n",
       "50%          1.00            0.00         1.00                    1.00   \n",
       "75%          1.00            1.00         1.00                    1.00   \n",
       "max          1.00            1.00         1.00                    1.00   \n",
       "\n",
       "       MARITAL_STATUS_Single  MARITAL_STATUS_Unknown  \\\n",
       "count             1764812.00              1764812.00   \n",
       "mean                    0.31                    0.17   \n",
       "std                     0.46                    0.38   \n",
       "min                     0.00                    0.00   \n",
       "25%                     0.00                    0.00   \n",
       "50%                     0.00                    0.00   \n",
       "75%                     1.00                    0.00   \n",
       "max                     1.00                    1.00   \n",
       "\n",
       "       HOME_MARKET_VALUE_NUMERIC  ADVANCED_STUDIES_BINARY         AGE  \n",
       "count                 1764812.00               1764812.00  1764812.00  \n",
       "mean                   132984.90                     0.26       57.18  \n",
       "std                     93305.57                     0.44       13.75  \n",
       "min                     12999.50                     0.00       25.00  \n",
       "25%                     87499.50                     0.00       48.00  \n",
       "50%                    112499.50                     0.00       57.00  \n",
       "75%                    162499.50                     1.00       64.00  \n",
       "max                   1000000.00                     1.00      100.00  "
      ]
     },
     "execution_count": 75,
     "metadata": {},
     "output_type": "execute_result"
    }
   ],
   "source": [
    "df.describe().round(2) "
   ]
  },
  {
   "cell_type": "markdown",
   "metadata": {},
   "source": [
    "Summary Statistics Overview\n",
    "\n",
    "The `.describe()` method provides a quick statistical summary of the numerical variables within our dataset. This includes key metrics such as count, mean, standard deviation, minimum and maximum values, and the quartiles for each numerical variable.\n",
    "\n",
    "Key Observations:\n",
    "\n",
    "- **Central Tendency and Spread**: The mean and standard deviation for variables such as `CURR_ANN_AMT_CAR`, `CURR_ANN_AMT_HEALTH`, `CURR_ANN_AMT_HOUSE`, and `INCOME` give us an initial understanding of the average amounts paid for different insurance types and the income levels of our customer base, along with the variability in these amounts.\n",
    "\n",
    "- **Income Distribution**: Given the wide range in `INCOME`, from a minimum of $7,500 to a maximum of $375,000, we observe significant economic diversity among our customers. The standard deviation provides insight into the spread of income levels.\n",
    "\n",
    "- **Insurance Payments**: The minimum and maximum values for `CURR_ANN_AMT_CAR`, `CURR_ANN_AMT_HEALTH`, and `CURR_ANN_AMT_HOUSE` help identify the range of insurance payments, indicating the variability in policy costs among our customers.\n",
    "\n",
    "- **Age Distribution**: The `age` variable's statistics are crucial for understanding the demographic profile of our customer base, which can influence insurance needs and risk profiles.\n",
    "\n",
    " Implications for Business Case:\n",
    "\n",
    "Understanding these statistical measures helps in identifying potential segments within our customer base that may require tailored insurance products or marketing strategies. It also lays the groundwork for deeper analysis, including correlation analysis, customer segmentation, and predictive modeling, aimed at reducing churn and increasing customer lifetime value."
   ]
  },
  {
   "cell_type": "code",
   "execution_count": 76,
   "metadata": {},
   "outputs": [
    {
     "name": "stdout",
     "output_type": "stream",
     "text": [
      "Count of negative health insurance values: 2049\n"
     ]
    }
   ],
   "source": [
    "# Filter the DataFrame for negative values in the health insurance column\n",
    "negative_health_values = df[df['CURR_ANN_AMT_HEALTH'] < 0]\n",
    "\n",
    "# Display the count of negative values\n",
    "print(f\"Count of negative health insurance values: {negative_health_values.shape[0]}\")"
   ]
  },
  {
   "cell_type": "markdown",
   "metadata": {},
   "source": [
    "Given the context, negative values in this field are impossible and likely indicate data entry errors or processing anomalies.\n",
    "To maintain the integrity of our analysis and the accuracy of subsequent models, we must drop these records from our dataset before proceeding further."
   ]
  },
  {
   "cell_type": "code",
   "execution_count": 77,
   "metadata": {},
   "outputs": [],
   "source": [
    "#drop the rows with negative values in the health insurance column\n",
    "df = df[df['CURR_ANN_AMT_HEALTH'] >= 0]"
   ]
  },
  {
   "cell_type": "code",
   "execution_count": 78,
   "metadata": {},
   "outputs": [
    {
     "data": {
      "image/png": "[encoded data removed]",
      "text/plain": [
       "<Figure size 1000x600 with 1 Axes>"
      ]
     },
     "metadata": {},
     "output_type": "display_data"
    }
   ],
   "source": [
    "# Boxplot for CURR_ANN_AMT_CAR\n",
    "plt.figure(figsize=(10, 6))\n",
    "sns.boxplot(x=df['CURR_ANN_AMT_CAR'])\n",
    "plt.title('Boxplot for Annual Car Insurance Amounts')\n",
    "plt.show()"
   ]
  },
  {
   "cell_type": "code",
   "execution_count": 79,
   "metadata": {},
   "outputs": [
    {
     "name": "stdout",
     "output_type": "stream",
     "text": [
      "Number of outliers: 14015\n"
     ]
    },
    {
     "data": {
      "text/plain": [
       "count    14015.000\n",
       "mean      1719.116\n",
       "std        686.040\n",
       "min        305.687\n",
       "25%        760.861\n",
       "50%       2120.692\n",
       "75%       2183.878\n",
       "max       2769.374\n",
       "Name: CURR_ANN_AMT_CAR, dtype: float64"
      ]
     },
     "execution_count": 79,
     "metadata": {},
     "output_type": "execute_result"
    }
   ],
   "source": [
    "# Calculate IQR\n",
    "Q1 = df['CURR_ANN_AMT_CAR'].quantile(0.25)\n",
    "Q3 = df['CURR_ANN_AMT_CAR'].quantile(0.75)\n",
    "IQR = Q3 - Q1\n",
    "\n",
    "# Define bounds for outliers\n",
    "lower_bound = Q1 - 1.5 * IQR\n",
    "upper_bound = Q3 + 1.5 * IQR\n",
    "\n",
    "outliers = df[(df['CURR_ANN_AMT_CAR'] < lower_bound) | (df['CURR_ANN_AMT_CAR'] > upper_bound)]\n",
    "# Identify outliers\n",
    "print(f\"Number of outliers: {outliers.shape[0]}\")\n",
    "outliers['CURR_ANN_AMT_CAR'].describe().round(3)"
   ]
  },
  {
   "cell_type": "code",
   "execution_count": 80,
   "metadata": {},
   "outputs": [],
   "source": [
    "#let's make a copy of the dataframe before we proceed\n",
    "df2 = df.copy()"
   ]
  },
  {
   "cell_type": "code",
   "execution_count": 81,
   "metadata": {},
   "outputs": [
    {
     "data": {
      "image/png": "[encoded data removed]",
      "text/plain": [
       "<Figure size 1000x400 with 1 Axes>"
      ]
     },
     "metadata": {},
     "output_type": "display_data"
    }
   ],
   "source": [
    "plt.figure(figsize=(10, 4))\n",
    "sns.histplot(df['CURR_ANN_AMT_CAR'], binwidth=15, kde=True)  \n",
    "plt.title('Distribution of CURR_ANN_AMT_CAR')  \n",
    "plt.xlabel('CURR_ANN_AMT_CAR') \n",
    "plt.ylabel('Frequency')\n",
    "plt.show()"
   ]
  },
  {
   "cell_type": "markdown",
   "metadata": {},
   "source": [
    "Given the business context of ABC Insurance, where high annual amounts for car insurance might reflect premium policies for luxury vehicles or high-risk coverage, it is important to preserve the outliers in the dataset. These values, while significantly higher than the average, are plausible and represent a segment of the customer base that could be crucial for understanding the full spectrum of customer behavior and preferences."
   ]
  },
  {
   "cell_type": "code",
   "execution_count": 82,
   "metadata": {},
   "outputs": [
    {
     "data": {
      "image/png": "[encoded data removed]",
      "text/plain": [
       "<Figure size 1000x600 with 1 Axes>"
      ]
     },
     "metadata": {},
     "output_type": "display_data"
    }
   ],
   "source": [
    "# Boxplot for CURR_ANN_AMT_CAR\n",
    "plt.figure(figsize=(10, 6))\n",
    "sns.boxplot(x=df['CURR_ANN_AMT_HEALTH'])\n",
    "plt.title('Boxplot for Annual Health Insurance Amounts')\n",
    "plt.show()"
   ]
  },
  {
   "cell_type": "code",
   "execution_count": 83,
   "metadata": {},
   "outputs": [
    {
     "name": "stdout",
     "output_type": "stream",
     "text": [
      "Number of outliers: 10472\n"
     ]
    },
    {
     "data": {
      "text/plain": [
       "count    10472.000\n",
       "mean       726.497\n",
       "std        540.029\n",
       "min          0.058\n",
       "25%         48.412\n",
       "50%       1100.509\n",
       "75%       1142.901\n",
       "max       1617.531\n",
       "Name: CURR_ANN_AMT_HEALTH, dtype: float64"
      ]
     },
     "execution_count": 83,
     "metadata": {},
     "output_type": "execute_result"
    }
   ],
   "source": [
    "# Calculate IQR\n",
    "Q1 = df['CURR_ANN_AMT_HEALTH'].quantile(0.25)\n",
    "Q3 = df['CURR_ANN_AMT_HEALTH'].quantile(0.75)\n",
    "IQR = Q3 - Q1\n",
    "\n",
    "# Define bounds for outliers\n",
    "lower_bound = Q1 - 1.5 * IQR\n",
    "upper_bound = Q3 + 1.5 * IQR\n",
    "\n",
    "outliers = df[(df['CURR_ANN_AMT_HEALTH'] < lower_bound) | (df['CURR_ANN_AMT_HEALTH'] > upper_bound)]\n",
    "# Identify outliers\n",
    "print(f\"Number of outliers: {outliers.shape[0]}\")\n",
    "outliers['CURR_ANN_AMT_HEALTH'].describe().round(3)"
   ]
  },
  {
   "cell_type": "code",
   "execution_count": 84,
   "metadata": {},
   "outputs": [
    {
     "data": {
      "image/png": "[encoded data removed]",
      "text/plain": [
       "<Figure size 1000x400 with 1 Axes>"
      ]
     },
     "metadata": {},
     "output_type": "display_data"
    }
   ],
   "source": [
    "plt.figure(figsize=(10, 4))\n",
    "sns.histplot(df['CURR_ANN_AMT_HEALTH'], binwidth=15, kde=True)  \n",
    "plt.title('Distribution of CURR_ANN_AMT_HEALTH')  \n",
    "plt.xlabel('CURR_ANN_AMT_HEALTH') \n",
    "plt.ylabel('Frequency')\n",
    "plt.show()"
   ]
  },
  {
   "cell_type": "markdown",
   "metadata": {},
   "source": [
    "In the context of health insurance, high annual premiums can be expected due to factors like customer age, health conditions, chosen coverage, and other risk factors. These outliers could represent customers with higher coverage plans and therefore should not be discarded without careful consideration as they may provide valuable insights into customer behavior and product preferences."
   ]
  },
  {
   "cell_type": "code",
   "execution_count": 85,
   "metadata": {},
   "outputs": [
    {
     "data": {
      "image/png": "[encoded data removed]",
      "text/plain": [
       "<Figure size 1000x600 with 1 Axes>"
      ]
     },
     "metadata": {},
     "output_type": "display_data"
    }
   ],
   "source": [
    "# Boxplot for CURR_ANN_AMT_CAR\n",
    "plt.figure(figsize=(10, 6))\n",
    "sns.boxplot(x=df['CURR_ANN_AMT_HOUSE'])\n",
    "plt.title('Boxplot for Annual House Insurance Amounts')\n",
    "plt.show()"
   ]
  },
  {
   "cell_type": "code",
   "execution_count": 86,
   "metadata": {},
   "outputs": [
    {
     "name": "stdout",
     "output_type": "stream",
     "text": [
      "Number of outliers: 13263\n"
     ]
    },
    {
     "data": {
      "text/plain": [
       "count    13263.000\n",
       "mean       536.481\n",
       "std        207.829\n",
       "min         92.000\n",
       "25%        222.000\n",
       "50%        647.000\n",
       "75%        668.000\n",
       "max        866.000\n",
       "Name: CURR_ANN_AMT_HOUSE, dtype: float64"
      ]
     },
     "execution_count": 86,
     "metadata": {},
     "output_type": "execute_result"
    }
   ],
   "source": [
    "# Calculate IQR\n",
    "Q1 = df['CURR_ANN_AMT_HOUSE'].quantile(0.25)\n",
    "Q3 = df['CURR_ANN_AMT_HOUSE'].quantile(0.75)\n",
    "IQR = Q3 - Q1\n",
    "\n",
    "# Define bounds for outliers\n",
    "lower_bound = Q1 - 1.5 * IQR\n",
    "upper_bound = Q3 + 1.5 * IQR\n",
    "\n",
    "outliers = df[(df['CURR_ANN_AMT_HOUSE'] < lower_bound) | (df['CURR_ANN_AMT_HOUSE'] > upper_bound)]\n",
    "# Identify outliers\n",
    "print(f\"Number of outliers: {outliers.shape[0]}\")\n",
    "outliers['CURR_ANN_AMT_HOUSE'].describe().round(3)"
   ]
  },
  {
   "cell_type": "code",
   "execution_count": 87,
   "metadata": {},
   "outputs": [
    {
     "data": {
      "image/png": "[encoded data removed]",
      "text/plain": [
       "<Figure size 1000x400 with 1 Axes>"
      ]
     },
     "metadata": {},
     "output_type": "display_data"
    }
   ],
   "source": [
    "plt.figure(figsize=(10, 4))\n",
    "sns.histplot(df['CURR_ANN_AMT_HOUSE'], binwidth=15, kde=True)  \n",
    "plt.title('Distribution of CURR_ANN_AMT_HOUSE') \n",
    "plt.xlabel('CURR_ANN_AMT_HOUSE')  \n",
    "plt.ylabel('Frequency')\n",
    "plt.show()"
   ]
  },
  {
   "cell_type": "markdown",
   "metadata": {},
   "source": [
    "The summary statistics for the outliers do not suggest extreme values when considering the insurance context. The maximum value is 866, which is not too far from the third quartile at 668. This indicates that the outliers might not be errors or extreme anomalies, but rather the higher end of a valid range for house insurance amounts."
   ]
  },
  {
   "cell_type": "code",
   "execution_count": 88,
   "metadata": {},
   "outputs": [
    {
     "name": "stdout",
     "output_type": "stream",
     "text": [
      "Most Common House Insurance Amounts and their Counts:\n",
      "428    9464\n",
      "423    9365\n",
      "431    9351\n",
      "424    9336\n",
      "416    9325\n",
      "427    9319\n",
      "419    9308\n",
      "417    9307\n",
      "438    9300\n",
      "425    9285\n",
      "Name: CURR_ANN_AMT_HOUSE, dtype: int64\n"
     ]
    }
   ],
   "source": [
    "#get the mosst common values in the CURR_ANN_AMT_HOUSE column\n",
    "common_house_insurance = df['CURR_ANN_AMT_HOUSE'].value_counts().head(10)\n",
    "print(\"Most Common House Insurance Amounts and their Counts:\")\n",
    "print(common_house_insurance)"
   ]
  },
  {
   "cell_type": "code",
   "execution_count": 89,
   "metadata": {},
   "outputs": [
    {
     "data": {
      "image/png": "[encoded data removed]",
      "text/plain": [
       "<Figure size 1000x600 with 1 Axes>"
      ]
     },
     "metadata": {},
     "output_type": "display_data"
    }
   ],
   "source": [
    "# Boxplot for CURR_ANN_AMT_CAR\n",
    "plt.figure(figsize=(10, 6))\n",
    "sns.boxplot(x=df['INCOME']) \n",
    "plt.title('Boxplot for Annual Income Amounts')\n",
    "plt.show()"
   ]
  },
  {
   "cell_type": "code",
   "execution_count": 90,
   "metadata": {},
   "outputs": [
    {
     "name": "stdout",
     "output_type": "stream",
     "text": [
      "Number of outliers: 117829\n"
     ]
    },
    {
     "data": {
      "text/plain": [
       "count    117829.000\n",
       "mean     344961.554\n",
       "std       44720.684\n",
       "min      243750.000\n",
       "25%      337500.000\n",
       "50%      375000.000\n",
       "75%      375000.000\n",
       "max      375000.000\n",
       "Name: INCOME, dtype: float64"
      ]
     },
     "execution_count": 90,
     "metadata": {},
     "output_type": "execute_result"
    }
   ],
   "source": [
    "# Calculate IQR\n",
    "Q1 = df['INCOME'].quantile(0.25)\n",
    "Q3 = df['INCOME'].quantile(0.75)\n",
    "IQR = Q3 - Q1\n",
    "\n",
    "# Define bounds for outliers\n",
    "lower_bound = Q1 - 1.5 * IQR\n",
    "upper_bound = Q3 + 1.5 * IQR\n",
    "\n",
    "outliers = df[(df['INCOME'] < lower_bound) | (df['INCOME'] > upper_bound)]\n",
    "# Identify outliers\n",
    "print(f\"Number of outliers: {outliers.shape[0]}\")\n",
    "outliers['INCOME'].describe().round(3)"
   ]
  },
  {
   "cell_type": "code",
   "execution_count": 91,
   "metadata": {},
   "outputs": [
    {
     "data": {
      "text/plain": [
       "count    1762763.00\n",
       "mean      121565.55\n",
       "std        75613.37\n",
       "min         7500.00\n",
       "25%        71250.00\n",
       "50%       120558.26\n",
       "75%       131250.00\n",
       "max       375000.00\n",
       "Name: INCOME, dtype: float64"
      ]
     },
     "execution_count": 91,
     "metadata": {},
     "output_type": "execute_result"
    }
   ],
   "source": [
    "df['INCOME'].describe().round(2)"
   ]
  },
  {
   "cell_type": "code",
   "execution_count": 92,
   "metadata": {},
   "outputs": [
    {
     "name": "stdout",
     "output_type": "stream",
     "text": [
      "120558.264    297886\n",
      "131250.000    286820\n",
      "187500.000    222658\n",
      "105000.000    178915\n",
      "93750.000      95437\n",
      "71250.000      81980\n",
      "86250.000      69804\n",
      "375000.000     69180\n",
      "56250.000      68232\n",
      "63750.000      54232\n",
      "Name: INCOME, dtype: int64\n"
     ]
    }
   ],
   "source": [
    "#get the mosst common values in the CURR_ANN_AMT_HOUSE column\n",
    "common_income_insurance = df['INCOME'].value_counts().head(10)\n",
    "print(common_income_insurance)"
   ]
  },
  {
   "cell_type": "code",
   "execution_count": 93,
   "metadata": {},
   "outputs": [
    {
     "data": {
      "image/png": "[encoded data removed]",
      "text/plain": [
       "<Figure size 1000x600 with 1 Axes>"
      ]
     },
     "metadata": {},
     "output_type": "display_data"
    }
   ],
   "source": [
    "# Plotting the distribution of income using seaborn\n",
    "plt.figure(figsize=(10, 6))\n",
    "sns.histplot(df['INCOME'], bins=50, kde=True)\n",
    "plt.title('Distribution of INCOME')\n",
    "plt.xlabel('INCOME')\n",
    "plt.ylabel('Frequency')\n",
    "plt.show()"
   ]
  },
  {
   "cell_type": "markdown",
   "metadata": {},
   "source": [
    "The income data exhibits a right-skewed distribution, indicating that a majority of the population earns below the mean income level, with a smaller fraction receiving significantly higher incomes. Given the nature of income distribution and the possibility that the observed outliers represent actual high-income earners, such as business leaders or specialists, these outliers will be retained for analysis. This approach ensures that our understanding of income dynamics remains grounded in reality, reflecting the true economic diversity within the dataset."
   ]
  },
  {
   "cell_type": "code",
   "execution_count": 94,
   "metadata": {},
   "outputs": [
    {
     "data": {
      "text/plain": [
       "count    1762763.00\n",
       "mean      132987.40\n",
       "std        93310.81\n",
       "min        12999.50\n",
       "25%        87499.50\n",
       "50%       112499.50\n",
       "75%       162499.50\n",
       "max      1000000.00\n",
       "Name: HOME_MARKET_VALUE_NUMERIC, dtype: float64"
      ]
     },
     "execution_count": 94,
     "metadata": {},
     "output_type": "execute_result"
    }
   ],
   "source": [
    "df['HOME_MARKET_VALUE_NUMERIC'].describe().round(2)"
   ]
  },
  {
   "cell_type": "code",
   "execution_count": 95,
   "metadata": {},
   "outputs": [
    {
     "data": {
      "image/png": "[encoded data removed]",
      "text/plain": [
       "<Figure size 1000x600 with 1 Axes>"
      ]
     },
     "metadata": {},
     "output_type": "display_data"
    }
   ],
   "source": [
    "# Boxplot for CURR_ANN_AMT_CAR\n",
    "plt.figure(figsize=(10, 6))\n",
    "sns.boxplot(x=df['HOME_MARKET_VALUE_NUMERIC']) \n",
    "plt.title('Boxplot for Home Market Value Numeric')\n",
    "plt.show()"
   ]
  },
  {
   "cell_type": "code",
   "execution_count": 96,
   "metadata": {},
   "outputs": [
    {
     "name": "stdout",
     "output_type": "stream",
     "text": [
      "Number of outliers: 86952\n"
     ]
    },
    {
     "data": {
      "text/plain": [
       "count      86952.000\n",
       "mean      421259.088\n",
       "std       173711.425\n",
       "min       287499.500\n",
       "25%       324999.500\n",
       "50%       324999.500\n",
       "75%       474999.500\n",
       "max      1000000.000\n",
       "Name: HOME_MARKET_VALUE_NUMERIC, dtype: float64"
      ]
     },
     "execution_count": 96,
     "metadata": {},
     "output_type": "execute_result"
    }
   ],
   "source": [
    "# Calculate IQR for HOME_MARKET_VALUE_NUMERIC\n",
    "Q1 = df['HOME_MARKET_VALUE_NUMERIC'].quantile(0.25)\n",
    "Q3 = df['HOME_MARKET_VALUE_NUMERIC'].quantile(0.75)\n",
    "IQR = Q3 - Q1\n",
    "\n",
    "# Define bounds for outliers\n",
    "lower_bound = Q1 - 1.5 * IQR\n",
    "upper_bound = Q3 + 1.5 * IQR\n",
    "\n",
    "outliers = df[(df['HOME_MARKET_VALUE_NUMERIC'] < lower_bound) | (df['HOME_MARKET_VALUE_NUMERIC'] > upper_bound)]\n",
    "# Identify outliers\n",
    "print(f\"Number of outliers: {outliers.shape[0]}\")\n",
    "outliers['HOME_MARKET_VALUE_NUMERIC'].describe().round(3)"
   ]
  },
  {
   "cell_type": "code",
   "execution_count": 97,
   "metadata": {},
   "outputs": [
    {
     "data": {
      "image/png": "[encoded data removed]",
      "text/plain": [
       "<Figure size 1000x600 with 1 Axes>"
      ]
     },
     "metadata": {},
     "output_type": "display_data"
    }
   ],
   "source": [
    "# Plotting the distribution of income using seaborn\n",
    "plt.figure(figsize=(10, 6))\n",
    "sns.histplot(df['HOME_MARKET_VALUE_NUMERIC'], bins=20, kde=True)\n",
    "plt.title('Distribution of HOME_MARKET_VALUE_NUMERIC')\n",
    "plt.xlabel('HOME_MARKET_VALUE_NUMERIC')\n",
    "plt.ylabel('Frequency')\n",
    "plt.show()"
   ]
  },
  {
   "cell_type": "markdown",
   "metadata": {},
   "source": [
    "The distribution of home market values is notably right-skewed, as depicted in the provided boxplot and histogram. This skewness suggests a higher concentration of homes at lower market values, with a tail extending towards more expensive properties.\n",
    "\n",
    "Although the outliers reflect a small percentage of the dataset, they capture properties with exceptionally high market values, potentially including luxury estates or homes in affluent areas. These outliers will not be removed as they represent a valid segment of the housing market and may provide insights into the upper tier of property values."
   ]
  },
  {
   "cell_type": "markdown",
   "metadata": {},
   "source": [
    "#### CORRELATION MATRIX Analysis"
   ]
  },
  {
   "cell_type": "code",
   "execution_count": 98,
   "metadata": {},
   "outputs": [
    {
     "data": {
      "image/png": "[encoded data removed]",
      "text/plain": [
       "<Figure size 640x480 with 2 Axes>"
      ]
     },
     "metadata": {},
     "output_type": "display_data"
    }
   ],
   "source": [
    "# Correct way to define a list of columns\n",
    "numerical_features = ['CURR_ANN_AMT_CAR', 'CURR_ANN_AMT_HEALTH', 'CURR_ANN_AMT_HOUSE', 'INCOME', 'HOME_MARKET_VALUE_NUMERIC']\n",
    "\n",
    "# Now you can compute the correlation matrix for the specified numerical features\n",
    "corr_matrix = df[numerical_features].corr()\n",
    "\n",
    "# Plotting the heatmap for the correlation matrix\n",
    "sns.heatmap(corr_matrix, annot=True, cmap='coolwarm')\n",
    "plt.title('Correlation Matrix of Numerical Features')\n",
    "plt.show()"
   ]
  },
  {
   "cell_type": "markdown",
   "metadata": {},
   "source": [
    "High Correlation Between Insurance Types: The high correlation (0.96) between `CURR_ANN_AMT_CAR` and `CURR_ANN_AMT_HOUSE` suggests that customers’ spending on car insurance is a strong predictor of their spending on house insurance, or vice versa. This could indicate that customers who are willing to spend more on one type of insurance are also willing to spend similarly on another, possibly due to their financial status, risk aversion, or a bundled insurance policy offering.\n",
    "\n",
    "Moderate Correlation Between Different Insurance Payments: There is a moderate correlation between `CURR_ANN_AMT_CAR` and `CURR_ANN_AMT_HEALTH` (0.51), as well as between `CURR_ANN_AMT_HEALTH` and `CURR_ANN_AMT_HOUSE` (0.49). This indicates some degree of relationship, which may be useful for the model. However, these correlations are not as strong, suggesting that other factors could also influence the insurance payments.\n",
    "\n",
    "Low Correlation with Income: INCOME has a relatively low correlation with the insurance payment amounts (ranging from 0.065 to 0.13), which may imply that income alone is not a strong indicator of the insurance payment amounts for car, health, and house. This could suggest that customers across different income levels may have similar insurance payment behaviors, or that income has a complex relationship with insurance payments that is not captured by a linear correlation.\n",
    "\n",
    "Very Low Correlation with Home Market Value: The HOME_MARKET_VALUE_NUMERIC feature has very low correlations with all the other features, especially the insurance payment amounts. This could mean that the market value of a customer's home does not significantly influence the insurance payment amounts, at least not in a linear fashion."
   ]
  },
  {
   "cell_type": "code",
   "execution_count": 99,
   "metadata": {},
   "outputs": [
    {
     "name": "stderr",
     "output_type": "stream",
     "text": [
      "/var/folders/51/kvxxh0pn2p9g4w8qy0z706n40000gn/T/ipykernel_75808/1134722465.py:1: FutureWarning: The default value of numeric_only in DataFrame.corr is deprecated. In a future version, it will default to False. Select only valid columns or specify the value of numeric_only to silence this warning.\n",
      "  df.corr()\n"
     ]
    },
    {
     "data": {
      "text/html": [
       "<div>\n",
       "<style scoped>\n",
       "    .dataframe tbody tr th:only-of-type {\n",
       "        vertical-align: middle;\n",
       "    }\n",
       "\n",
       "    .dataframe tbody tr th {\n",
       "        vertical-align: top;\n",
       "    }\n",
       "\n",
       "    .dataframe thead th {\n",
       "        text-align: right;\n",
       "    }\n",
       "</style>\n",
       "<table border=\"1\" class=\"dataframe\">\n",
       "  <thead>\n",
       "    <tr style=\"text-align: right;\">\n",
       "      <th></th>\n",
       "      <th>INDIVIDUAL_ID</th>\n",
       "      <th>ADDRESS_ID</th>\n",
       "      <th>CURR_ANN_AMT_CAR</th>\n",
       "      <th>CURR_ANN_AMT_HEALTH</th>\n",
       "      <th>CURR_ANN_AMT_HOUSE</th>\n",
       "      <th>INCOME</th>\n",
       "      <th>HAS_CHILDREN</th>\n",
       "      <th>LENGTH_OF_RESIDENCE</th>\n",
       "      <th>HOME_OWNER</th>\n",
       "      <th>COLLEGE_DEGREE</th>\n",
       "      <th>GOOD_CREDIT</th>\n",
       "      <th>MARITAL_STATUS_Married</th>\n",
       "      <th>MARITAL_STATUS_Single</th>\n",
       "      <th>MARITAL_STATUS_Unknown</th>\n",
       "      <th>HOME_MARKET_VALUE_NUMERIC</th>\n",
       "      <th>ADVANCED_STUDIES_BINARY</th>\n",
       "      <th>AGE</th>\n",
       "    </tr>\n",
       "  </thead>\n",
       "  <tbody>\n",
       "    <tr>\n",
       "      <th>INDIVIDUAL_ID</th>\n",
       "      <td>1.000000</td>\n",
       "      <td>0.987027</td>\n",
       "      <td>-0.010952</td>\n",
       "      <td>-0.005538</td>\n",
       "      <td>-0.010373</td>\n",
       "      <td>-0.039040</td>\n",
       "      <td>-0.035144</td>\n",
       "      <td>-0.036312</td>\n",
       "      <td>0.042393</td>\n",
       "      <td>0.024389</td>\n",
       "      <td>-0.070820</td>\n",
       "      <td>-0.083015</td>\n",
       "      <td>0.095465</td>\n",
       "      <td>-0.006812</td>\n",
       "      <td>-0.043893</td>\n",
       "      <td>-0.021048</td>\n",
       "      <td>0.037443</td>\n",
       "    </tr>\n",
       "    <tr>\n",
       "      <th>ADDRESS_ID</th>\n",
       "      <td>0.987027</td>\n",
       "      <td>1.000000</td>\n",
       "      <td>-0.012476</td>\n",
       "      <td>-0.006332</td>\n",
       "      <td>-0.011796</td>\n",
       "      <td>-0.047554</td>\n",
       "      <td>-0.038906</td>\n",
       "      <td>-0.038678</td>\n",
       "      <td>0.046435</td>\n",
       "      <td>0.025660</td>\n",
       "      <td>-0.076610</td>\n",
       "      <td>-0.090929</td>\n",
       "      <td>0.105124</td>\n",
       "      <td>-0.008142</td>\n",
       "      <td>-0.050092</td>\n",
       "      <td>-0.024681</td>\n",
       "      <td>0.041543</td>\n",
       "    </tr>\n",
       "    <tr>\n",
       "      <th>CURR_ANN_AMT_CAR</th>\n",
       "      <td>-0.010952</td>\n",
       "      <td>-0.012476</td>\n",
       "      <td>1.000000</td>\n",
       "      <td>0.514503</td>\n",
       "      <td>0.962245</td>\n",
       "      <td>0.125934</td>\n",
       "      <td>-0.010269</td>\n",
       "      <td>0.176503</td>\n",
       "      <td>0.096588</td>\n",
       "      <td>0.093167</td>\n",
       "      <td>0.052255</td>\n",
       "      <td>0.125053</td>\n",
       "      <td>-0.085234</td>\n",
       "      <td>-0.061126</td>\n",
       "      <td>0.020272</td>\n",
       "      <td>0.038444</td>\n",
       "      <td>0.086158</td>\n",
       "    </tr>\n",
       "    <tr>\n",
       "      <th>CURR_ANN_AMT_HEALTH</th>\n",
       "      <td>-0.005538</td>\n",
       "      <td>-0.006332</td>\n",
       "      <td>0.514503</td>\n",
       "      <td>1.000000</td>\n",
       "      <td>0.494745</td>\n",
       "      <td>0.064973</td>\n",
       "      <td>-0.006152</td>\n",
       "      <td>0.090115</td>\n",
       "      <td>0.049602</td>\n",
       "      <td>0.047871</td>\n",
       "      <td>0.026248</td>\n",
       "      <td>0.063446</td>\n",
       "      <td>-0.043758</td>\n",
       "      <td>-0.030386</td>\n",
       "      <td>0.010356</td>\n",
       "      <td>0.019988</td>\n",
       "      <td>0.043998</td>\n",
       "    </tr>\n",
       "    <tr>\n",
       "      <th>CURR_ANN_AMT_HOUSE</th>\n",
       "      <td>-0.010373</td>\n",
       "      <td>-0.011796</td>\n",
       "      <td>0.962245</td>\n",
       "      <td>0.494745</td>\n",
       "      <td>1.000000</td>\n",
       "      <td>0.121381</td>\n",
       "      <td>-0.009513</td>\n",
       "      <td>0.170068</td>\n",
       "      <td>0.093161</td>\n",
       "      <td>0.089409</td>\n",
       "      <td>0.050195</td>\n",
       "      <td>0.120165</td>\n",
       "      <td>-0.081598</td>\n",
       "      <td>-0.059107</td>\n",
       "      <td>0.019441</td>\n",
       "      <td>0.036908</td>\n",
       "      <td>0.082928</td>\n",
       "    </tr>\n",
       "    <tr>\n",
       "      <th>INCOME</th>\n",
       "      <td>-0.039040</td>\n",
       "      <td>-0.047554</td>\n",
       "      <td>0.125934</td>\n",
       "      <td>0.064973</td>\n",
       "      <td>0.121381</td>\n",
       "      <td>1.000000</td>\n",
       "      <td>0.047596</td>\n",
       "      <td>0.053414</td>\n",
       "      <td>0.154524</td>\n",
       "      <td>0.122327</td>\n",
       "      <td>0.243171</td>\n",
       "      <td>0.230470</td>\n",
       "      <td>-0.218389</td>\n",
       "      <td>-0.037937</td>\n",
       "      <td>0.282920</td>\n",
       "      <td>0.370487</td>\n",
       "      <td>-0.005898</td>\n",
       "    </tr>\n",
       "    <tr>\n",
       "      <th>HAS_CHILDREN</th>\n",
       "      <td>-0.035144</td>\n",
       "      <td>-0.038906</td>\n",
       "      <td>-0.010269</td>\n",
       "      <td>-0.006152</td>\n",
       "      <td>-0.009513</td>\n",
       "      <td>0.047596</td>\n",
       "      <td>1.000000</td>\n",
       "      <td>-0.021908</td>\n",
       "      <td>0.199885</td>\n",
       "      <td>0.088929</td>\n",
       "      <td>0.038952</td>\n",
       "      <td>0.259827</td>\n",
       "      <td>-0.041685</td>\n",
       "      <td>-0.292032</td>\n",
       "      <td>-0.001047</td>\n",
       "      <td>-0.054862</td>\n",
       "      <td>-0.145725</td>\n",
       "    </tr>\n",
       "    <tr>\n",
       "      <th>LENGTH_OF_RESIDENCE</th>\n",
       "      <td>-0.036312</td>\n",
       "      <td>-0.038678</td>\n",
       "      <td>0.176503</td>\n",
       "      <td>0.090115</td>\n",
       "      <td>0.170068</td>\n",
       "      <td>0.053414</td>\n",
       "      <td>-0.021908</td>\n",
       "      <td>1.000000</td>\n",
       "      <td>0.234719</td>\n",
       "      <td>0.063855</td>\n",
       "      <td>0.052080</td>\n",
       "      <td>0.256790</td>\n",
       "      <td>-0.105108</td>\n",
       "      <td>-0.210728</td>\n",
       "      <td>-0.102168</td>\n",
       "      <td>-0.024664</td>\n",
       "      <td>0.282406</td>\n",
       "    </tr>\n",
       "    <tr>\n",
       "      <th>HOME_OWNER</th>\n",
       "      <td>0.042393</td>\n",
       "      <td>0.046435</td>\n",
       "      <td>0.096588</td>\n",
       "      <td>0.049602</td>\n",
       "      <td>0.093161</td>\n",
       "      <td>0.154524</td>\n",
       "      <td>0.199885</td>\n",
       "      <td>0.234719</td>\n",
       "      <td>1.000000</td>\n",
       "      <td>0.176772</td>\n",
       "      <td>0.144194</td>\n",
       "      <td>0.434790</td>\n",
       "      <td>-0.049175</td>\n",
       "      <td>-0.513763</td>\n",
       "      <td>-0.076285</td>\n",
       "      <td>-0.048954</td>\n",
       "      <td>0.108318</td>\n",
       "    </tr>\n",
       "    <tr>\n",
       "      <th>COLLEGE_DEGREE</th>\n",
       "      <td>0.024389</td>\n",
       "      <td>0.025660</td>\n",
       "      <td>0.093167</td>\n",
       "      <td>0.047871</td>\n",
       "      <td>0.089409</td>\n",
       "      <td>0.122327</td>\n",
       "      <td>0.088929</td>\n",
       "      <td>0.063855</td>\n",
       "      <td>0.176772</td>\n",
       "      <td>1.000000</td>\n",
       "      <td>0.054947</td>\n",
       "      <td>0.152120</td>\n",
       "      <td>-0.011794</td>\n",
       "      <td>-0.186346</td>\n",
       "      <td>0.053628</td>\n",
       "      <td>0.009502</td>\n",
       "      <td>0.069881</td>\n",
       "    </tr>\n",
       "    <tr>\n",
       "      <th>GOOD_CREDIT</th>\n",
       "      <td>-0.070820</td>\n",
       "      <td>-0.076610</td>\n",
       "      <td>0.052255</td>\n",
       "      <td>0.026248</td>\n",
       "      <td>0.050195</td>\n",
       "      <td>0.243171</td>\n",
       "      <td>0.038952</td>\n",
       "      <td>0.052080</td>\n",
       "      <td>0.144194</td>\n",
       "      <td>0.054947</td>\n",
       "      <td>1.000000</td>\n",
       "      <td>0.111974</td>\n",
       "      <td>-0.034993</td>\n",
       "      <td>-0.105100</td>\n",
       "      <td>0.075543</td>\n",
       "      <td>0.078275</td>\n",
       "      <td>0.017193</td>\n",
       "    </tr>\n",
       "    <tr>\n",
       "      <th>MARITAL_STATUS_Married</th>\n",
       "      <td>-0.083015</td>\n",
       "      <td>-0.090929</td>\n",
       "      <td>0.125053</td>\n",
       "      <td>0.063446</td>\n",
       "      <td>0.120165</td>\n",
       "      <td>0.230470</td>\n",
       "      <td>0.259827</td>\n",
       "      <td>0.256790</td>\n",
       "      <td>0.434790</td>\n",
       "      <td>0.152120</td>\n",
       "      <td>0.111974</td>\n",
       "      <td>1.000000</td>\n",
       "      <td>-0.692233</td>\n",
       "      <td>-0.475818</td>\n",
       "      <td>0.029606</td>\n",
       "      <td>-0.002779</td>\n",
       "      <td>0.133378</td>\n",
       "    </tr>\n",
       "    <tr>\n",
       "      <th>MARITAL_STATUS_Single</th>\n",
       "      <td>0.095465</td>\n",
       "      <td>0.105124</td>\n",
       "      <td>-0.085234</td>\n",
       "      <td>-0.043758</td>\n",
       "      <td>-0.081598</td>\n",
       "      <td>-0.218389</td>\n",
       "      <td>-0.041685</td>\n",
       "      <td>-0.105108</td>\n",
       "      <td>-0.049175</td>\n",
       "      <td>-0.011794</td>\n",
       "      <td>-0.034993</td>\n",
       "      <td>-0.692233</td>\n",
       "      <td>1.000000</td>\n",
       "      <td>-0.305367</td>\n",
       "      <td>-0.049543</td>\n",
       "      <td>-0.143963</td>\n",
       "      <td>-0.079745</td>\n",
       "    </tr>\n",
       "    <tr>\n",
       "      <th>MARITAL_STATUS_Unknown</th>\n",
       "      <td>-0.006812</td>\n",
       "      <td>-0.008142</td>\n",
       "      <td>-0.061126</td>\n",
       "      <td>-0.030386</td>\n",
       "      <td>-0.059107</td>\n",
       "      <td>-0.037937</td>\n",
       "      <td>-0.292032</td>\n",
       "      <td>-0.210728</td>\n",
       "      <td>-0.513763</td>\n",
       "      <td>-0.186346</td>\n",
       "      <td>-0.105100</td>\n",
       "      <td>-0.475818</td>\n",
       "      <td>-0.305367</td>\n",
       "      <td>1.000000</td>\n",
       "      <td>0.021316</td>\n",
       "      <td>0.179122</td>\n",
       "      <td>-0.078800</td>\n",
       "    </tr>\n",
       "    <tr>\n",
       "      <th>HOME_MARKET_VALUE_NUMERIC</th>\n",
       "      <td>-0.043893</td>\n",
       "      <td>-0.050092</td>\n",
       "      <td>0.020272</td>\n",
       "      <td>0.010356</td>\n",
       "      <td>0.019441</td>\n",
       "      <td>0.282920</td>\n",
       "      <td>-0.001047</td>\n",
       "      <td>-0.102168</td>\n",
       "      <td>-0.076285</td>\n",
       "      <td>0.053628</td>\n",
       "      <td>0.075543</td>\n",
       "      <td>0.029606</td>\n",
       "      <td>-0.049543</td>\n",
       "      <td>0.021316</td>\n",
       "      <td>1.000000</td>\n",
       "      <td>0.122840</td>\n",
       "      <td>-0.016227</td>\n",
       "    </tr>\n",
       "    <tr>\n",
       "      <th>ADVANCED_STUDIES_BINARY</th>\n",
       "      <td>-0.021048</td>\n",
       "      <td>-0.024681</td>\n",
       "      <td>0.038444</td>\n",
       "      <td>0.019988</td>\n",
       "      <td>0.036908</td>\n",
       "      <td>0.370487</td>\n",
       "      <td>-0.054862</td>\n",
       "      <td>-0.024664</td>\n",
       "      <td>-0.048954</td>\n",
       "      <td>0.009502</td>\n",
       "      <td>0.078275</td>\n",
       "      <td>-0.002779</td>\n",
       "      <td>-0.143963</td>\n",
       "      <td>0.179122</td>\n",
       "      <td>0.122840</td>\n",
       "      <td>1.000000</td>\n",
       "      <td>-0.026230</td>\n",
       "    </tr>\n",
       "    <tr>\n",
       "      <th>AGE</th>\n",
       "      <td>0.037443</td>\n",
       "      <td>0.041543</td>\n",
       "      <td>0.086158</td>\n",
       "      <td>0.043998</td>\n",
       "      <td>0.082928</td>\n",
       "      <td>-0.005898</td>\n",
       "      <td>-0.145725</td>\n",
       "      <td>0.282406</td>\n",
       "      <td>0.108318</td>\n",
       "      <td>0.069881</td>\n",
       "      <td>0.017193</td>\n",
       "      <td>0.133378</td>\n",
       "      <td>-0.079745</td>\n",
       "      <td>-0.078800</td>\n",
       "      <td>-0.016227</td>\n",
       "      <td>-0.026230</td>\n",
       "      <td>1.000000</td>\n",
       "    </tr>\n",
       "  </tbody>\n",
       "</table>\n",
       "</div>"
      ],
      "text/plain": [
       "                           INDIVIDUAL_ID  ADDRESS_ID  CURR_ANN_AMT_CAR  \\\n",
       "INDIVIDUAL_ID                   1.000000    0.987027         -0.010952   \n",
       "ADDRESS_ID                      0.987027    1.000000         -0.012476   \n",
       "CURR_ANN_AMT_CAR               -0.010952   -0.012476          1.000000   \n",
       "CURR_ANN_AMT_HEALTH            -0.005538   -0.006332          0.514503   \n",
       "CURR_ANN_AMT_HOUSE             -0.010373   -0.011796          0.962245   \n",
       "INCOME                         -0.039040   -0.047554          0.125934   \n",
       "HAS_CHILDREN                   -0.035144   -0.038906         -0.010269   \n",
       "LENGTH_OF_RESIDENCE            -0.036312   -0.038678          0.176503   \n",
       "HOME_OWNER                      0.042393    0.046435          0.096588   \n",
       "COLLEGE_DEGREE                  0.024389    0.025660          0.093167   \n",
       "GOOD_CREDIT                    -0.070820   -0.076610          0.052255   \n",
       "MARITAL_STATUS_Married         -0.083015   -0.090929          0.125053   \n",
       "MARITAL_STATUS_Single           0.095465    0.105124         -0.085234   \n",
       "MARITAL_STATUS_Unknown         -0.006812   -0.008142         -0.061126   \n",
       "HOME_MARKET_VALUE_NUMERIC      -0.043893   -0.050092          0.020272   \n",
       "ADVANCED_STUDIES_BINARY        -0.021048   -0.024681          0.038444   \n",
       "AGE                             0.037443    0.041543          0.086158   \n",
       "\n",
       "                           CURR_ANN_AMT_HEALTH  CURR_ANN_AMT_HOUSE    INCOME  \\\n",
       "INDIVIDUAL_ID                        -0.005538           -0.010373 -0.039040   \n",
       "ADDRESS_ID                           -0.006332           -0.011796 -0.047554   \n",
       "CURR_ANN_AMT_CAR                      0.514503            0.962245  0.125934   \n",
       "CURR_ANN_AMT_HEALTH                   1.000000            0.494745  0.064973   \n",
       "CURR_ANN_AMT_HOUSE                    0.494745            1.000000  0.121381   \n",
       "INCOME                                0.064973            0.121381  1.000000   \n",
       "HAS_CHILDREN                         -0.006152           -0.009513  0.047596   \n",
       "LENGTH_OF_RESIDENCE                   0.090115            0.170068  0.053414   \n",
       "HOME_OWNER                            0.049602            0.093161  0.154524   \n",
       "COLLEGE_DEGREE                        0.047871            0.089409  0.122327   \n",
       "GOOD_CREDIT                           0.026248            0.050195  0.243171   \n",
       "MARITAL_STATUS_Married                0.063446            0.120165  0.230470   \n",
       "MARITAL_STATUS_Single                -0.043758           -0.081598 -0.218389   \n",
       "MARITAL_STATUS_Unknown               -0.030386           -0.059107 -0.037937   \n",
       "HOME_MARKET_VALUE_NUMERIC             0.010356            0.019441  0.282920   \n",
       "ADVANCED_STUDIES_BINARY               0.019988            0.036908  0.370487   \n",
       "AGE                                   0.043998            0.082928 -0.005898   \n",
       "\n",
       "                           HAS_CHILDREN  LENGTH_OF_RESIDENCE  HOME_OWNER  \\\n",
       "INDIVIDUAL_ID                 -0.035144            -0.036312    0.042393   \n",
       "ADDRESS_ID                    -0.038906            -0.038678    0.046435   \n",
       "CURR_ANN_AMT_CAR              -0.010269             0.176503    0.096588   \n",
       "CURR_ANN_AMT_HEALTH           -0.006152             0.090115    0.049602   \n",
       "CURR_ANN_AMT_HOUSE            -0.009513             0.170068    0.093161   \n",
       "INCOME                         0.047596             0.053414    0.154524   \n",
       "HAS_CHILDREN                   1.000000            -0.021908    0.199885   \n",
       "LENGTH_OF_RESIDENCE           -0.021908             1.000000    0.234719   \n",
       "HOME_OWNER                     0.199885             0.234719    1.000000   \n",
       "COLLEGE_DEGREE                 0.088929             0.063855    0.176772   \n",
       "GOOD_CREDIT                    0.038952             0.052080    0.144194   \n",
       "MARITAL_STATUS_Married         0.259827             0.256790    0.434790   \n",
       "MARITAL_STATUS_Single         -0.041685            -0.105108   -0.049175   \n",
       "MARITAL_STATUS_Unknown        -0.292032            -0.210728   -0.513763   \n",
       "HOME_MARKET_VALUE_NUMERIC     -0.001047            -0.102168   -0.076285   \n",
       "ADVANCED_STUDIES_BINARY       -0.054862            -0.024664   -0.048954   \n",
       "AGE                           -0.145725             0.282406    0.108318   \n",
       "\n",
       "                           COLLEGE_DEGREE  GOOD_CREDIT  \\\n",
       "INDIVIDUAL_ID                    0.024389    -0.070820   \n",
       "ADDRESS_ID                       0.025660    -0.076610   \n",
       "CURR_ANN_AMT_CAR                 0.093167     0.052255   \n",
       "CURR_ANN_AMT_HEALTH              0.047871     0.026248   \n",
       "CURR_ANN_AMT_HOUSE               0.089409     0.050195   \n",
       "INCOME                           0.122327     0.243171   \n",
       "HAS_CHILDREN                     0.088929     0.038952   \n",
       "LENGTH_OF_RESIDENCE              0.063855     0.052080   \n",
       "HOME_OWNER                       0.176772     0.144194   \n",
       "COLLEGE_DEGREE                   1.000000     0.054947   \n",
       "GOOD_CREDIT                      0.054947     1.000000   \n",
       "MARITAL_STATUS_Married           0.152120     0.111974   \n",
       "MARITAL_STATUS_Single           -0.011794    -0.034993   \n",
       "MARITAL_STATUS_Unknown          -0.186346    -0.105100   \n",
       "HOME_MARKET_VALUE_NUMERIC        0.053628     0.075543   \n",
       "ADVANCED_STUDIES_BINARY          0.009502     0.078275   \n",
       "AGE                              0.069881     0.017193   \n",
       "\n",
       "                           MARITAL_STATUS_Married  MARITAL_STATUS_Single  \\\n",
       "INDIVIDUAL_ID                           -0.083015               0.095465   \n",
       "ADDRESS_ID                              -0.090929               0.105124   \n",
       "CURR_ANN_AMT_CAR                         0.125053              -0.085234   \n",
       "CURR_ANN_AMT_HEALTH                      0.063446              -0.043758   \n",
       "CURR_ANN_AMT_HOUSE                       0.120165              -0.081598   \n",
       "INCOME                                   0.230470              -0.218389   \n",
       "HAS_CHILDREN                             0.259827              -0.041685   \n",
       "LENGTH_OF_RESIDENCE                      0.256790              -0.105108   \n",
       "HOME_OWNER                               0.434790              -0.049175   \n",
       "COLLEGE_DEGREE                           0.152120              -0.011794   \n",
       "GOOD_CREDIT                              0.111974              -0.034993   \n",
       "MARITAL_STATUS_Married                   1.000000              -0.692233   \n",
       "MARITAL_STATUS_Single                   -0.692233               1.000000   \n",
       "MARITAL_STATUS_Unknown                  -0.475818              -0.305367   \n",
       "HOME_MARKET_VALUE_NUMERIC                0.029606              -0.049543   \n",
       "ADVANCED_STUDIES_BINARY                 -0.002779              -0.143963   \n",
       "AGE                                      0.133378              -0.079745   \n",
       "\n",
       "                           MARITAL_STATUS_Unknown  HOME_MARKET_VALUE_NUMERIC  \\\n",
       "INDIVIDUAL_ID                           -0.006812                  -0.043893   \n",
       "ADDRESS_ID                              -0.008142                  -0.050092   \n",
       "CURR_ANN_AMT_CAR                        -0.061126                   0.020272   \n",
       "CURR_ANN_AMT_HEALTH                     -0.030386                   0.010356   \n",
       "CURR_ANN_AMT_HOUSE                      -0.059107                   0.019441   \n",
       "INCOME                                  -0.037937                   0.282920   \n",
       "HAS_CHILDREN                            -0.292032                  -0.001047   \n",
       "LENGTH_OF_RESIDENCE                     -0.210728                  -0.102168   \n",
       "HOME_OWNER                              -0.513763                  -0.076285   \n",
       "COLLEGE_DEGREE                          -0.186346                   0.053628   \n",
       "GOOD_CREDIT                             -0.105100                   0.075543   \n",
       "MARITAL_STATUS_Married                  -0.475818                   0.029606   \n",
       "MARITAL_STATUS_Single                   -0.305367                  -0.049543   \n",
       "MARITAL_STATUS_Unknown                   1.000000                   0.021316   \n",
       "HOME_MARKET_VALUE_NUMERIC                0.021316                   1.000000   \n",
       "ADVANCED_STUDIES_BINARY                  0.179122                   0.122840   \n",
       "AGE                                     -0.078800                  -0.016227   \n",
       "\n",
       "                           ADVANCED_STUDIES_BINARY       AGE  \n",
       "INDIVIDUAL_ID                            -0.021048  0.037443  \n",
       "ADDRESS_ID                               -0.024681  0.041543  \n",
       "CURR_ANN_AMT_CAR                          0.038444  0.086158  \n",
       "CURR_ANN_AMT_HEALTH                       0.019988  0.043998  \n",
       "CURR_ANN_AMT_HOUSE                        0.036908  0.082928  \n",
       "INCOME                                    0.370487 -0.005898  \n",
       "HAS_CHILDREN                             -0.054862 -0.145725  \n",
       "LENGTH_OF_RESIDENCE                      -0.024664  0.282406  \n",
       "HOME_OWNER                               -0.048954  0.108318  \n",
       "COLLEGE_DEGREE                            0.009502  0.069881  \n",
       "GOOD_CREDIT                               0.078275  0.017193  \n",
       "MARITAL_STATUS_Married                   -0.002779  0.133378  \n",
       "MARITAL_STATUS_Single                    -0.143963 -0.079745  \n",
       "MARITAL_STATUS_Unknown                    0.179122 -0.078800  \n",
       "HOME_MARKET_VALUE_NUMERIC                 0.122840 -0.016227  \n",
       "ADVANCED_STUDIES_BINARY                   1.000000 -0.026230  \n",
       "AGE                                      -0.026230  1.000000  "
      ]
     },
     "execution_count": 99,
     "metadata": {},
     "output_type": "execute_result"
    }
   ],
   "source": [
    "df.corr()"
   ]
  },
  {
   "cell_type": "markdown",
   "metadata": {},
   "source": [
    "#### Termination Dataframe Analysis and Cleaning"
   ]
  },
  {
   "cell_type": "code",
   "execution_count": 100,
   "metadata": {},
   "outputs": [
    {
     "data": {
      "text/html": [
       "<div>\n",
       "<style scoped>\n",
       "    .dataframe tbody tr th:only-of-type {\n",
       "        vertical-align: middle;\n",
       "    }\n",
       "\n",
       "    .dataframe tbody tr th {\n",
       "        vertical-align: top;\n",
       "    }\n",
       "\n",
       "    .dataframe thead th {\n",
       "        text-align: right;\n",
       "    }\n",
       "</style>\n",
       "<table border=\"1\" class=\"dataframe\">\n",
       "  <thead>\n",
       "    <tr style=\"text-align: right;\">\n",
       "      <th></th>\n",
       "      <th>INDIVIDUAL_ID</th>\n",
       "      <th>SUSPD_DATE</th>\n",
       "    </tr>\n",
       "  </thead>\n",
       "  <tbody>\n",
       "    <tr>\n",
       "      <th>0</th>\n",
       "      <td>221302577308</td>\n",
       "      <td>2022-10-09</td>\n",
       "    </tr>\n",
       "    <tr>\n",
       "      <th>1</th>\n",
       "      <td>221302825760</td>\n",
       "      <td>2022-04-24</td>\n",
       "    </tr>\n",
       "    <tr>\n",
       "      <th>2</th>\n",
       "      <td>221302678990</td>\n",
       "      <td>2022-05-21</td>\n",
       "    </tr>\n",
       "    <tr>\n",
       "      <th>3</th>\n",
       "      <td>221300210549</td>\n",
       "      <td>2022-04-27</td>\n",
       "    </tr>\n",
       "    <tr>\n",
       "      <th>4</th>\n",
       "      <td>221302553479</td>\n",
       "      <td>2022-09-16</td>\n",
       "    </tr>\n",
       "  </tbody>\n",
       "</table>\n",
       "</div>"
      ],
      "text/plain": [
       "   INDIVIDUAL_ID  SUSPD_DATE\n",
       "0   221302577308  2022-10-09\n",
       "1   221302825760  2022-04-24\n",
       "2   221302678990  2022-05-21\n",
       "3   221300210549  2022-04-27\n",
       "4   221302553479  2022-09-16"
      ]
     },
     "execution_count": 100,
     "metadata": {},
     "output_type": "execute_result"
    }
   ],
   "source": [
    "df_termination.head()"
   ]
  },
  {
   "cell_type": "code",
   "execution_count": 101,
   "metadata": {},
   "outputs": [
    {
     "data": {
      "text/plain": [
       "INDIVIDUAL_ID       0\n",
       "SUSPD_DATE       2693\n",
       "dtype: int64"
      ]
     },
     "execution_count": 101,
     "metadata": {},
     "output_type": "execute_result"
    }
   ],
   "source": [
    "missing_t= df_termination.isnull().sum()\n",
    "missing_t"
   ]
  },
  {
   "cell_type": "code",
   "execution_count": 102,
   "metadata": {},
   "outputs": [
    {
     "data": {
      "text/plain": [
       "0"
      ]
     },
     "execution_count": 102,
     "metadata": {},
     "output_type": "execute_result"
    }
   ],
   "source": [
    "#check for duplicates ID in the termination dataframe\n",
    "duplicates_t = df_termination.duplicated(subset=['INDIVIDUAL_ID'])\n",
    "duplicates_t.sum()"
   ]
  },
  {
   "cell_type": "code",
   "execution_count": 103,
   "metadata": {},
   "outputs": [],
   "source": [
    "#transform the SUSPD_DATE column to datetime\n",
    "df_termination['SUSPD_DATE'] = pd.to_datetime(df_termination['SUSPD_DATE'], errors='coerce')"
   ]
  },
  {
   "cell_type": "code",
   "execution_count": 104,
   "metadata": {},
   "outputs": [
    {
     "data": {
      "text/plain": [
       "count                           266566\n",
       "mean     2022-06-20 07:50:06.099802880\n",
       "min                2019-12-10 00:00:00\n",
       "25%                2022-03-02 00:00:00\n",
       "50%                2022-06-09 00:00:00\n",
       "75%                2022-09-12 00:00:00\n",
       "max                2026-12-01 00:00:00\n",
       "Name: SUSPD_DATE, dtype: object"
      ]
     },
     "execution_count": 104,
     "metadata": {},
     "output_type": "execute_result"
    }
   ],
   "source": [
    "df_termination['SUSPD_DATE'].describe(datetime_is_numeric=True)"
   ]
  },
  {
   "cell_type": "markdown",
   "metadata": {},
   "source": [
    "The `SUSPD_DATE` indicates that policy suspensions have been recorded over a span from late 2019 to early 2026, with the majority happening in 2022."
   ]
  },
  {
   "cell_type": "code",
   "execution_count": 105,
   "metadata": {},
   "outputs": [
    {
     "name": "stdout",
     "output_type": "stream",
     "text": [
      "Number of future dates in SUSPD_DATE: 3712\n"
     ]
    }
   ],
   "source": [
    "#there are suspicious future dates in the SUSPD_DATE column\n",
    "future_dates_t = df_termination[df_termination['SUSPD_DATE'] > datetime.now()]\n",
    "print(f\"Number of future dates in SUSPD_DATE: {future_dates_t.shape[0]}\")"
   ]
  },
  {
   "cell_type": "markdown",
   "metadata": {},
   "source": [
    "we can intepret this future dates as suspension dates that are yet to occur so we will keep them in the dataframe.\n",
    "we will remove the rows with missing values in the SUSPD_DATE column"
   ]
  },
  {
   "cell_type": "code",
   "execution_count": 106,
   "metadata": {},
   "outputs": [
    {
     "data": {
      "image/png": "[encoded data removed]",
      "text/plain": [
       "<Figure size 640x480 with 1 Axes>"
      ]
     },
     "metadata": {},
     "output_type": "display_data"
    }
   ],
   "source": [
    "plt.hist(df_termination['SUSPD_DATE'] , bins=20)\n",
    "\n",
    "plt.title('Histogram of SUSP_DATE')\n",
    "plt.xlabel('Value')\n",
    "plt.ylabel('Frequency')\n",
    "plt.grid(axis='y', alpha=0.75)\n",
    "\n",
    "plt.show()"
   ]
  },
  {
   "cell_type": "code",
   "execution_count": 107,
   "metadata": {},
   "outputs": [
    {
     "data": {
      "image/png": "[encoded data removed]",
      "text/plain": [
       "<Figure size 640x480 with 1 Axes>"
      ]
     },
     "metadata": {},
     "output_type": "display_data"
    }
   ],
   "source": [
    "#check the anomalies in the SUSPD_DATE column in 2022\n",
    "anomalies_t = df_termination[df_termination['SUSPD_DATE'].dt.year == 2022]\n",
    "plt.hist(anomalies_t['SUSPD_DATE'], bins=20)\n",
    "\n",
    "plt.title('Histogram of SUSP_DATE')\n",
    "plt.xlabel('Value')\n",
    "plt.ylabel('Frequency')\n",
    "plt.grid(axis='y', alpha=0.75)\n",
    "\n",
    "plt.show()"
   ]
  },
  {
   "cell_type": "code",
   "execution_count": 108,
   "metadata": {},
   "outputs": [
    {
     "data": {
      "text/plain": [
       "INDIVIDUAL_ID    0\n",
       "SUSPD_DATE       0\n",
       "dtype: int64"
      ]
     },
     "execution_count": 108,
     "metadata": {},
     "output_type": "execute_result"
    }
   ],
   "source": [
    "#drop the missing values in the SUSPD_DATE column\n",
    "df_termination = df_termination.dropna(subset=['SUSPD_DATE'])\n",
    "\n",
    "#check for missing values\n",
    "missing_t = df_termination.isnull().sum()\n",
    "missing_t"
   ]
  },
  {
   "cell_type": "markdown",
   "metadata": {},
   "source": [
    "**Remove records with missing `SUSPD_DATE`**: Since this date is essential for identifying the period of policy suspension, its absence could lead to incorrect inferences about the customer's policy status.\n"
   ]
  },
  {
   "cell_type": "code",
   "execution_count": 109,
   "metadata": {},
   "outputs": [
    {
     "data": {
      "text/html": [
       "<div>\n",
       "<style scoped>\n",
       "    .dataframe tbody tr th:only-of-type {\n",
       "        vertical-align: middle;\n",
       "    }\n",
       "\n",
       "    .dataframe tbody tr th {\n",
       "        vertical-align: top;\n",
       "    }\n",
       "\n",
       "    .dataframe thead th {\n",
       "        text-align: right;\n",
       "    }\n",
       "</style>\n",
       "<table border=\"1\" class=\"dataframe\">\n",
       "  <thead>\n",
       "    <tr style=\"text-align: right;\">\n",
       "      <th></th>\n",
       "      <th>INDIVIDUAL_ID</th>\n",
       "      <th>SUSPD_DATE</th>\n",
       "      <th>DAYS_TO_CHURN</th>\n",
       "      <th>CHURN_INDICATOR</th>\n",
       "    </tr>\n",
       "  </thead>\n",
       "  <tbody>\n",
       "    <tr>\n",
       "      <th>0</th>\n",
       "      <td>221302577308</td>\n",
       "      <td>2022-10-09</td>\n",
       "      <td>-643</td>\n",
       "      <td>1</td>\n",
       "    </tr>\n",
       "    <tr>\n",
       "      <th>1</th>\n",
       "      <td>221302825760</td>\n",
       "      <td>2022-04-24</td>\n",
       "      <td>-811</td>\n",
       "      <td>1</td>\n",
       "    </tr>\n",
       "    <tr>\n",
       "      <th>2</th>\n",
       "      <td>221302678990</td>\n",
       "      <td>2022-05-21</td>\n",
       "      <td>-784</td>\n",
       "      <td>1</td>\n",
       "    </tr>\n",
       "    <tr>\n",
       "      <th>3</th>\n",
       "      <td>221300210549</td>\n",
       "      <td>2022-04-27</td>\n",
       "      <td>-808</td>\n",
       "      <td>1</td>\n",
       "    </tr>\n",
       "    <tr>\n",
       "      <th>4</th>\n",
       "      <td>221302553479</td>\n",
       "      <td>2022-09-16</td>\n",
       "      <td>-666</td>\n",
       "      <td>1</td>\n",
       "    </tr>\n",
       "  </tbody>\n",
       "</table>\n",
       "</div>"
      ],
      "text/plain": [
       "   INDIVIDUAL_ID SUSPD_DATE  DAYS_TO_CHURN  CHURN_INDICATOR\n",
       "0   221302577308 2022-10-09           -643                1\n",
       "1   221302825760 2022-04-24           -811                1\n",
       "2   221302678990 2022-05-21           -784                1\n",
       "3   221300210549 2022-04-27           -808                1\n",
       "4   221302553479 2022-09-16           -666                1"
      ]
     },
     "execution_count": 109,
     "metadata": {},
     "output_type": "execute_result"
    }
   ],
   "source": [
    "# Calculate the number of days from the reference date (today) until the suspension date\n",
    "df_termination['DAYS_TO_CHURN'] = (df_termination['SUSPD_DATE'] - datetime.now()).dt.days\n",
    "\n",
    "# Create a churn indicator where the policy suspension date has passed\n",
    "df_termination['CHURN_INDICATOR'] = df_termination['SUSPD_DATE'].apply(lambda x: 1 if x < datetime.now() else 1)\n",
    "\n",
    "df_termination.head()"
   ]
  },
  {
   "cell_type": "code",
   "execution_count": 110,
   "metadata": {},
   "outputs": [
    {
     "data": {
      "text/plain": [
       "1    266566\n",
       "Name: CHURN_INDICATOR, dtype: int64"
      ]
     },
     "execution_count": 110,
     "metadata": {},
     "output_type": "execute_result"
    }
   ],
   "source": [
    "#contoroll the distirbution of the churn indicator\n",
    "df_termination['CHURN_INDICATOR'].value_counts()"
   ]
  },
  {
   "cell_type": "code",
   "execution_count": 111,
   "metadata": {},
   "outputs": [
    {
     "data": {
      "text/plain": [
       "Text(0.5, 1.0, 'Distribution of Days to Churn')"
      ]
     },
     "execution_count": 111,
     "metadata": {},
     "output_type": "execute_result"
    },
    {
     "data": {
      "image/png": "[encoded data removed]",
      "text/plain": [
       "<Figure size 1000x600 with 1 Axes>"
      ]
     },
     "metadata": {},
     "output_type": "display_data"
    }
   ],
   "source": [
    "df_termination['DAYS_TO_CHURN'].describe()\n",
    "\n",
    "# Plot the distribution of days to churn\n",
    "plt.figure(figsize=(10, 6))\n",
    "df_termination['DAYS_TO_CHURN'].hist(bins=20)\n",
    "plt.title('Distribution of Days to Churn')"
   ]
  },
  {
   "cell_type": "markdown",
   "metadata": {},
   "source": [
    "The analysis of the `SUSPD_DATE` column from the termination dataset reveals significant insights about policy suspensions:\n",
    "\n",
    "**Data Quality Checks**\n",
    "\n",
    "- Missing Dates: There were 2,693 missing suspension dates. These records were removed to maintain accuracy in the analysis.\n",
    "- Duplicate IDs: The check for duplicate individual IDs ensured the uniqueness of each record.\n",
    "- Future Dates: A total of 4,269 suspension dates are set in the future, suggesting these are planned suspensions. These records were kept as they represent legitimate future events.\n",
    "\n",
    "**Suspension Date Statistics**\n",
    "\n",
    "- Count: 266,566 dates analyzed\n",
    "- Mean Date: June 20, 2022\n",
    "- Date Range: December 10, 2019, to December 1, 2026\n",
    "- The majority of suspensions occurred throughout 2022, indicating a period of higher churn.\n",
    "\n",
    "**Churn Analysis**\n",
    "\n",
    "- Churn Indicator: All policies with suspension dates in the past were marked with a churn indicator.\n",
    "- The DAYS_TO_CHURN distribution suggests a significant number of policies are either recently churned or approaching the churn date.\n",
    "\n",
    "The histograms depict the frequency of suspensions over time, with a notable increase in 2022, and the \"Days to Churn\" graph indicates a concentration of churn closer to the current date. This analysis highlights the need for proactive customer retention strategies, especially in times with higher churn rates."
   ]
  },
  {
   "cell_type": "markdown",
   "metadata": {},
   "source": [
    "#### Q1.2 Main data insights"
   ]
  },
  {
   "cell_type": "markdown",
   "metadata": {},
   "source": [
    "The analysis of ABC Insurance's comprehensive customer dataset not only uncovers critical insights into customer behavior and churn but also brings to light significant data quality issues that could challenge the company's strategic objectives. The dataset revealed high correlations between different types of insurance payments, notably between car and house insurance, suggesting substantial cross-selling opportunities. However, the effectiveness of leveraging these insights is somewhat undermined by pervasive data quality concerns, including incorrect future dates in policy start dates, missing values, and anomalies in key variables such as `CUST_START_DATE` and `MARITAL_STATUS`. These issues signal a need for rigorous data cleaning and validation processes to ensure the reliability of the insights drawn. Moreover, the low correlation between customers' income levels and their insurance payments indicates a complex relationship that transcends simple demographic or financial segmentation, highlighting the importance of a nuanced approach to customer engagement strategies.\n",
    "\n",
    "The churn analysis further underscores the urgency for targeted retention strategies, especially given the increase in policy suspensions identified in 2022. However, the task of accurately predicting customer value and churn is exacerbated by the noted low quality of the collected data, raising concerns about the feasibility of developing robust predictive models. The presence of significant data entry errors, such as future-dated policy suspensions and logical inconsistencies in customer join dates, poses substantial challenges to modeling efforts. These issues could lead to unreliable predictions and misinformed strategic decisions, emphasizing the critical need for comprehensive data quality improvement initiatives. For ABC Insurance, aligning with the CEO's vision of understanding and engaging customers necessitates not only a deep dive into the available data but also a commitment to improving data collection and processing practices. Enhancing data quality is paramount to unlocking the full potential of analytics in crafting tailored product offerings, mitigating churn, and ultimately, securing a competitive edge in the insurance industry through data-driven customer insights."
   ]
  },
  {
   "cell_type": "markdown",
   "metadata": {},
   "source": [
    "## Predictive Modeling estimate Costumer Value \n",
    "\n",
    "#### Background: ABC Insurance aims to optimize its marketing and product offerings by predicting which customers are likely to be the most valuable. The CURR_ANN_AMT_CAR, CURR_ANN_AMT_HEALTH, and CURR_ANN_AMT_HOUSE fields in the df_customer dataset can serve as indicators of customer value."
   ]
  },
  {
   "cell_type": "markdown",
   "metadata": {},
   "source": [
    "#### Q2.1 Build a baseline model to estimate the costumer value based on their characteristics."
   ]
  },
  {
   "cell_type": "code",
   "execution_count": 112,
   "metadata": {},
   "outputs": [],
   "source": [
    "from sklearn.linear_model import LinearRegression\n",
    "from sklearn.feature_selection import RFE\n",
    "from sklearn.preprocessing import StandardScaler\n",
    "from sklearn.model_selection import cross_val_score, KFold\n",
    "from sklearn.metrics import make_scorer, r2_score, mean_squared_error\n",
    "from sklearn import linear_model\n",
    "from sklearn.preprocessing import PolynomialFeatures\n",
    "from sklearn.model_selection import train_test_split"
   ]
  },
  {
   "cell_type": "markdown",
   "metadata": {},
   "source": [
    "#### CLEANING OF THE DATASET BEFORE MODELING"
   ]
  },
  {
   "cell_type": "code",
   "execution_count": 113,
   "metadata": {},
   "outputs": [],
   "source": [
    "df_model = df.copy()"
   ]
  },
  {
   "cell_type": "code",
   "execution_count": 114,
   "metadata": {},
   "outputs": [],
   "source": [
    "df_model['CUSTOMER_VALUE_AVG'] = df_model[['CURR_ANN_AMT_CAR', 'CURR_ANN_AMT_HEALTH', 'CURR_ANN_AMT_HOUSE']].mean(axis=1)\n",
    "df_model.drop(['CURR_ANN_AMT_CAR', 'CURR_ANN_AMT_HEALTH', 'CURR_ANN_AMT_HOUSE'], axis=1, inplace=True)"
   ]
  },
  {
   "cell_type": "markdown",
   "metadata": {},
   "source": [
    "Average: Averaging these amounts would normalize the customer value and could be useful if the company is interested in understanding the typical amount spent per policy type. This might be particularly relevant if the costs and profit margins are similar across the different insurance types or if the company wants to minimize the influence of customers who are outliers in spending on specific types of insurance."
   ]
  },
  {
   "cell_type": "code",
   "execution_count": 115,
   "metadata": {},
   "outputs": [
    {
     "name": "stderr",
     "output_type": "stream",
     "text": [
      "/var/folders/51/kvxxh0pn2p9g4w8qy0z706n40000gn/T/ipykernel_75808/3006328829.py:1: FutureWarning: The default value of numeric_only in DataFrame.corr is deprecated. In a future version, it will default to False. Select only valid columns or specify the value of numeric_only to silence this warning.\n",
      "  correlation_matrix = df_model.corr()\n"
     ]
    },
    {
     "data": {
      "text/plain": [
       "CUSTOMER_VALUE_AVG           1.000000\n",
       "LENGTH_OF_RESIDENCE          0.164020\n",
       "INCOME                       0.117320\n",
       "MARITAL_STATUS_Married       0.115983\n",
       "HOME_OWNER                   0.089895\n",
       "COLLEGE_DEGREE               0.086644\n",
       "AGE                          0.080053\n",
       "GOOD_CREDIT                  0.048350\n",
       "ADVANCED_STUDIES_BINARY      0.035854\n",
       "HOME_MARKET_VALUE_NUMERIC    0.018825\n",
       "HAS_CHILDREN                -0.009862\n",
       "INDIVIDUAL_ID               -0.010124\n",
       "ADDRESS_ID                  -0.011539\n",
       "MARITAL_STATUS_Unknown      -0.056491\n",
       "MARITAL_STATUS_Single       -0.079217\n",
       "Name: CUSTOMER_VALUE_AVG, dtype: float64"
      ]
     },
     "execution_count": 115,
     "metadata": {},
     "output_type": "execute_result"
    }
   ],
   "source": [
    "correlation_matrix = df_model.corr()\n",
    "correlation_matrix['CUSTOMER_VALUE_AVG'].sort_values(ascending=False)"
   ]
  },
  {
   "cell_type": "code",
   "execution_count": 116,
   "metadata": {},
   "outputs": [
    {
     "data": {
      "text/plain": [
       "0"
      ]
     },
     "execution_count": 116,
     "metadata": {},
     "output_type": "execute_result"
    }
   ],
   "source": [
    "#check for duplicates ID in the termination dataframe\n",
    "duplicates_t = df_termination.duplicated(subset=['INDIVIDUAL_ID'])\n",
    "duplicates_t.sum()"
   ]
  },
  {
   "cell_type": "code",
   "execution_count": 117,
   "metadata": {},
   "outputs": [],
   "source": [
    "#transform the SUSPD_DATE column to datetime\n",
    "df_termination['SUSPD_DATE'] = pd.to_datetime(df_termination['SUSPD_DATE'], errors='coerce')"
   ]
  },
  {
   "cell_type": "code",
   "execution_count": 118,
   "metadata": {},
   "outputs": [
    {
     "data": {
      "text/plain": [
       "count                           266566\n",
       "mean     2022-06-20 07:50:06.099802624\n",
       "min                2019-12-10 00:00:00\n",
       "25%                2022-03-02 00:00:00\n",
       "50%                2022-06-09 00:00:00\n",
       "75%                2022-09-12 00:00:00\n",
       "max                2026-12-01 00:00:00\n",
       "Name: SUSPD_DATE, dtype: object"
      ]
     },
     "execution_count": 118,
     "metadata": {},
     "output_type": "execute_result"
    }
   ],
   "source": [
    "df_termination['SUSPD_DATE'].describe(datetime_is_numeric=True)"
   ]
  },
  {
   "cell_type": "code",
   "execution_count": 119,
   "metadata": {},
   "outputs": [
    {
     "data": {
      "text/html": [
       "<div>\n",
       "<style scoped>\n",
       "    .dataframe tbody tr th:only-of-type {\n",
       "        vertical-align: middle;\n",
       "    }\n",
       "\n",
       "    .dataframe tbody tr th {\n",
       "        vertical-align: top;\n",
       "    }\n",
       "\n",
       "    .dataframe thead th {\n",
       "        text-align: right;\n",
       "    }\n",
       "</style>\n",
       "<table border=\"1\" class=\"dataframe\">\n",
       "  <thead>\n",
       "    <tr style=\"text-align: right;\">\n",
       "      <th></th>\n",
       "      <th>INDIVIDUAL_ID</th>\n",
       "      <th>ADDRESS_ID</th>\n",
       "      <th>CUST_ORIG_DATE</th>\n",
       "      <th>DATE_OF_BIRTH</th>\n",
       "      <th>SOCIAL_SECURITY_NUMBER</th>\n",
       "      <th>CUST_START_DATE</th>\n",
       "      <th>INCOME</th>\n",
       "      <th>HAS_CHILDREN</th>\n",
       "      <th>LENGTH_OF_RESIDENCE</th>\n",
       "      <th>HOME_MARKET_VALUE</th>\n",
       "      <th>...</th>\n",
       "      <th>COLLEGE_DEGREE</th>\n",
       "      <th>GOOD_CREDIT</th>\n",
       "      <th>ADVANCED_STUDIES</th>\n",
       "      <th>MARITAL_STATUS_Married</th>\n",
       "      <th>MARITAL_STATUS_Single</th>\n",
       "      <th>MARITAL_STATUS_Unknown</th>\n",
       "      <th>HOME_MARKET_VALUE_NUMERIC</th>\n",
       "      <th>ADVANCED_STUDIES_BINARY</th>\n",
       "      <th>AGE</th>\n",
       "      <th>CUSTOMER_VALUE_AVG</th>\n",
       "    </tr>\n",
       "  </thead>\n",
       "  <tbody>\n",
       "    <tr>\n",
       "      <th>0</th>\n",
       "      <td>221300017872</td>\n",
       "      <td>521300005982</td>\n",
       "      <td>2018-12-09</td>\n",
       "      <td>1978-06-23</td>\n",
       "      <td>608-XX-7640</td>\n",
       "      <td>2018-12-09</td>\n",
       "      <td>33750.0</td>\n",
       "      <td>2.0</td>\n",
       "      <td>15.0</td>\n",
       "      <td>50000 - 74999</td>\n",
       "      <td>...</td>\n",
       "      <td>1</td>\n",
       "      <td>1</td>\n",
       "      <td>N</td>\n",
       "      <td>1</td>\n",
       "      <td>0</td>\n",
       "      <td>0</td>\n",
       "      <td>62499.5</td>\n",
       "      <td>0</td>\n",
       "      <td>46</td>\n",
       "      <td>749.292438</td>\n",
       "    </tr>\n",
       "    <tr>\n",
       "      <th>1</th>\n",
       "      <td>221300134410</td>\n",
       "      <td>521300051115</td>\n",
       "      <td>2018-01-02</td>\n",
       "      <td>1950-05-30</td>\n",
       "      <td>342-XX-6908</td>\n",
       "      <td>2018-01-02</td>\n",
       "      <td>41250.0</td>\n",
       "      <td>0.0</td>\n",
       "      <td>2.0</td>\n",
       "      <td>50000 - 74999</td>\n",
       "      <td>...</td>\n",
       "      <td>0</td>\n",
       "      <td>0</td>\n",
       "      <td>N</td>\n",
       "      <td>0</td>\n",
       "      <td>1</td>\n",
       "      <td>0</td>\n",
       "      <td>62499.5</td>\n",
       "      <td>0</td>\n",
       "      <td>74</td>\n",
       "      <td>815.538987</td>\n",
       "    </tr>\n",
       "    <tr>\n",
       "      <th>2</th>\n",
       "      <td>221300673028</td>\n",
       "      <td>521300247929</td>\n",
       "      <td>2009-09-23</td>\n",
       "      <td>1967-07-07</td>\n",
       "      <td>240-XX-9224</td>\n",
       "      <td>2009-09-23</td>\n",
       "      <td>63750.0</td>\n",
       "      <td>0.0</td>\n",
       "      <td>10.0</td>\n",
       "      <td>75000 - 99999</td>\n",
       "      <td>...</td>\n",
       "      <td>0</td>\n",
       "      <td>0</td>\n",
       "      <td>N</td>\n",
       "      <td>1</td>\n",
       "      <td>0</td>\n",
       "      <td>0</td>\n",
       "      <td>87499.5</td>\n",
       "      <td>0</td>\n",
       "      <td>57</td>\n",
       "      <td>870.341474</td>\n",
       "    </tr>\n",
       "    <tr>\n",
       "      <th>3</th>\n",
       "      <td>221301573419</td>\n",
       "      <td>521300570147</td>\n",
       "      <td>2022-07-25</td>\n",
       "      <td>1969-05-25</td>\n",
       "      <td>775-XX-6249</td>\n",
       "      <td>2022-07-25</td>\n",
       "      <td>187500.0</td>\n",
       "      <td>2.0</td>\n",
       "      <td>6.0</td>\n",
       "      <td>175000 - 199999</td>\n",
       "      <td>...</td>\n",
       "      <td>0</td>\n",
       "      <td>1</td>\n",
       "      <td>N</td>\n",
       "      <td>1</td>\n",
       "      <td>0</td>\n",
       "      <td>0</td>\n",
       "      <td>187499.5</td>\n",
       "      <td>0</td>\n",
       "      <td>55</td>\n",
       "      <td>785.642350</td>\n",
       "    </tr>\n",
       "    <tr>\n",
       "      <th>4</th>\n",
       "      <td>221301622347</td>\n",
       "      <td>521300588399</td>\n",
       "      <td>2006-10-11</td>\n",
       "      <td>1972-09-25</td>\n",
       "      <td>629-XX-7298</td>\n",
       "      <td>2006-10-11</td>\n",
       "      <td>131250.0</td>\n",
       "      <td>1.0</td>\n",
       "      <td>4.0</td>\n",
       "      <td>225000 - 249999</td>\n",
       "      <td>...</td>\n",
       "      <td>1</td>\n",
       "      <td>1</td>\n",
       "      <td>Y</td>\n",
       "      <td>1</td>\n",
       "      <td>0</td>\n",
       "      <td>0</td>\n",
       "      <td>237499.5</td>\n",
       "      <td>1</td>\n",
       "      <td>52</td>\n",
       "      <td>807.830239</td>\n",
       "    </tr>\n",
       "  </tbody>\n",
       "</table>\n",
       "<p>5 rows × 21 columns</p>\n",
       "</div>"
      ],
      "text/plain": [
       "   INDIVIDUAL_ID    ADDRESS_ID CUST_ORIG_DATE DATE_OF_BIRTH  \\\n",
       "0   221300017872  521300005982     2018-12-09    1978-06-23   \n",
       "1   221300134410  521300051115     2018-01-02    1950-05-30   \n",
       "2   221300673028  521300247929     2009-09-23    1967-07-07   \n",
       "3   221301573419  521300570147     2022-07-25    1969-05-25   \n",
       "4   221301622347  521300588399     2006-10-11    1972-09-25   \n",
       "\n",
       "  SOCIAL_SECURITY_NUMBER CUST_START_DATE    INCOME  HAS_CHILDREN  \\\n",
       "0            608-XX-7640      2018-12-09   33750.0           2.0   \n",
       "1            342-XX-6908      2018-01-02   41250.0           0.0   \n",
       "2            240-XX-9224      2009-09-23   63750.0           0.0   \n",
       "3            775-XX-6249      2022-07-25  187500.0           2.0   \n",
       "4            629-XX-7298      2006-10-11  131250.0           1.0   \n",
       "\n",
       "   LENGTH_OF_RESIDENCE HOME_MARKET_VALUE  ...  COLLEGE_DEGREE  GOOD_CREDIT  \\\n",
       "0                 15.0     50000 - 74999  ...               1            1   \n",
       "1                  2.0     50000 - 74999  ...               0            0   \n",
       "2                 10.0     75000 - 99999  ...               0            0   \n",
       "3                  6.0   175000 - 199999  ...               0            1   \n",
       "4                  4.0   225000 - 249999  ...               1            1   \n",
       "\n",
       "   ADVANCED_STUDIES MARITAL_STATUS_Married  MARITAL_STATUS_Single  \\\n",
       "0                 N                      1                      0   \n",
       "1                 N                      0                      1   \n",
       "2                 N                      1                      0   \n",
       "3                 N                      1                      0   \n",
       "4                 Y                      1                      0   \n",
       "\n",
       "   MARITAL_STATUS_Unknown  HOME_MARKET_VALUE_NUMERIC  ADVANCED_STUDIES_BINARY  \\\n",
       "0                       0                    62499.5                        0   \n",
       "1                       0                    62499.5                        0   \n",
       "2                       0                    87499.5                        0   \n",
       "3                       0                   187499.5                        0   \n",
       "4                       0                   237499.5                        1   \n",
       "\n",
       "   AGE  CUSTOMER_VALUE_AVG  \n",
       "0   46          749.292438  \n",
       "1   74          815.538987  \n",
       "2   57          870.341474  \n",
       "3   55          785.642350  \n",
       "4   52          807.830239  \n",
       "\n",
       "[5 rows x 21 columns]"
      ]
     },
     "execution_count": 119,
     "metadata": {},
     "output_type": "execute_result"
    }
   ],
   "source": [
    "df_model.head()"
   ]
  },
  {
   "cell_type": "code",
   "execution_count": 120,
   "metadata": {},
   "outputs": [
    {
     "name": "stdout",
     "output_type": "stream",
     "text": [
      "Best RMSE: 145.39877231191932\n",
      "Best number of features: 11\n",
      "Best features: ['ADVANCED_STUDIES_BINARY', 'INCOME', 'HAS_CHILDREN', 'LENGTH_OF_RESIDENCE', 'HOME_OWNER', 'GOOD_CREDIT', 'AGE', 'MARITAL_STATUS_Married', 'MARITAL_STATUS_Single', 'MARITAL_STATUS_Unknown', 'HOME_MARKET_VALUE_NUMERIC']\n",
      "Adjusted R^2 for best model: 0.04491868393463616\n"
     ]
    }
   ],
   "source": [
    "X = df_model[['ADVANCED_STUDIES_BINARY', 'INCOME', 'HAS_CHILDREN', 'LENGTH_OF_RESIDENCE', 'HOME_OWNER', 'GOOD_CREDIT', 'AGE', 'MARITAL_STATUS_Married', 'MARITAL_STATUS_Single', 'MARITAL_STATUS_Unknown', 'HOME_MARKET_VALUE_NUMERIC']]\n",
    "y = df_model['CUSTOMER_VALUE_AVG']\n",
    "\n",
    "# Scaling the features\n",
    "scaler = StandardScaler()\n",
    "X_scaled = scaler.fit_transform(X)\n",
    "\n",
    "# Split the data into training and test sets\n",
    "X_train_scaled, X_test_scaled, y_train, y_test = train_test_split(X_scaled, y, test_size=0.2, random_state=42)\n",
    "\n",
    "best_rmse = np.inf\n",
    "best_n_features = 0\n",
    "best_features_indices = []\n",
    "\n",
    "# Loop through different numbers of features to select with RFE\n",
    "for n_features_to_select in range(1, X_train_scaled.shape[1] + 1):\n",
    "    model = LinearRegression()\n",
    "    rfe = RFE(estimator=model, n_features_to_select=n_features_to_select)\n",
    "    \n",
    "    # Fit RFE and transform the data\n",
    "    X_train_rfe = rfe.fit_transform(X_train_scaled, y_train)\n",
    "    X_test_rfe = rfe.transform(X_test_scaled)\n",
    "    \n",
    "    # Fit the model on the reduced training data\n",
    "    model.fit(X_train_rfe, y_train)\n",
    "    \n",
    "    # Predict on the reduced test data\n",
    "    y_pred = model.predict(X_test_rfe)\n",
    "    \n",
    "    # Calculate RMSE for the current model\n",
    "    rmse = np.sqrt(mean_squared_error(y_test, y_pred))\n",
    "    \n",
    "    # Update the best model if the current model is better\n",
    "    if rmse < best_rmse:\n",
    "        best_rmse = rmse\n",
    "        best_n_features = n_features_to_select\n",
    "        best_features_indices = np.where(rfe.support_)[0]  # Save indices of selected features\n",
    "\n",
    "# Correct use of the support_ attribute with the best RFE model\n",
    "# Ensure to use the best_features_indices to select the right features from X_test_scaled for the final model evaluation\n",
    "model = LinearRegression().fit(X_train_scaled[:, best_features_indices], y_train)  # Refit using best features\n",
    "r2_best = r2_score(y_test, model.predict(X_test_scaled[:, best_features_indices]))\n",
    "adjusted_r2_best = 1 - (1 - r2_best) * (len(y_test) - 1) / (len(y_test) - best_n_features - 1)\n",
    "\n",
    "# Display the results\n",
    "print(f'Best RMSE: {best_rmse}')\n",
    "print(f'Best number of features: {best_n_features}')\n",
    "print('Best features:', X.columns[best_features_indices].tolist())\n",
    "print(f'Adjusted R^2 for best model: {adjusted_r2_best}')\n"
   ]
  },
  {
   "cell_type": "markdown",
   "metadata": {},
   "source": [
    "In this analysis, a Linear Regression model served as the initial baseline to evaluate the relationship between a set of predictors and the target variable within a large dataset. Given the potential for feature redundancy and irrelevance, Recursive Feature Elimination (RFE) was implemented to systematically identify the subset of features that contribute most significantly to model performance. This method aligns with the objective to enhance model accuracy while mitigating computational complexity.\n",
    "\n",
    "The dataset's size warranted a methodological adjustment; specifically, a train-test split was employed in lieu of cross-validation to expedite the evaluation process. This decision was informed by the computational cost associated with cross-validation's multiple iterations over a large dataset.\n",
    "\n",
    "Performance metrics selected for this analysis included RMSE (Root Mean Squared Error) and adjusted R^2 chosen for their relevance to regression analysis. RMSE provides a scale-sensitive measure of prediction accuracy, while adjusted R^2 offers a correction for the number of predictors in the model, thus allowing for more accurate comparisons across models with varying numbers of features.\n",
    "\n",
    "The R^2 score indicates a weak predictive power of our model concerning customer value, highlighting a significant gap in our model's ability to capture the complexity and variance within our dataset."
   ]
  },
  {
   "cell_type": "markdown",
   "metadata": {},
   "source": [
    "#### Q2.2 Build a second model to estimate the costumer value based on their characteristics and compare model performance."
   ]
  },
  {
   "cell_type": "code",
   "execution_count": 121,
   "metadata": {},
   "outputs": [
    {
     "name": "stdout",
     "output_type": "stream",
     "text": [
      "Test MSE: 21316.93361604837\n",
      "Test RMSE: 146.00319728022524\n",
      "Adjusted R^2: 0.03666375542459943\n"
     ]
    }
   ],
   "source": [
    "X = df_model[['INCOME', 'HAS_CHILDREN', 'LENGTH_OF_RESIDENCE', 'HOME_OWNER', 'GOOD_CREDIT', 'AGE', 'MARITAL_STATUS_Married', 'MARITAL_STATUS_Single', 'MARITAL_STATUS_Unknown', 'HOME_MARKET_VALUE_NUMERIC']]\n",
    "y = df_model['CUSTOMER_VALUE_AVG']\n",
    "\n",
    "# Initialize the linear model and RFE\n",
    "model = LinearRegression()\n",
    "rfe = RFE(estimator=model, n_features_to_select=7) \n",
    "\n",
    "# Fit RFE and transform the features\n",
    "X_reduced = rfe.fit_transform(X, y)\n",
    "\n",
    "# Create polynomial features\n",
    "poly = PolynomialFeatures(degree=3)\n",
    "X_poly_transformed = poly.fit_transform(X_reduced)\n",
    "\n",
    "# Split the data\n",
    "X_train, X_test, y_train, y_test = train_test_split(X_poly_transformed, y, test_size=0.2, random_state=42)\n",
    "\n",
    "# Fit the model\n",
    "model_poly = LinearRegression()\n",
    "model_poly.fit(X_train, y_train)\n",
    "\n",
    "# Predict and evaluate\n",
    "y_pred = model_poly.predict(X_test)\n",
    "mse = mean_squared_error(y_test, y_pred)\n",
    "rmse = np.sqrt(mse)\n",
    "r2 = r2_score(y_test, y_pred)\n",
    "\n",
    "# Calculate adjusted R^2\n",
    "n = len(y_test)  # Number of observations in the test set\n",
    "p = X_train.shape[1]  # Number of predictors\n",
    "adjusted_r2 = 1 - (1 - r2) * (n - 1) / (n - p - 1)\n",
    "\n",
    "# Print the results\n",
    "print(f'Test MSE: {mse}')\n",
    "print(f'Test RMSE: {rmse}')\n",
    "print(f'Adjusted R^2: {adjusted_r2}')"
   ]
  },
  {
   "cell_type": "markdown",
   "metadata": {},
   "source": [
    "Given the results of the first model with a Best RMSE of 145.34, an Adjusted R^2 of 0.0425, and the selection of all 11 features, compared to the second, more complex model with a slightly higher Test RMSE of 145.95 and a lower Adjusted R^2 of 0.035, it appears that the increase in model complexity did not yield a significant improvement in predictive performance. In fact, the slight decrease in Adjusted R^2 and the marginal increase in RMSE suggest a slight degradation.\n",
    "\n",
    "The choice to select fewer features (7 instead of 11) in the second model through RFE, followed by the application of polynomial transformations, aimed to enhance model performance by capturing more complex relationships within the data. However, the results indicate that the reduction in feature space did not lead to better model accuracy or an improved ability to explain the variance in the target variable. This outcome could imply that the eliminated features, despite their perceived redundancy or lesser importance through RFE, might hold some explanatory value that was lost in the process. Alternatively, the polynomial expansion of the reduced feature set might not have captured meaningful interactions or non-linear relationships beneficial for the model's predictive accuracy."
   ]
  },
  {
   "cell_type": "markdown",
   "metadata": {},
   "source": [
    "#### Q2.3 Based on the analysis, suggest a model to the head of marketing and an application scenario. Please justify your decisions."
   ]
  },
  {
   "cell_type": "markdown",
   "metadata": {},
   "source": [
    "Based on the analysis conducted and the results obtained from both the baseline and the more complex models, it appears that the predictive power of the models, as indicated by the RMSE and adjusted R^2 values, does not significantly enhance our understanding or prediction of the target variable, customer value average. Despite employing sophisticated techniques such as Recursive Feature Elimination (RFE) and polynomial feature transformation to capture non-linear relationships and reduce feature redundancy, the incremental improvements in model performance were marginal. This outcome suggests that the current dataset might not contain sufficient or relevant information to significantly predict customer value with high accuracy. Therefore, before recommending a predictive model for deployment, it would be prudent to reassess the available data. Improving data collection processes to include more informative variables or refining existing features could lead to more significant insights and better predictive performance in future modeling efforts.\n",
    "\n",
    "In light of these findings, I would advise the head of marketing to consider postponing the deployment of a predictive model for customer value prediction until better data can be collected or until additional data sources are integrated into the analysis. The current models do not offer a substantial improvement over simple heuristics or baseline predictions, making them less useful for strategic marketing decisions or for the allocation of marketing resources. Instead, the focus should shift towards enhancing the quality and breadth of data related to customer interactions, behaviors, and preferences. By gathering more comprehensive and relevant data, future models may be able to uncover deeper insights into customer value, leading to more effective and targeted marketing strategies. This approach not only aligns with best practices in data science but also ensures that the marketing department relies on robust and meaningful analytics to drive its initiatives."
   ]
  },
  {
   "cell_type": "markdown",
   "metadata": {},
   "source": [
    "## Churn Analysis and Prevention Strategy \n",
    "\n",
    "#### Background: Customer retention is a significant concern for ABC Insurance. The df_termination dataset indicates customers who have recently suspended their policies, providing a basis for analyzing churn."
   ]
  },
  {
   "cell_type": "markdown",
   "metadata": {},
   "source": [
    "#### Q3.1 Build a baseline model to predict customers that will churn. "
   ]
  },
  {
   "cell_type": "code",
   "execution_count": 122,
   "metadata": {},
   "outputs": [],
   "source": [
    "# MERGING THE DATAFRAMES IN ORDER TO CREATE THE CHURN MODEL "
   ]
  },
  {
   "cell_type": "code",
   "execution_count": 123,
   "metadata": {},
   "outputs": [
    {
     "data": {
      "text/html": [
       "<div>\n",
       "<style scoped>\n",
       "    .dataframe tbody tr th:only-of-type {\n",
       "        vertical-align: middle;\n",
       "    }\n",
       "\n",
       "    .dataframe tbody tr th {\n",
       "        vertical-align: top;\n",
       "    }\n",
       "\n",
       "    .dataframe thead th {\n",
       "        text-align: right;\n",
       "    }\n",
       "</style>\n",
       "<table border=\"1\" class=\"dataframe\">\n",
       "  <thead>\n",
       "    <tr style=\"text-align: right;\">\n",
       "      <th></th>\n",
       "      <th>INDIVIDUAL_ID</th>\n",
       "      <th>ADDRESS_ID</th>\n",
       "      <th>CUST_ORIG_DATE</th>\n",
       "      <th>DATE_OF_BIRTH</th>\n",
       "      <th>SOCIAL_SECURITY_NUMBER</th>\n",
       "      <th>CUST_START_DATE</th>\n",
       "      <th>CURR_ANN_AMT_CAR</th>\n",
       "      <th>CURR_ANN_AMT_HEALTH</th>\n",
       "      <th>CURR_ANN_AMT_HOUSE</th>\n",
       "      <th>INCOME</th>\n",
       "      <th>...</th>\n",
       "      <th>ADVANCED_STUDIES</th>\n",
       "      <th>MARITAL_STATUS_Married</th>\n",
       "      <th>MARITAL_STATUS_Single</th>\n",
       "      <th>MARITAL_STATUS_Unknown</th>\n",
       "      <th>HOME_MARKET_VALUE_NUMERIC</th>\n",
       "      <th>ADVANCED_STUDIES_BINARY</th>\n",
       "      <th>AGE</th>\n",
       "      <th>SUSPD_DATE</th>\n",
       "      <th>DAYS_TO_CHURN</th>\n",
       "      <th>CHURN_INDICATOR</th>\n",
       "    </tr>\n",
       "  </thead>\n",
       "  <tbody>\n",
       "    <tr>\n",
       "      <th>0</th>\n",
       "      <td>221300017872</td>\n",
       "      <td>521300005982</td>\n",
       "      <td>2018-12-09</td>\n",
       "      <td>1978-06-23</td>\n",
       "      <td>608-XX-7640</td>\n",
       "      <td>2018-12-09</td>\n",
       "      <td>1318.877997</td>\n",
       "      <td>517.999317</td>\n",
       "      <td>411</td>\n",
       "      <td>33750.0</td>\n",
       "      <td>...</td>\n",
       "      <td>N</td>\n",
       "      <td>1</td>\n",
       "      <td>0</td>\n",
       "      <td>0</td>\n",
       "      <td>62499.5</td>\n",
       "      <td>0</td>\n",
       "      <td>46</td>\n",
       "      <td>NaT</td>\n",
       "      <td>NaN</td>\n",
       "      <td>NaN</td>\n",
       "    </tr>\n",
       "    <tr>\n",
       "      <th>1</th>\n",
       "      <td>221300134410</td>\n",
       "      <td>521300051115</td>\n",
       "      <td>2018-01-02</td>\n",
       "      <td>1950-05-30</td>\n",
       "      <td>342-XX-6908</td>\n",
       "      <td>2018-01-02</td>\n",
       "      <td>1474.199182</td>\n",
       "      <td>558.417779</td>\n",
       "      <td>414</td>\n",
       "      <td>41250.0</td>\n",
       "      <td>...</td>\n",
       "      <td>N</td>\n",
       "      <td>0</td>\n",
       "      <td>1</td>\n",
       "      <td>0</td>\n",
       "      <td>62499.5</td>\n",
       "      <td>0</td>\n",
       "      <td>74</td>\n",
       "      <td>NaT</td>\n",
       "      <td>NaN</td>\n",
       "      <td>NaN</td>\n",
       "    </tr>\n",
       "    <tr>\n",
       "      <th>2</th>\n",
       "      <td>221300673028</td>\n",
       "      <td>521300247929</td>\n",
       "      <td>2009-09-23</td>\n",
       "      <td>1967-07-07</td>\n",
       "      <td>240-XX-9224</td>\n",
       "      <td>2009-09-23</td>\n",
       "      <td>1467.375112</td>\n",
       "      <td>701.649310</td>\n",
       "      <td>442</td>\n",
       "      <td>63750.0</td>\n",
       "      <td>...</td>\n",
       "      <td>N</td>\n",
       "      <td>1</td>\n",
       "      <td>0</td>\n",
       "      <td>0</td>\n",
       "      <td>87499.5</td>\n",
       "      <td>0</td>\n",
       "      <td>57</td>\n",
       "      <td>NaT</td>\n",
       "      <td>NaN</td>\n",
       "      <td>NaN</td>\n",
       "    </tr>\n",
       "    <tr>\n",
       "      <th>3</th>\n",
       "      <td>221301573419</td>\n",
       "      <td>521300570147</td>\n",
       "      <td>2022-07-25</td>\n",
       "      <td>1969-05-25</td>\n",
       "      <td>775-XX-6249</td>\n",
       "      <td>2022-07-25</td>\n",
       "      <td>1492.409561</td>\n",
       "      <td>401.517490</td>\n",
       "      <td>463</td>\n",
       "      <td>187500.0</td>\n",
       "      <td>...</td>\n",
       "      <td>N</td>\n",
       "      <td>1</td>\n",
       "      <td>0</td>\n",
       "      <td>0</td>\n",
       "      <td>187499.5</td>\n",
       "      <td>0</td>\n",
       "      <td>55</td>\n",
       "      <td>2021-12-22</td>\n",
       "      <td>-934.0</td>\n",
       "      <td>1.0</td>\n",
       "    </tr>\n",
       "    <tr>\n",
       "      <th>4</th>\n",
       "      <td>221301622347</td>\n",
       "      <td>521300588399</td>\n",
       "      <td>2006-10-11</td>\n",
       "      <td>1972-09-25</td>\n",
       "      <td>629-XX-7298</td>\n",
       "      <td>2006-10-11</td>\n",
       "      <td>1284.633494</td>\n",
       "      <td>772.857222</td>\n",
       "      <td>366</td>\n",
       "      <td>131250.0</td>\n",
       "      <td>...</td>\n",
       "      <td>Y</td>\n",
       "      <td>1</td>\n",
       "      <td>0</td>\n",
       "      <td>0</td>\n",
       "      <td>237499.5</td>\n",
       "      <td>1</td>\n",
       "      <td>52</td>\n",
       "      <td>NaT</td>\n",
       "      <td>NaN</td>\n",
       "      <td>NaN</td>\n",
       "    </tr>\n",
       "  </tbody>\n",
       "</table>\n",
       "<p>5 rows × 26 columns</p>\n",
       "</div>"
      ],
      "text/plain": [
       "   INDIVIDUAL_ID    ADDRESS_ID CUST_ORIG_DATE DATE_OF_BIRTH  \\\n",
       "0   221300017872  521300005982     2018-12-09    1978-06-23   \n",
       "1   221300134410  521300051115     2018-01-02    1950-05-30   \n",
       "2   221300673028  521300247929     2009-09-23    1967-07-07   \n",
       "3   221301573419  521300570147     2022-07-25    1969-05-25   \n",
       "4   221301622347  521300588399     2006-10-11    1972-09-25   \n",
       "\n",
       "  SOCIAL_SECURITY_NUMBER CUST_START_DATE  CURR_ANN_AMT_CAR  \\\n",
       "0            608-XX-7640      2018-12-09       1318.877997   \n",
       "1            342-XX-6908      2018-01-02       1474.199182   \n",
       "2            240-XX-9224      2009-09-23       1467.375112   \n",
       "3            775-XX-6249      2022-07-25       1492.409561   \n",
       "4            629-XX-7298      2006-10-11       1284.633494   \n",
       "\n",
       "   CURR_ANN_AMT_HEALTH  CURR_ANN_AMT_HOUSE    INCOME  ...  ADVANCED_STUDIES  \\\n",
       "0           517.999317                 411   33750.0  ...                 N   \n",
       "1           558.417779                 414   41250.0  ...                 N   \n",
       "2           701.649310                 442   63750.0  ...                 N   \n",
       "3           401.517490                 463  187500.0  ...                 N   \n",
       "4           772.857222                 366  131250.0  ...                 Y   \n",
       "\n",
       "   MARITAL_STATUS_Married MARITAL_STATUS_Single  MARITAL_STATUS_Unknown  \\\n",
       "0                       1                     0                       0   \n",
       "1                       0                     1                       0   \n",
       "2                       1                     0                       0   \n",
       "3                       1                     0                       0   \n",
       "4                       1                     0                       0   \n",
       "\n",
       "   HOME_MARKET_VALUE_NUMERIC  ADVANCED_STUDIES_BINARY AGE  SUSPD_DATE  \\\n",
       "0                    62499.5                        0  46         NaT   \n",
       "1                    62499.5                        0  74         NaT   \n",
       "2                    87499.5                        0  57         NaT   \n",
       "3                   187499.5                        0  55  2021-12-22   \n",
       "4                   237499.5                        1  52         NaT   \n",
       "\n",
       "   DAYS_TO_CHURN  CHURN_INDICATOR  \n",
       "0            NaN              NaN  \n",
       "1            NaN              NaN  \n",
       "2            NaN              NaN  \n",
       "3         -934.0              1.0  \n",
       "4            NaN              NaN  \n",
       "\n",
       "[5 rows x 26 columns]"
      ]
     },
     "execution_count": 123,
     "metadata": {},
     "output_type": "execute_result"
    }
   ],
   "source": [
    "#merge df and df_termination on the INDIVIDUAL_ID column preserving all the records in df\n",
    "df = pd.merge(df, df_termination, on='INDIVIDUAL_ID', how='left')\n",
    "\n",
    "df.head()"
   ]
  },
  {
   "cell_type": "code",
   "execution_count": 124,
   "metadata": {},
   "outputs": [
    {
     "data": {
      "text/plain": [
       "(1762763, 26)"
      ]
     },
     "execution_count": 124,
     "metadata": {},
     "output_type": "execute_result"
    }
   ],
   "source": [
    "df.shape   "
   ]
  },
  {
   "cell_type": "code",
   "execution_count": 125,
   "metadata": {},
   "outputs": [],
   "source": [
    "#let's fill with 0 the missing values in the CHURN_INDICATOR column\n",
    "df['CHURN_INDICATOR'] = df['CHURN_INDICATOR'].fillna(0)"
   ]
  },
  {
   "cell_type": "code",
   "execution_count": 126,
   "metadata": {},
   "outputs": [],
   "source": [
    "#add the feature days since the customer started the policy\n",
    "df['DAYS_SINCE_POLICY_START'] = (datetime.now() - df['CUST_START_DATE']).dt.days"
   ]
  },
  {
   "cell_type": "code",
   "execution_count": 127,
   "metadata": {},
   "outputs": [
    {
     "name": "stderr",
     "output_type": "stream",
     "text": [
      "/var/folders/51/kvxxh0pn2p9g4w8qy0z706n40000gn/T/ipykernel_75808/846638869.py:2: FutureWarning: The default value of numeric_only in DataFrame.corr is deprecated. In a future version, it will default to False. Select only valid columns or specify the value of numeric_only to silence this warning.\n",
      "  correlation_matrix = df.corr().abs()\n"
     ]
    },
    {
     "data": {
      "text/plain": [
       "CHURN_INDICATOR              1.000000\n",
       "DAYS_SINCE_POLICY_START      0.204955\n",
       "AGE                          0.052658\n",
       "LENGTH_OF_RESIDENCE          0.033047\n",
       "CURR_ANN_AMT_CAR             0.021413\n",
       "CURR_ANN_AMT_HOUSE           0.020738\n",
       "COLLEGE_DEGREE               0.019712\n",
       "MARITAL_STATUS_Unknown       0.015389\n",
       "HOME_OWNER                   0.014108\n",
       "HAS_CHILDREN                 0.011497\n",
       "CURR_ANN_AMT_HEALTH          0.011367\n",
       "MARITAL_STATUS_Married       0.010992\n",
       "GOOD_CREDIT                  0.007404\n",
       "INCOME                       0.005982\n",
       "ADDRESS_ID                   0.003041\n",
       "INDIVIDUAL_ID                0.002596\n",
       "ADVANCED_STUDIES_BINARY      0.002399\n",
       "MARITAL_STATUS_Single        0.000727\n",
       "HOME_MARKET_VALUE_NUMERIC    0.000302\n",
       "DAYS_TO_CHURN                     NaN\n",
       "Name: CHURN_INDICATOR, dtype: float64"
      ]
     },
     "execution_count": 127,
     "metadata": {},
     "output_type": "execute_result"
    }
   ],
   "source": [
    "#see the correlation of the churn indicator with the other columns\n",
    "correlation_matrix = df.corr().abs()\n",
    "correlation_matrix['CHURN_INDICATOR'].sort_values(ascending=False)"
   ]
  },
  {
   "cell_type": "code",
   "execution_count": 128,
   "metadata": {},
   "outputs": [],
   "source": [
    "#BASELINE MODEL"
   ]
  },
  {
   "cell_type": "code",
   "execution_count": 129,
   "metadata": {},
   "outputs": [],
   "source": [
    "from sklearn.model_selection import train_test_split\n",
    "from sklearn.linear_model import LogisticRegression\n",
    "from sklearn.metrics import classification_report, confusion_matrix, roc_auc_score\n",
    "from sklearn.preprocessing import StandardScaler\n",
    "from sklearn.feature_selection import RFECV\n",
    "from sklearn.model_selection import StratifiedKFold\n",
    "from sklearn.metrics import roc_curve, auc\n",
    "import matplotlib.pyplot as plt"
   ]
  },
  {
   "cell_type": "code",
   "execution_count": 130,
   "metadata": {},
   "outputs": [
    {
     "name": "stdout",
     "output_type": "stream",
     "text": [
      "Selected features by RFE: ['DAYS_SINCE_POLICY_START', 'CURR_ANN_AMT_CAR', 'MARITAL_STATUS_Unknown', 'HAS_CHILDREN']\n",
      "[[312151      0]\n",
      " [ 40402      0]]\n"
     ]
    },
    {
     "name": "stderr",
     "output_type": "stream",
     "text": [
      "/Users/fabriziorigodanzo/anaconda3/lib/python3.11/site-packages/sklearn/metrics/_classification.py:1344: UndefinedMetricWarning: Precision and F-score are ill-defined and being set to 0.0 in labels with no predicted samples. Use `zero_division` parameter to control this behavior.\n",
      "  _warn_prf(average, modifier, msg_start, len(result))\n",
      "/Users/fabriziorigodanzo/anaconda3/lib/python3.11/site-packages/sklearn/metrics/_classification.py:1344: UndefinedMetricWarning: Precision and F-score are ill-defined and being set to 0.0 in labels with no predicted samples. Use `zero_division` parameter to control this behavior.\n",
      "  _warn_prf(average, modifier, msg_start, len(result))\n"
     ]
    },
    {
     "name": "stdout",
     "output_type": "stream",
     "text": [
      "              precision    recall  f1-score   support\n",
      "\n",
      "         0.0       0.89      1.00      0.94    312151\n",
      "         1.0       0.00      0.00      0.00     40402\n",
      "\n",
      "    accuracy                           0.89    352553\n",
      "   macro avg       0.44      0.50      0.47    352553\n",
      "weighted avg       0.78      0.89      0.83    352553\n",
      "\n",
      "ROC-AUC Score: 0.6890773625588543\n"
     ]
    },
    {
     "name": "stderr",
     "output_type": "stream",
     "text": [
      "/Users/fabriziorigodanzo/anaconda3/lib/python3.11/site-packages/sklearn/metrics/_classification.py:1344: UndefinedMetricWarning: Precision and F-score are ill-defined and being set to 0.0 in labels with no predicted samples. Use `zero_division` parameter to control this behavior.\n",
      "  _warn_prf(average, modifier, msg_start, len(result))\n"
     ]
    }
   ],
   "source": [
    "# Define features and target variable\n",
    "X = df[['DAYS_SINCE_POLICY_START', 'CURR_ANN_AMT_CAR', 'CURR_ANN_AMT_HOUSE', 'MARITAL_STATUS_Unknown', 'HAS_CHILDREN', 'CURR_ANN_AMT_HEALTH', 'ADVANCED_STUDIES_BINARY']]\n",
    "y = df['CHURN_INDICATOR']\n",
    "\n",
    "# Splitting the dataset into training and testing sets\n",
    "X_train, X_test, y_train, y_test = train_test_split(X, y, test_size=0.2, random_state=42)\n",
    "\n",
    "# Feature scaling\n",
    "scaler = StandardScaler()\n",
    "X_train_scaled = scaler.fit_transform(X_train)\n",
    "X_test_scaled = scaler.transform(X_test)\n",
    "\n",
    "# Initialize the RFE with Logistic Regression as the estimator\n",
    "rfe = RFECV(estimator=LogisticRegression(), step=1, cv=StratifiedKFold(5), scoring='accuracy', min_features_to_select=4)\n",
    "\n",
    "# Fit RFE on the training data\n",
    "rfe.fit(X_train_scaled, y_train)\n",
    "\n",
    "# Print out the selected features\n",
    "selected_features = [feature for feature, selected in zip(X.columns, rfe.support_) if selected]\n",
    "print(\"Selected features by RFE:\", selected_features)\n",
    "\n",
    "# Transform features according to the RFE\n",
    "X_train_rfe = rfe.transform(X_train_scaled)\n",
    "X_test_rfe = rfe.transform(X_test_scaled)\n",
    "\n",
    "# Refit the model using only the selected features\n",
    "model = LogisticRegression()\n",
    "model.fit(X_train_rfe, y_train)\n",
    "\n",
    "# Predictions and probabilities for ROC curve\n",
    "y_pred_rfe = model.predict(X_test_rfe)\n",
    "y_pred_proba_rfe = model.predict_proba(X_test_rfe)[:, 1]\n",
    "\n",
    "# Model evaluation with the selected features\n",
    "print(confusion_matrix(y_test, y_pred_rfe))\n",
    "print(classification_report(y_test, y_pred_rfe))\n",
    "print(\"ROC-AUC Score:\", roc_auc_score(y_test, y_pred_proba_rfe))\n"
   ]
  },
  {
   "cell_type": "markdown",
   "metadata": {},
   "source": [
    "**Confusion matrix**\n",
    "- True Negatives (TN): 312202 - The model predicted 'no churn' correctly for this many instances.\n",
    "- True Positives (TP): 0 - The model did not correctly predict 'churn' for any instances.\n",
    "- False Negatives (FN): 40316 - The model incorrectly predicted 'no churn' for these many customers who actually did churn.\n",
    "- False Positives (FP): 0 - The model did not predict 'churn' incorrectly for any non-churning customers (since it predicted 'churn' for none).\n",
    "\n",
    "**Classification Report**\n",
    "\n",
    "- Precision for class 1 is 0: Precision is the ratio of correctly predicted positive observations to the total predicted positive observations. The model did not predict any churn correctly (no TP), hence the precision is 0.\n",
    "- Recall for class 1 is 0: Recall (or Sensitivity or True Positive Rate) is the ratio of correctly predicted positive observations to all observations in the actual class. The model did not correctly predict any actual churn cases (no TP), so recall is 0.\n",
    "- F1-score for class 1 is 0: The F1-score is the weighted average of Precision and Recall. Since both precision and recall are 0, the F1-score is also 0.\n",
    "- Accuracy is 0.88: While this may seem high, it is deceptive because the model has a high True Negative rate due to the imbalance in the dataset. It fails to predict any churn cases correctly, which is the actual objective.\n",
    "- Macro avg: It is the average precision, recall, and F1-score between classes. The model has a macro average of 0.44 for precision, 0.50 for recall, and 0.47 for F1-score, which are not good in a practical sense since they are heavily influenced by the inability to predict churn.\n",
    "- Weighted avg: It is the weighted average precision, recall, and F1-score, with weight being the support (the number of true instances for each class). This average considers class imbalance. The weighted averages are higher, reflecting the overrepresentation of the majority class (non-churn).\n",
    "- ROC-AUC Score: 0.6916\n",
    "\n",
    "The ROC-AUC score is a performance measurement for classification problems at various threshold settings. An AUC score of 1 represents a perfect model, while a score of 0.5 represents a model that performs no better than random guessing. Our model has an AUC score of approximately 0.692, which suggests it has modest discriminative ability to distinguish between the churned and non-churned customers."
   ]
  },
  {
   "cell_type": "markdown",
   "metadata": {},
   "source": [
    "#### Q3.2 Build a second model and compare the model performance.\n",
    "\n",
    "I decided to create a smaller balanced dataset through sampling in order to help the Random Forest model train more effectively. This strategy, known as downsampling, can make the training process faster and more manageable."
   ]
  },
  {
   "cell_type": "code",
   "execution_count": 131,
   "metadata": {},
   "outputs": [
    {
     "data": {
      "text/plain": [
       "0.0    202155\n",
       "1.0    202155\n",
       "Name: CHURN_INDICATOR, dtype: int64"
      ]
     },
     "execution_count": 131,
     "metadata": {},
     "output_type": "execute_result"
    }
   ],
   "source": [
    "from sklearn.utils import resample\n",
    "\n",
    "# Separate the minority and majority classes\n",
    "df_majority = df[df.CHURN_INDICATOR==0]\n",
    "df_minority = df[df.CHURN_INDICATOR==1]\n",
    "\n",
    "# Downsample the majority class\n",
    "df_majority_downsampled = resample(df_majority, \n",
    "                                 replace=False,    # sample without replacement\n",
    "                                 n_samples=len(df_minority),  \n",
    "                                 random_state=123) # reproducible results\n",
    "\n",
    "# Combine minority class with downsampled majority class\n",
    "df_downsampled = pd.concat([df_majority_downsampled, df_minority])\n",
    "\n",
    "# Display new class counts\n",
    "df_downsampled.CHURN_INDICATOR.value_counts()"
   ]
  },
  {
   "cell_type": "code",
   "execution_count": 132,
   "metadata": {},
   "outputs": [],
   "source": [
    "from sklearn.model_selection import train_test_split\n",
    "from sklearn.ensemble import RandomForestClassifier\n",
    "from sklearn.metrics import classification_report, confusion_matrix, roc_auc_score, roc_curve, auc\n",
    "import matplotlib.pyplot as plt\n",
    "\n",
    "# Define features and target variable from the downsampled dataset\n",
    "X_downsampled = df_downsampled[['DAYS_SINCE_POLICY_START', 'CURR_ANN_AMT_CAR', 'HAS_CHILDREN']]\n",
    "y_downsampled = df_downsampled['CHURN_INDICATOR']\n",
    "\n",
    "# Splitting the downsampled dataset into training and testing sets\n",
    "X_train_downsampled, X_test_downsampled, y_train_downsampled, y_test_downsampled = train_test_split(X_downsampled, y_downsampled, test_size=0.2, random_state=42)\n",
    "\n",
    "# Initialize Random Forest classifier with a reasonable number of trees\n",
    "rf_model_downsampled = RandomForestClassifier(n_estimators=100, random_state=42)\n",
    "\n",
    "# Fit the model on the downsampled training set\n",
    "rf_model_downsampled.fit(X_train_downsampled, y_train_downsampled)\n",
    "\n",
    "# Predictions\n",
    "y_pred_downsampled = rf_model_downsampled.predict(X_test_downsampled)\n",
    "y_pred_proba_downsampled = rf_model_downsampled.predict_proba(X_test_downsampled)[:, 1]\n",
    "\n",
    "# Model evaluation\n",
    "cm = confusion_matrix(y_test_downsampled, y_pred_downsampled)\n",
    "cr = classification_report(y_test_downsampled, y_pred_downsampled)\n",
    "roc_auc = roc_auc_score(y_test_downsampled, y_pred_proba_downsampled)\n",
    "\n",
    "# ROC Curve\n",
    "fpr, tpr, thresholds = roc_curve(y_test_downsampled, y_pred_proba_downsampled)\n",
    "roc_auc = auc(fpr, tpr)\n",
    "\n",
    "# Display the results\n",
    "print(\"Confusion Matrix:\")\n",
    "print(cm)\n",
    "print(\"\\nClassification Report:\")\n",
    "print(cr)\n",
    "print(\"\\nROC-AUC Score:\", roc_auc)"
   ]
  },
  {
   "cell_type": "markdown",
   "metadata": {},
   "source": [
    "#### Comparison of model performance\n",
    "To address the challenge of customer retention and improve model performance while managing computational demands, a second predictive model was developed using a Random Forest classifier applied to a balanced dataset achieved through downsampling. This strategy was adopted to ensure a fair representation of both churned and non-churned customers, enhancing the model's ability to learn from the data. The results showed a more balanced performance in correctly identifying churned and non-churned customers, with precision, recall, and F1-scores ranging around 0.61 to 0.62 and an overall accuracy of 62%. The ROC-AUC score of 0.664 marked an improvement, indicating a better discriminative ability of the model compared to random guessing, although highlighting that there is still potential for further enhancements. The use of Random Forest on a balanced dataset notably improved the model's capability to detect churn cases, showcasing its effectiveness over the logistic regression model used initially on an imbalanced dataset. Despite these advancements, the modest ROC-AUC scores from both models underscore the need for ongoing efforts to refine predictive accuracy and develop more sophisticated approaches to churn prediction."
   ]
  },
  {
   "cell_type": "markdown",
   "metadata": {},
   "source": [
    "#### Q3.3 Based on the analysis, suggest a model to the head of marketing and an application scenario. Please justify your decisions. (10 points)"
   ]
  },
  {
   "cell_type": "markdown",
   "metadata": {},
   "source": [
    "Given the modest ROC-AUC scores observed from both the logistic regression and Random Forest models, it becomes evident that while these models provide a foundational understanding of customer churn at ABC Insurance, they fall short of the accuracy needed for effective prediction and intervention. The ROC-AUC scores, indicative of the models' ability to distinguish between churned and non-churned customers, suggest a need for further refinement and exploration of more sophisticated modeling techniques to enhance predictive accuracy.\n",
    "\n",
    "In light of this, while the Random Forest model, trained on the full dataset, represents an advancement over simplistic approaches by leveraging the entire spectrum of data and addressing class imbalance through intelligent strategies, its deployment for operational decision-making should be approached with caution. The insights gained from the current modeling efforts should be utilized as a basis for further research and development rather than for immediate implementation in marketing strategies aimed at reducing churn. \n",
    "\n",
    "The emphasis should be on continuing to explore and experiment with advanced analytical techniques. Additionally, incorporating more granular customer data, exploring alternative feature engineering strategies, and leveraging domain expertise could uncover new dimensions of customer behavior not captured by the initial models. \n",
    "\n",
    "In summary, while the analysis provides valuable insights into churn dynamics and the potential of machine learning models to identify at-risk customers, the journey towards developing a highly accurate predictive model necessitates ongoing efforts, experimentation, and a cautious approach to implementation. It's imperative that ABC Insurance continues to refine its analytical models, ensuring that any strategy deployed is backed by robust and reliable predictive performance."
   ]
  }
 ],
 "metadata": {
  "kernelspec": {
   "display_name": "base",
   "language": "python",
   "name": "python3"
  },
  "language_info": {
   "codemirror_mode": {
    "name": "ipython",
    "version": 3
   },
   "file_extension": ".py",
   "mimetype": "text/x-python",
   "name": "python",
   "nbconvert_exporter": "python",
   "pygments_lexer": "ipython3",
   "version": "3.11.3"
  },
  "orig_nbformat": 4
 },
 "nbformat": 4,
 "nbformat_minor": 2
}
